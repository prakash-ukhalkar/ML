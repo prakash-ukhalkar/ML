{
 "cells": [
  {
   "cell_type": "markdown",
   "metadata": {},
   "source": [
    "### **Random Forest: The Power of the Ensemble**\n",
    "\n",
    "* Random Forest is a supervised machine learning algorithm that is part of a family of methods called **ensemble learning**. \n",
    "\n",
    "* Instead of relying on a single, powerful model, an ensemble method combines the predictions from multiple simpler models to achieve a more accurate and robust result.\n",
    "\n",
    "* Think of it like this: If you want to predict the outcome of a complex situation, you would get a more reliable answer by asking a diverse group of experts and then combining their opinions, rather than relying on just one expert. Random Forest applies this same logic to machine learning.\n",
    "\n",
    "#### Key Concepts\n",
    "\n",
    "* **Ensemble of Decision Trees**: A Random Forest model is, as its name suggests, a collection (or \"forest\") of individual Decision Trees. Each tree is trained independently on a different subset of the data.\n",
    "\n",
    "* **Randomness in the Training Process**: The \"random\" in Random Forest comes from two key mechanisms that ensure the trees are diverse:\n",
    "    1.  **Random Subsets of Data**: Each tree is trained on a different, random sample of the training data. This process is called **bagging** (Bootstrap Aggregation).\n",
    "\n",
    "    2.  **Random Subsets of Features**: At each node of a Decision Tree, only a random subset of the total features is considered for the split. This prevents the model from relying too heavily on a single dominant feature and helps to decorrelate the trees.\n",
    "\n",
    "* **\"Voting\" for the Final Prediction**: When the Random Forest needs to make a prediction for a new data point, it passes the data point through all of its individual Decision Trees. For a classification problem, each tree \"votes\" for a class. The final prediction is the class that receives the majority of the votes.\n",
    "\n",
    "---\n",
    "\n",
    "#### Why Random Forest is so Powerful?\n",
    "\n",
    "* **Improved Accuracy**: By averaging the results of many trees, a Random Forest often achieves a higher accuracy than any single Decision Tree.\n",
    "\n",
    "* **Reduced Overfitting**: A single Decision Tree can be prone to overfitting, where it learns the training data too well and performs poorly on new data. The randomness in a Random Forest's training process helps prevent this.\n",
    "\n",
    "* **Feature Importance**: Random Forest can provide a measure of feature importance, helping you understand which features contributed most to the model's predictions.\n",
    "\n",
    "Visual illustration of the Random Forest concept:\n",
    "\n",
    "![Random_Forest_Classification](Random_Forest_Classification.png)\n",
    "\n",
    "---\n"
   ]
  },
  {
   "cell_type": "markdown",
   "id": "a4c56695",
   "metadata": {},
   "source": [
    "### **Key Parameters of `RandomForestClassifier()`**\n",
    "\n",
    "Understanding these parameters is crucial for fine-tuning your model. Think of them as dials you can turn to control the model's complexity and performance.\n",
    "\n",
    "* `n_estimators`: This is the **number of trees in the forest**. \n",
    "  * A larger number of trees generally leads to a more accurate and stable model, as it reduces the variance in predictions. However, it also increases the computational cost.\n",
    "\n",
    "* `max_depth`: This parameter controls the **maximum depth of each individual tree**. \n",
    "  * Limiting the depth prevents the trees from becoming too complex and overfitting the training data.\n",
    "\n",
    "* `random_state`: This is important for **reproducibility**. \n",
    "  * By setting a specific value, you ensure that the random selection of data samples and features is the same every time you run the code, leading to consistent results.\n",
    "\n",
    "* `max_features`: This parameter controls the **number of features** that the algorithm considers when looking for the best split at each node. \n",
    "  * This is a key mechanism for creating diversity among the trees and reducing overfitting.\n",
    "\n",
    "---"
   ]
  },
  {
   "cell_type": "markdown",
   "metadata": {},
   "source": [
    "### **Practical Example: Heart Disease Prediction**\n",
    "\n",
    "* In this notebook, we will use a Random Forest model to predict the presence of heart disease in patients. \n",
    "\n",
    "* This is a crucial task in healthcare, where an accurate, robust model can assist medical professionals in diagnosis. We will use a `heart_disease.csv` dataset with features like:\n",
    "\n",
    "  * **`age`**: The patient's age.\n",
    "  * **`cholesterol`**: The patient's cholesterol level.\n",
    "  * **`chest_pain_type`**: A categorical feature describing the type of chest pain.\n",
    "  * **`max_heart_rate`**: The patient's maximum heart rate achieved during exercise.\n",
    "\n",
    "* The target variable we want to predict is **`heart_disease`** (`1` for presence, `0` for absence)."
   ]
  },
  {
   "cell_type": "markdown",
   "metadata": {},
   "source": [
    "#### Step 1: Import Libraries,Load and Explore Dataset\n",
    "\n",
    "* First, we'll import the essential libraries. \n",
    "* We'll then load and explore dataset for our analysis."
   ]
  },
  {
   "cell_type": "code",
   "execution_count": null,
   "metadata": {},
   "outputs": [],
   "source": [
    "# Import the necessary libraries\n",
    "import pandas as pd\n",
    "import numpy as np\n",
    "from sklearn.model_selection import train_test_split\n",
    "from sklearn.ensemble import RandomForestClassifier\n",
    "from sklearn.preprocessing import LabelEncoder\n",
    "from sklearn.metrics import confusion_matrix, classification_report, accuracy_score\n",
    "import matplotlib.pyplot as plt\n",
    "import seaborn as sns"
   ]
  },
  {
   "cell_type": "code",
   "execution_count": 44,
   "id": "4766a993",
   "metadata": {},
   "outputs": [
    {
     "name": "stdout",
     "output_type": "stream",
     "text": [
      "--- First 5 rows of the dataset ---\n"
     ]
    },
    {
     "data": {
      "text/html": [
       "<div>\n",
       "<style scoped>\n",
       "    .dataframe tbody tr th:only-of-type {\n",
       "        vertical-align: middle;\n",
       "    }\n",
       "\n",
       "    .dataframe tbody tr th {\n",
       "        vertical-align: top;\n",
       "    }\n",
       "\n",
       "    .dataframe thead th {\n",
       "        text-align: right;\n",
       "    }\n",
       "</style>\n",
       "<table border=\"1\" class=\"dataframe\">\n",
       "  <thead>\n",
       "    <tr style=\"text-align: right;\">\n",
       "      <th></th>\n",
       "      <th>age</th>\n",
       "      <th>cholesterol</th>\n",
       "      <th>chest_pain_type</th>\n",
       "      <th>max_heart_rate</th>\n",
       "      <th>heart_disease</th>\n",
       "    </tr>\n",
       "  </thead>\n",
       "  <tbody>\n",
       "    <tr>\n",
       "      <th>0</th>\n",
       "      <td>67</td>\n",
       "      <td>286</td>\n",
       "      <td>atypical angina</td>\n",
       "      <td>122</td>\n",
       "      <td>1</td>\n",
       "    </tr>\n",
       "    <tr>\n",
       "      <th>1</th>\n",
       "      <td>57</td>\n",
       "      <td>293</td>\n",
       "      <td>typical angina</td>\n",
       "      <td>149</td>\n",
       "      <td>1</td>\n",
       "    </tr>\n",
       "    <tr>\n",
       "      <th>2</th>\n",
       "      <td>43</td>\n",
       "      <td>253</td>\n",
       "      <td>typical angina</td>\n",
       "      <td>100</td>\n",
       "      <td>1</td>\n",
       "    </tr>\n",
       "    <tr>\n",
       "      <th>3</th>\n",
       "      <td>71</td>\n",
       "      <td>164</td>\n",
       "      <td>typical angina</td>\n",
       "      <td>176</td>\n",
       "      <td>0</td>\n",
       "    </tr>\n",
       "    <tr>\n",
       "      <th>4</th>\n",
       "      <td>36</td>\n",
       "      <td>207</td>\n",
       "      <td>non-anginal pain</td>\n",
       "      <td>121</td>\n",
       "      <td>0</td>\n",
       "    </tr>\n",
       "  </tbody>\n",
       "</table>\n",
       "</div>"
      ],
      "text/plain": [
       "   age  cholesterol   chest_pain_type  max_heart_rate  heart_disease\n",
       "0   67          286   atypical angina             122              1\n",
       "1   57          293    typical angina             149              1\n",
       "2   43          253    typical angina             100              1\n",
       "3   71          164    typical angina             176              0\n",
       "4   36          207  non-anginal pain             121              0"
      ]
     },
     "execution_count": 44,
     "metadata": {},
     "output_type": "execute_result"
    }
   ],
   "source": [
    "# Load the data\n",
    "df = pd.read_csv('heart_disease.csv')\n",
    "\n",
    "print(\"--- First 5 rows of the dataset ---\")\n",
    "df.head()"
   ]
  },
  {
   "cell_type": "code",
   "execution_count": 45,
   "id": "b47cb369",
   "metadata": {},
   "outputs": [
    {
     "name": "stdout",
     "output_type": "stream",
     "text": [
      "\n",
      "--- Dataset Info ---\n",
      "<class 'pandas.core.frame.DataFrame'>\n",
      "RangeIndex: 250 entries, 0 to 249\n",
      "Data columns (total 5 columns):\n",
      " #   Column           Non-Null Count  Dtype \n",
      "---  ------           --------------  ----- \n",
      " 0   age              250 non-null    int64 \n",
      " 1   cholesterol      250 non-null    int64 \n",
      " 2   chest_pain_type  250 non-null    object\n",
      " 3   max_heart_rate   250 non-null    int64 \n",
      " 4   heart_disease    250 non-null    int64 \n",
      "dtypes: int64(4), object(1)\n",
      "memory usage: 9.9+ KB\n"
     ]
    }
   ],
   "source": [
    "print(\"\\n--- Dataset Info ---\")\n",
    "df.info()"
   ]
  },
  {
   "cell_type": "markdown",
   "metadata": {},
   "source": [
    "#### Step 2: Data Preprocessing\n",
    "\n",
    "* Random Forest models in `scikit-learn` work with numerical data. \n",
    "\n",
    "* Our dataset contains a categorical feature, `chest_pain_type`, which needs to be converted into a numerical format. \n",
    "\n",
    "* We will use `LabelEncoder` to transform the pain types into numerical representations."
   ]
  },
  {
   "cell_type": "code",
   "execution_count": 46,
   "metadata": {},
   "outputs": [
    {
     "name": "stdout",
     "output_type": "stream",
     "text": [
      "--- DataFrame after Label Encoding ---\n"
     ]
    },
    {
     "data": {
      "text/html": [
       "<div>\n",
       "<style scoped>\n",
       "    .dataframe tbody tr th:only-of-type {\n",
       "        vertical-align: middle;\n",
       "    }\n",
       "\n",
       "    .dataframe tbody tr th {\n",
       "        vertical-align: top;\n",
       "    }\n",
       "\n",
       "    .dataframe thead th {\n",
       "        text-align: right;\n",
       "    }\n",
       "</style>\n",
       "<table border=\"1\" class=\"dataframe\">\n",
       "  <thead>\n",
       "    <tr style=\"text-align: right;\">\n",
       "      <th></th>\n",
       "      <th>age</th>\n",
       "      <th>cholesterol</th>\n",
       "      <th>chest_pain_type</th>\n",
       "      <th>max_heart_rate</th>\n",
       "      <th>heart_disease</th>\n",
       "      <th>chest_pain_type_n</th>\n",
       "    </tr>\n",
       "  </thead>\n",
       "  <tbody>\n",
       "    <tr>\n",
       "      <th>0</th>\n",
       "      <td>67</td>\n",
       "      <td>286</td>\n",
       "      <td>atypical angina</td>\n",
       "      <td>122</td>\n",
       "      <td>1</td>\n",
       "      <td>0</td>\n",
       "    </tr>\n",
       "    <tr>\n",
       "      <th>1</th>\n",
       "      <td>57</td>\n",
       "      <td>293</td>\n",
       "      <td>typical angina</td>\n",
       "      <td>149</td>\n",
       "      <td>1</td>\n",
       "      <td>2</td>\n",
       "    </tr>\n",
       "    <tr>\n",
       "      <th>2</th>\n",
       "      <td>43</td>\n",
       "      <td>253</td>\n",
       "      <td>typical angina</td>\n",
       "      <td>100</td>\n",
       "      <td>1</td>\n",
       "      <td>2</td>\n",
       "    </tr>\n",
       "    <tr>\n",
       "      <th>3</th>\n",
       "      <td>71</td>\n",
       "      <td>164</td>\n",
       "      <td>typical angina</td>\n",
       "      <td>176</td>\n",
       "      <td>0</td>\n",
       "      <td>2</td>\n",
       "    </tr>\n",
       "    <tr>\n",
       "      <th>4</th>\n",
       "      <td>36</td>\n",
       "      <td>207</td>\n",
       "      <td>non-anginal pain</td>\n",
       "      <td>121</td>\n",
       "      <td>0</td>\n",
       "      <td>1</td>\n",
       "    </tr>\n",
       "  </tbody>\n",
       "</table>\n",
       "</div>"
      ],
      "text/plain": [
       "   age  cholesterol   chest_pain_type  max_heart_rate  heart_disease  \\\n",
       "0   67          286   atypical angina             122              1   \n",
       "1   57          293    typical angina             149              1   \n",
       "2   43          253    typical angina             100              1   \n",
       "3   71          164    typical angina             176              0   \n",
       "4   36          207  non-anginal pain             121              0   \n",
       "\n",
       "   chest_pain_type_n  \n",
       "0                  0  \n",
       "1                  2  \n",
       "2                  2  \n",
       "3                  2  \n",
       "4                  1  "
      ]
     },
     "execution_count": 46,
     "metadata": {},
     "output_type": "execute_result"
    }
   ],
   "source": [
    "# Create a LabelEncoder instance for the 'chest_pain_type' column\n",
    "le_pain = LabelEncoder()\n",
    "\n",
    "# Apply the LabelEncoder to the 'chest_pain_type' column to create a new numerical column\n",
    "df['chest_pain_type_n'] = le_pain.fit_transform(df['chest_pain_type'])\n",
    "\n",
    "# Display the DataFrame with the new numerical column\n",
    "print(\"--- DataFrame after Label Encoding ---\")\n",
    "df.head()"
   ]
  },
  {
   "cell_type": "markdown",
   "metadata": {},
   "source": [
    "#### Step 3: Define Features and Target\n",
    "\n",
    "* Now we'll separate our dataset into the features (`X`) that the model will use for prediction and the target variable (`y`) that we want to predict."
   ]
  },
  {
   "cell_type": "code",
   "execution_count": 47,
   "metadata": {},
   "outputs": [
    {
     "name": "stdout",
     "output_type": "stream",
     "text": [
      "Features (X) shape: (250, 4)\n",
      "Target (y) shape: (250,)\n"
     ]
    }
   ],
   "source": [
    "# Define features (X) using the numerical columns\n",
    "X = df[['age', 'cholesterol', 'chest_pain_type_n', 'max_heart_rate']]\n",
    "y = df['heart_disease']\n",
    "\n",
    "print(\"Features (X) shape:\", X.shape)\n",
    "print(\"Target (y) shape:\", y.shape)"
   ]
  },
  {
   "cell_type": "markdown",
   "metadata": {},
   "source": [
    "#### Step 4: Split Data into Training and Testing Sets\n",
    "\n",
    "* To ensure our model can generalize well to new data, we split the dataset into a training set (80%) and a testing set (20%)."
   ]
  },
  {
   "cell_type": "code",
   "execution_count": 48,
   "metadata": {},
   "outputs": [
    {
     "name": "stdout",
     "output_type": "stream",
     "text": [
      "Training data size: 200\n",
      "Testing data size: 50\n"
     ]
    }
   ],
   "source": [
    "X_train, X_test, y_train, y_test = train_test_split(X, y, test_size=0.2, random_state=42)\n",
    "\n",
    "print(f\"Training data size: {len(X_train)}\")\n",
    "print(f\"Testing data size: {len(X_test)}\")"
   ]
  },
  {
   "cell_type": "markdown",
   "metadata": {},
   "source": [
    "#### Step 5: Create and Train the Random Forest Model\n",
    "\n",
    "* We instantiate the `RandomForestClassifier` and train it on our training data using the `fit()` method. \n",
    "\n",
    "* We'll start with a default of 100 trees, which is often a good starting point."
   ]
  },
  {
   "cell_type": "code",
   "execution_count": 49,
   "metadata": {},
   "outputs": [
    {
     "name": "stdout",
     "output_type": "stream",
     "text": [
      "Model training complete.\n"
     ]
    }
   ],
   "source": [
    "# Create an instance of the Random Forest Classifier with 100 trees\n",
    "model = RandomForestClassifier(n_estimators=100, random_state=42)\n",
    "\n",
    "# Fit the model to the training data\n",
    "model.fit(X_train, y_train)\n",
    "\n",
    "print(\"Model training complete.\")"
   ]
  },
  {
   "cell_type": "markdown",
   "metadata": {},
   "source": [
    "#### Step 6: Evaluate Model Performance\n",
    "\n",
    "* After training, we use the `score()` method to calculate the model's accuracy on the testing data. \n",
    "\n",
    "* A high accuracy score indicates that our ensemble of trees has successfully learned the patterns."
   ]
  },
  {
   "cell_type": "code",
   "execution_count": 50,
   "metadata": {},
   "outputs": [
    {
     "name": "stdout",
     "output_type": "stream",
     "text": [
      "Model Accuracy on Test Data: 0.92\n"
     ]
    }
   ],
   "source": [
    "# Evaluate the model accuracy\n",
    "accuracy = model.score(X_test, y_test)\n",
    "print(f\"Model Accuracy on Test Data: {accuracy:.2f}\")"
   ]
  },
  {
   "cell_type": "code",
   "execution_count": 51,
   "id": "df886bc0",
   "metadata": {},
   "outputs": [
    {
     "name": "stdout",
     "output_type": "stream",
     "text": [
      "\n",
      "--- Classification Report ---\n",
      "\n",
      "              precision    recall  f1-score   support\n",
      "\n",
      "           0       0.90      0.96      0.93        28\n",
      "           1       0.95      0.86      0.90        22\n",
      "\n",
      "    accuracy                           0.92        50\n",
      "   macro avg       0.93      0.91      0.92        50\n",
      "weighted avg       0.92      0.92      0.92        50\n",
      "\n"
     ]
    }
   ],
   "source": [
    "# We can also get predictions to see a more detailed report\n",
    "y_pred = model.predict(X_test)\n",
    "print(\"\\n--- Classification Report ---\\n\")\n",
    "print(classification_report(y_test, y_pred))"
   ]
  },
  {
   "cell_type": "markdown",
   "metadata": {},
   "source": [
    "#### Step 7: Analyze Feature Importance\n",
    "\n",
    "* One of the benefits of Random Forest is the ability to determine which features were most important for making predictions. \n",
    "\n",
    "* We can extract this information from the trained model to gain insights into the data."
   ]
  },
  {
   "cell_type": "code",
   "execution_count": 52,
   "metadata": {},
   "outputs": [
    {
     "data": {
      "image/png": "[encoded data removed]",
      "text/plain": [
       "<Figure size 1000x600 with 1 Axes>"
      ]
     },
     "metadata": {},
     "output_type": "display_data"
    }
   ],
   "source": [
    "# Feature Importance from Random Forest Classifier model\n",
    "feature_importances = pd.Series(model.feature_importances_, index=X.columns).sort_values(ascending=False)\n",
    "\n",
    "# Visualize the feature importances\n",
    "plt.figure(figsize=(10, 6))\n",
    "sns.barplot(x=feature_importances, y=feature_importances.index)\n",
    "plt.title('Feature Importance for Heart Disease Prediction')\n",
    "plt.xlabel('Importance Score')\n",
    "plt.ylabel('Feature')\n",
    "plt.show()"
   ]
  },
  {
   "cell_type": "markdown",
   "metadata": {},
   "source": [
    "#### Step 8: Make Predictions for a New Patient\n",
    "\n",
    "* Finally, we can use our trained model to predict the heart disease status of a new, hypothetical patient."
   ]
  },
  {
   "cell_type": "code",
   "execution_count": 58,
   "metadata": {},
   "outputs": [
    {
     "name": "stdout",
     "output_type": "stream",
     "text": [
      "This patient is predicted to have HEART DISEASE.\n"
     ]
    }
   ],
   "source": [
    "# Create a hypothetical new patient's data\n",
    "# Features: age=55, cholesterol=220, chest_pain_type='non-anginal pain' (n=2), max_heart_rate=145\n",
    "new_patient = pd.DataFrame({\n",
    "    'age': [55],\n",
    "    'cholesterol': [220],\n",
    "    'chest_pain_type_n': [2],\n",
    "    'max_heart_rate': [145]\n",
    "})\n",
    "\n",
    "# Make a prediction\n",
    "prediction = model.predict(new_patient)\n",
    "\n",
    "if prediction[0] == 1:\n",
    "    print(\"This patient is predicted to have HEART DISEASE.\")\n",
    "else:\n",
    "    print(\"This patient is predicted to NOT have HEART DISEASE.\")"
   ]
  },
  {
   "cell_type": "markdown",
   "metadata": {},
   "source": [
    "#### Summary\n",
    "\n",
    "* In this notebook, we successfully built and trained a Random Forest classifier to predict heart disease. We learned how to:\n",
    "\n",
    "  * **Understand the Concept**: We covered the core principles of Random Forest, including ensemble learning and the power of combining multiple Decision Trees.\n",
    "  \n",
    "  * **Handle Categorical Data**: We used `LabelEncoder` to transform the 'chest_pain_type' feature into a numerical format.\n",
    "\n",
    "  * **Evaluate Performance**: We calculated an accuracy score and a classification report to measure the model's effectiveness on unseen data.\n",
    "\n",
    "  * **Analyze Feature Importance**: We visualized which features were most influential in the model's predictions, providing valuable medical insights.\n",
    "\n",
    "  * **Make Predictions**: We used the trained model to make a prediction for a new patient, demonstrating its practical application. \n",
    "\n",
    "* This exercise highlights the robustness and insight-generating capabilities of the Random Forest algorithm.\n",
    "\n",
    "---"
   ]
  },
  {
   "cell_type": "markdown",
   "id": "f327fb78",
   "metadata": {},
   "source": [
    "#### **Exercise - Random Forest Classifier for Customer Satisfaction**\n",
    "\n",
    "##### Problem Statement\n",
    "\n",
    "* Develop a model that can predict customer satisfaction based on their purchasing behavior and product experience. \n",
    "\n",
    "* The goal is to predict whether a customer is **'Satisfied'** (1) or **'Dissatisfied'** (0) with a product. \n",
    "\n",
    "* Use a **Random Forest** classifier model for this task.\n",
    "\n",
    "##### Necessary Steps to be performed\n",
    "\n",
    "  1.  **Import Libraries, Load and Explore Dataset**: Import the necessary libraries, load and explore the `customer_satisfaction.csv` dataset for analysis.\n",
    "\n",
    "  2.  **Data Preprocessing**: Prepare the data for the model by converting categorical features into a numerical format.\n",
    "\n",
    "  3.  **Define Features and Target**: Separate the dataset into feature variables (`X`) and the target variable (`y`).\n",
    "\n",
    "  4.  **Split Data**: Divide the data into a training set and a testing set.\n",
    "\n",
    "  5.  **Create and Train Model**: Instantiate a `RandomForestClassifier` and train it on the training data.\n",
    "  \n",
    "  6.  **Evaluate Model Performance**: Test the model's accuracy on the unseen data.\n",
    "\n",
    "  7.  **Analyze Feature Importance**: Analyze which features were most influential in the model's predictions.\n",
    "\n",
    "  8.  **Make Predictions**: Use the model to predict the satisfaction level for a new customer.\n",
    "\n",
    "---\n"
   ]
  },
  {
   "cell_type": "markdown",
   "id": "92d22971",
   "metadata": {},
   "source": [
    "* Donwload Dataset:  [customer_satisfaction.csv](https://raw.githubusercontent.com/prakash-ukhalkar/ML/refs/heads/main/09_Random_Forest_Classification_ML/01_Exercise_Random_Forest_Classification_ML/customer_satisfaction.csv)\n",
    "* Solution : [Exercise - Random Forest Classifier for Customer Satisfaction](https://github.com/prakash-ukhalkar/ML/blob/main/09_Random_Forest_Classification_ML/01_Exercise_Random_Forest_Classification_ML/01_Exercise_Random_Forest_Classification_ML.ipynb)\n",
    "\n",
    "---"
   ]
  }
 ],
 "metadata": {
  "kernelspec": {
   "display_name": "Python 3",
   "language": "python",
   "name": "python3"
  },
  "language_info": {
   "codemirror_mode": {
    "name": "ipython",
    "version": 3
   },
   "file_extension": ".py",
   "mimetype": "text/x-python",
   "name": "python",
   "nbconvert_exporter": "python",
   "pygments_lexer": "ipython3",
   "version": "3.13.0"
  }
 },
 "nbformat": 4,
 "nbformat_minor": 5
}
