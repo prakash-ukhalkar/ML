{
 "cells": [
  {
   "cell_type": "markdown",
   "metadata": {},
   "source": [
    "### **Exercise - Random Forest Classifier for Customer Satisfaction**\n",
    "\n",
    "#### Problem Statement\n",
    "\n",
    "* We will develop a model that can predict customer satisfaction based on their purchasing behavior and product experience. \n",
    "\n",
    "* The goal is to predict whether a customer is **'Satisfied'** (1) or **'Dissatisfied'** (0) with a product. \n",
    "\n",
    "* We will use a `customer_satisfaction.csv` dataset with features like:\n",
    "\n",
    "  * **`purchase_frequency`**: How often a customer buys products.\n",
    "  * **`support_calls`**: The number of times a customer calls support.\n",
    "  * **`product_quality`**: A rating of the product quality.\n",
    "  * **`return_rate`**: The percentage of products returned.\n",
    "\n",
    "* We will use a **Random Forest** classifier model for this task, leveraging its ability to produce highly accurate predictions and provide insights into which factors are most important for customer satisfaction.\n",
    "\n",
    "#### Necessary Steps to be performed\n",
    "\n",
    "  1.  **Import Libraries, Load and Explore Dataset**: Import the necessary libraries, load and explore the `customer_satisfaction.csv` dataset for analysis.\n",
    "\n",
    "  2.  **Data Preprocessing**: Prepare the data for the model by converting categorical features into a numerical format.\n",
    "\n",
    "  3.  **Define Features and Target**: Separate the dataset into feature variables (`X`) and the target variable (`y`).\n",
    "\n",
    "  4.  **Split Data**: Divide the data into a training set and a testing set.\n",
    "\n",
    "  5.  **Create and Train Model**: Instantiate a `RandomForestClassifier` and train it on the training data.\n",
    "  \n",
    "  6.  **Evaluate Model Performance**: Test the model's accuracy on the unseen data.\n",
    "\n",
    "  7.  **Analyze Feature Importance**: Analyze which features were most influential in the model's predictions.\n",
    "\n",
    "  8.  **Make Predictions**: Use the model to predict the satisfaction level for a new customer.\n",
    "\n",
    "---\n"
   ]
  },
  {
   "cell_type": "markdown",
   "metadata": {},
   "source": [
    "### Step 1: Import Libraries, Load and Explore Dataset\n",
    "\n",
    "* First, we'll import the essential libraries, load and explore dataset for our analysis."
   ]
  },
  {
   "cell_type": "code",
   "execution_count": 13,
   "metadata": {},
   "outputs": [],
   "source": [
    "# Import necessary libraries\n",
    "import pandas as pd\n",
    "import numpy as np\n",
    "from sklearn.model_selection import train_test_split\n",
    "from sklearn.ensemble import RandomForestClassifier\n",
    "from sklearn.preprocessing import LabelEncoder\n",
    "from sklearn.metrics import confusion_matrix, classification_report, accuracy_score\n",
    "import matplotlib.pyplot as plt\n",
    "import seaborn as sns\n"
   ]
  },
  {
   "cell_type": "code",
   "execution_count": 14,
   "id": "fc47bf4f",
   "metadata": {},
   "outputs": [
    {
     "name": "stdout",
     "output_type": "stream",
     "text": [
      "--- First 5 rows of the dataset ---\n"
     ]
    },
    {
     "data": {
      "text/html": [
       "<div>\n",
       "<style scoped>\n",
       "    .dataframe tbody tr th:only-of-type {\n",
       "        vertical-align: middle;\n",
       "    }\n",
       "\n",
       "    .dataframe tbody tr th {\n",
       "        vertical-align: top;\n",
       "    }\n",
       "\n",
       "    .dataframe thead th {\n",
       "        text-align: right;\n",
       "    }\n",
       "</style>\n",
       "<table border=\"1\" class=\"dataframe\">\n",
       "  <thead>\n",
       "    <tr style=\"text-align: right;\">\n",
       "      <th></th>\n",
       "      <th>purchase_frequency</th>\n",
       "      <th>support_calls</th>\n",
       "      <th>product_quality</th>\n",
       "      <th>return_rate</th>\n",
       "      <th>satisfaction</th>\n",
       "    </tr>\n",
       "  </thead>\n",
       "  <tbody>\n",
       "    <tr>\n",
       "      <th>0</th>\n",
       "      <td>7</td>\n",
       "      <td>1</td>\n",
       "      <td>High</td>\n",
       "      <td>0.063058</td>\n",
       "      <td>1</td>\n",
       "    </tr>\n",
       "    <tr>\n",
       "      <th>1</th>\n",
       "      <td>4</td>\n",
       "      <td>1</td>\n",
       "      <td>Low</td>\n",
       "      <td>0.107898</td>\n",
       "      <td>1</td>\n",
       "    </tr>\n",
       "    <tr>\n",
       "      <th>2</th>\n",
       "      <td>13</td>\n",
       "      <td>5</td>\n",
       "      <td>Medium</td>\n",
       "      <td>0.158145</td>\n",
       "      <td>0</td>\n",
       "    </tr>\n",
       "    <tr>\n",
       "      <th>3</th>\n",
       "      <td>11</td>\n",
       "      <td>0</td>\n",
       "      <td>High</td>\n",
       "      <td>0.063751</td>\n",
       "      <td>1</td>\n",
       "    </tr>\n",
       "    <tr>\n",
       "      <th>4</th>\n",
       "      <td>8</td>\n",
       "      <td>3</td>\n",
       "      <td>Medium</td>\n",
       "      <td>0.125178</td>\n",
       "      <td>1</td>\n",
       "    </tr>\n",
       "  </tbody>\n",
       "</table>\n",
       "</div>"
      ],
      "text/plain": [
       "   purchase_frequency  support_calls product_quality  return_rate  \\\n",
       "0                   7              1            High     0.063058   \n",
       "1                   4              1             Low     0.107898   \n",
       "2                  13              5          Medium     0.158145   \n",
       "3                  11              0            High     0.063751   \n",
       "4                   8              3          Medium     0.125178   \n",
       "\n",
       "   satisfaction  \n",
       "0             1  \n",
       "1             1  \n",
       "2             0  \n",
       "3             1  \n",
       "4             1  "
      ]
     },
     "execution_count": 14,
     "metadata": {},
     "output_type": "execute_result"
    }
   ],
   "source": [
    "# Load the data\n",
    "df = pd.read_csv('customer_satisfaction.csv')\n",
    "\n",
    "print(\"--- First 5 rows of the dataset ---\")\n",
    "df.head()"
   ]
  },
  {
   "cell_type": "code",
   "execution_count": 15,
   "id": "a0055821",
   "metadata": {},
   "outputs": [
    {
     "name": "stdout",
     "output_type": "stream",
     "text": [
      "\n",
      "--- Dataset info ---\n",
      "<class 'pandas.core.frame.DataFrame'>\n",
      "RangeIndex: 500 entries, 0 to 499\n",
      "Data columns (total 5 columns):\n",
      " #   Column              Non-Null Count  Dtype  \n",
      "---  ------              --------------  -----  \n",
      " 0   purchase_frequency  500 non-null    int64  \n",
      " 1   support_calls       500 non-null    int64  \n",
      " 2   product_quality     500 non-null    object \n",
      " 3   return_rate         500 non-null    float64\n",
      " 4   satisfaction        500 non-null    int64  \n",
      "dtypes: float64(1), int64(3), object(1)\n",
      "memory usage: 19.7+ KB\n"
     ]
    }
   ],
   "source": [
    "print(\"\\n--- Dataset info ---\")\n",
    "df.info()"
   ]
  },
  {
   "cell_type": "markdown",
   "metadata": {},
   "source": [
    "### Step 2: Data Preprocessing\n",
    "\n",
    "* Random Forest models in scikit-learn work with numerical data. \n",
    "\n",
    "* Our dataset contains a categorical feature, `product_quality`, which needs to be converted into a numerical format. \n",
    "\n",
    "* We will use `LabelEncoder` to transform 'High', 'Medium', and 'Low' into numerical values."
   ]
  },
  {
   "cell_type": "code",
   "execution_count": 17,
   "metadata": {},
   "outputs": [
    {
     "name": "stdout",
     "output_type": "stream",
     "text": [
      "--- DataFrame after Label Encoding ---\n"
     ]
    },
    {
     "data": {
      "text/html": [
       "<div>\n",
       "<style scoped>\n",
       "    .dataframe tbody tr th:only-of-type {\n",
       "        vertical-align: middle;\n",
       "    }\n",
       "\n",
       "    .dataframe tbody tr th {\n",
       "        vertical-align: top;\n",
       "    }\n",
       "\n",
       "    .dataframe thead th {\n",
       "        text-align: right;\n",
       "    }\n",
       "</style>\n",
       "<table border=\"1\" class=\"dataframe\">\n",
       "  <thead>\n",
       "    <tr style=\"text-align: right;\">\n",
       "      <th></th>\n",
       "      <th>purchase_frequency</th>\n",
       "      <th>support_calls</th>\n",
       "      <th>product_quality</th>\n",
       "      <th>return_rate</th>\n",
       "      <th>satisfaction</th>\n",
       "      <th>product_quality_n</th>\n",
       "    </tr>\n",
       "  </thead>\n",
       "  <tbody>\n",
       "    <tr>\n",
       "      <th>0</th>\n",
       "      <td>7</td>\n",
       "      <td>1</td>\n",
       "      <td>High</td>\n",
       "      <td>0.063058</td>\n",
       "      <td>1</td>\n",
       "      <td>0</td>\n",
       "    </tr>\n",
       "    <tr>\n",
       "      <th>1</th>\n",
       "      <td>4</td>\n",
       "      <td>1</td>\n",
       "      <td>Low</td>\n",
       "      <td>0.107898</td>\n",
       "      <td>1</td>\n",
       "      <td>1</td>\n",
       "    </tr>\n",
       "    <tr>\n",
       "      <th>2</th>\n",
       "      <td>13</td>\n",
       "      <td>5</td>\n",
       "      <td>Medium</td>\n",
       "      <td>0.158145</td>\n",
       "      <td>0</td>\n",
       "      <td>2</td>\n",
       "    </tr>\n",
       "    <tr>\n",
       "      <th>3</th>\n",
       "      <td>11</td>\n",
       "      <td>0</td>\n",
       "      <td>High</td>\n",
       "      <td>0.063751</td>\n",
       "      <td>1</td>\n",
       "      <td>0</td>\n",
       "    </tr>\n",
       "    <tr>\n",
       "      <th>4</th>\n",
       "      <td>8</td>\n",
       "      <td>3</td>\n",
       "      <td>Medium</td>\n",
       "      <td>0.125178</td>\n",
       "      <td>1</td>\n",
       "      <td>2</td>\n",
       "    </tr>\n",
       "  </tbody>\n",
       "</table>\n",
       "</div>"
      ],
      "text/plain": [
       "   purchase_frequency  support_calls product_quality  return_rate  \\\n",
       "0                   7              1            High     0.063058   \n",
       "1                   4              1             Low     0.107898   \n",
       "2                  13              5          Medium     0.158145   \n",
       "3                  11              0            High     0.063751   \n",
       "4                   8              3          Medium     0.125178   \n",
       "\n",
       "   satisfaction  product_quality_n  \n",
       "0             1                  0  \n",
       "1             1                  1  \n",
       "2             0                  2  \n",
       "3             1                  0  \n",
       "4             1                  2  "
      ]
     },
     "execution_count": 17,
     "metadata": {},
     "output_type": "execute_result"
    }
   ],
   "source": [
    "# Create a LabelEncoder instance\n",
    "le_quality = LabelEncoder()\n",
    "\n",
    "# Apply LabelEncoder to the 'product_quality' column\n",
    "df['product_quality_n'] = le_quality.fit_transform(df['product_quality'])\n",
    "\n",
    "# Display the DataFrame with the new numerical column\n",
    "print(\"--- DataFrame after Label Encoding ---\")\n",
    "df.head()"
   ]
  },
  {
   "cell_type": "markdown",
   "metadata": {},
   "source": [
    "### Step 3: Define Features and Target\n",
    "\n",
    "* We now separate our data into features (`X`) and the target variable (`y`). \n",
    "\n",
    "* The features will be the numerical columns we use to make predictions, and the target will be the `satisfaction` column we want to predict."
   ]
  },
  {
   "cell_type": "code",
   "execution_count": 18,
   "metadata": {},
   "outputs": [
    {
     "name": "stdout",
     "output_type": "stream",
     "text": [
      "Features (X) shape: (500, 4)\n",
      "Target (y) shape: (500,)\n"
     ]
    }
   ],
   "source": [
    "# Define features (X) using the numerical columns\n",
    "X = df[['purchase_frequency', 'support_calls', 'product_quality_n', 'return_rate']]\n",
    "y = df['satisfaction']\n",
    "\n",
    "print(\"Features (X) shape:\", X.shape)\n",
    "print(\"Target (y) shape:\", y.shape)"
   ]
  },
  {
   "cell_type": "markdown",
   "metadata": {},
   "source": [
    "### Step 4: Split Data into Training and Testing Sets\n",
    "\n",
    "* To evaluate our model's performance on unseen data, we'll split the dataset into a training set (80%) and a testing set (20%)."
   ]
  },
  {
   "cell_type": "code",
   "execution_count": 25,
   "metadata": {},
   "outputs": [
    {
     "name": "stdout",
     "output_type": "stream",
     "text": [
      "Training data size: 400\n",
      "Testing data size: 100\n"
     ]
    }
   ],
   "source": [
    "X_train, X_test, y_train, y_test = train_test_split(X, y, test_size=0.2, random_state=42)\n",
    "\n",
    "print(f\"Training data size: {len(X_train)}\")\n",
    "print(f\"Testing data size: {len(X_test)}\")"
   ]
  },
  {
   "cell_type": "markdown",
   "metadata": {},
   "source": [
    "### Step 5: Create and Train the Random Forest Model\n",
    "\n",
    "* We instantiate the `RandomForestClassifier` and train it on our training data using the `fit()` method.\n",
    "\n",
    "* We'll start with 100 trees, which is often a good default value."
   ]
  },
  {
   "cell_type": "code",
   "execution_count": 30,
   "metadata": {},
   "outputs": [
    {
     "name": "stdout",
     "output_type": "stream",
     "text": [
      "Model training complete.\n"
     ]
    }
   ],
   "source": [
    "# Create an instance of the Random Forest Classifier with 100 trees\n",
    "model = RandomForestClassifier(n_estimators=100, random_state=42)\n",
    "\n",
    "# Fit the model to the training data\n",
    "model.fit(X_train, y_train)\n",
    "\n",
    "print(\"Model training complete.\")"
   ]
  },
  {
   "cell_type": "markdown",
   "metadata": {},
   "source": [
    "### Step 6: Evaluate Model Performance\n",
    "\n",
    "* After training, we use the `score()` method to calculate the model's accuracy on the testing data. \n",
    "\n",
    "* A high accuracy score indicates that our ensemble of trees has successfully learned the satisfaction patterns."
   ]
  },
  {
   "cell_type": "code",
   "execution_count": 34,
   "metadata": {},
   "outputs": [
    {
     "name": "stdout",
     "output_type": "stream",
     "text": [
      "Model Accuracy on Test Data: 0.88\n"
     ]
    }
   ],
   "source": [
    "# Evaluate the model's performance\n",
    "accuracy = model.score(X_test, y_test)\n",
    "print(f\"Model Accuracy on Test Data: {accuracy:.2f}\")"
   ]
  },
  {
   "cell_type": "code",
   "execution_count": 41,
   "id": "1074f313",
   "metadata": {},
   "outputs": [
    {
     "name": "stdout",
     "output_type": "stream",
     "text": [
      "\n",
      "--- Classification Report ---\n",
      "              precision    recall  f1-score   support\n",
      "\n",
      "           0       0.93      0.56      0.70        25\n",
      "           1       0.87      0.99      0.93        75\n",
      "\n",
      "    accuracy                           0.88       100\n",
      "   macro avg       0.90      0.77      0.81       100\n",
      "weighted avg       0.89      0.88      0.87       100\n",
      "\n"
     ]
    }
   ],
   "source": [
    "# We can also get predictions to see a more detailed report\n",
    "y_pred = model.predict(X_test)\n",
    "print(\"\\n--- Classification Report ---\")\n",
    "print(classification_report(y_test, y_pred))"
   ]
  },
  {
   "cell_type": "code",
   "execution_count": 43,
   "id": "a6a11fb2",
   "metadata": {},
   "outputs": [
    {
     "data": {
      "image/png": "[encoded data removed]",
      "text/plain": [
       "<Figure size 1000x800 with 2 Axes>"
      ]
     },
     "metadata": {},
     "output_type": "display_data"
    }
   ],
   "source": [
    "# Confusion Matrix\n",
    "confusion_mat = confusion_matrix(y_test, y_pred)\n",
    "\n",
    "# Confusion Matrix Visualization\n",
    "plt.figure(figsize=(10, 8))\n",
    "sns.heatmap(confusion_mat, annot=True, fmt='d', cmap='Blues')\n",
    "plt.title('Confusion Matrix for Customer Satisfaction (1: Satisfied, 0: Dissatisfied)')\n",
    "plt.xlabel('Predicted Label')\n",
    "plt.ylabel('True Label')\n",
    "plt.show()"
   ]
  },
  {
   "cell_type": "markdown",
   "metadata": {},
   "source": [
    "### Step 7: Analyze Feature Importance\n",
    "\n",
    "* One of the benefits of Random Forest is the ability to determine which features were most important for making predictions. \n",
    "\n",
    "* We can extract this information from the trained model to gain insights into the data."
   ]
  },
  {
   "cell_type": "code",
   "execution_count": 44,
   "metadata": {},
   "outputs": [
    {
     "data": {
      "image/png": "[encoded data removed]",
      "text/plain": [
       "<Figure size 1000x600 with 1 Axes>"
      ]
     },
     "metadata": {},
     "output_type": "display_data"
    }
   ],
   "source": [
    "# Feature Importance from the trained Random Forest Model\n",
    "feature_importances = pd.Series(model.feature_importances_, index=X.columns).sort_values(ascending=False)\n",
    "\n",
    "plt.figure(figsize=(10, 6))\n",
    "sns.barplot(x=feature_importances, y=feature_importances.index)\n",
    "plt.title('Feature Importance for Customer Satisfaction Prediction')\n",
    "plt.xlabel('Importance Score')\n",
    "plt.ylabel('Feature')\n",
    "plt.show()"
   ]
  },
  {
   "cell_type": "markdown",
   "metadata": {},
   "source": [
    "### Step 8: Make Predictions for a New Customer\n",
    "\n",
    "* Finally, we can use our trained model to predict the satisfaction status of a new, hypothetical customer."
   ]
  },
  {
   "cell_type": "code",
   "execution_count": 45,
   "metadata": {},
   "outputs": [
    {
     "name": "stdout",
     "output_type": "stream",
     "text": [
      "This customer is predicted to be SATISFIED.\n"
     ]
    }
   ],
   "source": [
    "# Create a hypothetical new customer's data\n",
    "# Features: purchase_frequency=10, support_calls=1, product_quality='High' (n=0), return_rate=0.05\n",
    "new_customer = pd.DataFrame({\n",
    "    'purchase_frequency': [10],\n",
    "    'support_calls': [1],\n",
    "    'product_quality_n': [0],\n",
    "    'return_rate': [0.05]\n",
    "})\n",
    "\n",
    "# Make a prediction\n",
    "prediction = model.predict(new_customer)\n",
    "\n",
    "if prediction[0] == 1:\n",
    "    print(\"This customer is predicted to be SATISFIED.\")\n",
    "else:\n",
    "    print(\"This customer is predicted to be DISSATISFIED.\")"
   ]
  },
  {
   "cell_type": "markdown",
   "metadata": {},
   "source": [
    "### Summary\n",
    "\n",
    "* In this notebook, we've successfully built and trained a Random Forest classifier to predict customer satisfaction. We learned how to:\n",
    "\n",
    "  * **Understand the Concept**: We covered the core principles of Random Forest, including ensemble learning and the power of combining multiple Decision Trees.\n",
    "\n",
    "  * **Handle Categorical Data**: We used `LabelEncoder` to transform the 'product_quality' feature into a numerical format.\n",
    "\n",
    "  * **Evaluate Performance**: We calculated an accuracy score and a classification report to measure the model's effectiveness on unseen data.\n",
    "\n",
    "  * **Analyze Feature Importance**: We visualized which features were most influential in the model's predictions, providing valuable business insights.\n",
    "\n",
    "  * **Make Predictions**: We used the trained model to make a prediction for a new customer, demonstrating its practical application. \n",
    "\n",
    "* This exercise highlights the robustness and insight-generating capabilities of the Random Forest algorithm.\n",
    "\n",
    "---"
   ]
  }
 ],
 "metadata": {
  "kernelspec": {
   "display_name": "Python 3",
   "language": "python",
   "name": "python3"
  },
  "language_info": {
   "codemirror_mode": {
    "name": "ipython",
    "version": 3
   },
   "file_extension": ".py",
   "mimetype": "text/x-python",
   "name": "python",
   "nbconvert_exporter": "python",
   "pygments_lexer": "ipython3",
   "version": "3.13.0"
  }
 },
 "nbformat": 4,
 "nbformat_minor": 5
}
