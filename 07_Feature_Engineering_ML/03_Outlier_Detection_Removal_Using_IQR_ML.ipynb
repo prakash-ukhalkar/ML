{
 "cells": [
  {
   "cell_type": "markdown",
   "metadata": {},
   "source": [
    "### **Feature Engineering: Outlier Detection using the Interquartile Range (IQR)**\n",
    "\n",
    "* As a data scientist, identifying and handling outliers is a key part of the data cleaning process. \n",
    "\n",
    "* The Interquartile Range (IQR) is a robust statistical method for finding these extreme values without being heavily influenced by them. \n",
    "\n",
    "* In this notebook, we'll apply this method to `employee_salaries.csv` dataset.\n",
    "\n",
    "* Outliers in this context might represent highly-paid executives (upper outliers) or entry-level interns (lower outliers), or potential data entry errors. \n",
    "\n",
    "* The IQR method is a great way to identify these data points programmatically.\n",
    "\n",
    "##### **The IQR Method:**\n",
    "\n",
    "* The IQR is the range between the first quartile (Q1) and the third quartile (Q3). \n",
    "\n",
    "* An outlier is typically defined as any data point that falls outside the following range:\n",
    "\n",
    "  * **Lower Limit**: $Q1 - 1.5 \\times IQR$\n",
    "  * **Upper Limit**: $Q3 + 1.5 \\times IQR$\n"
   ]
  },
  {
   "cell_type": "markdown",
   "metadata": {},
   "source": [
    "### Step 1: Import Libraries and Load Dataset\n",
    "\n",
    "* We start by importing the necessary libraries: `pandas` for data handling, and `matplotlib` and `seaborn` for visualization. \n",
    "\n",
    "* We'll then load our dataset `employee_salaries.csv` and get a first look at the data's structure and descriptive statistics."
   ]
  },
  {
   "cell_type": "code",
   "execution_count": 2,
   "metadata": {},
   "outputs": [],
   "source": [
    "# Import the necessary libraries\n",
    "import pandas as pd\n",
    "import numpy as np\n",
    "import matplotlib.pyplot as plt\n",
    "import seaborn as sns"
   ]
  },
  {
   "cell_type": "code",
   "execution_count": 3,
   "id": "dcf55029",
   "metadata": {},
   "outputs": [
    {
     "name": "stdout",
     "output_type": "stream",
     "text": [
      "--- First 5 rows of the dataset ---\n"
     ]
    },
    {
     "data": {
      "text/html": [
       "<div>\n",
       "<style scoped>\n",
       "    .dataframe tbody tr th:only-of-type {\n",
       "        vertical-align: middle;\n",
       "    }\n",
       "\n",
       "    .dataframe tbody tr th {\n",
       "        vertical-align: top;\n",
       "    }\n",
       "\n",
       "    .dataframe thead th {\n",
       "        text-align: right;\n",
       "    }\n",
       "</style>\n",
       "<table border=\"1\" class=\"dataframe\">\n",
       "  <thead>\n",
       "    <tr style=\"text-align: right;\">\n",
       "      <th></th>\n",
       "      <th>employee_id</th>\n",
       "      <th>department</th>\n",
       "      <th>salary_in_k</th>\n",
       "    </tr>\n",
       "  </thead>\n",
       "  <tbody>\n",
       "    <tr>\n",
       "      <th>0</th>\n",
       "      <td>E001</td>\n",
       "      <td>IT</td>\n",
       "      <td>60</td>\n",
       "    </tr>\n",
       "    <tr>\n",
       "      <th>1</th>\n",
       "      <td>E002</td>\n",
       "      <td>HR</td>\n",
       "      <td>55</td>\n",
       "    </tr>\n",
       "    <tr>\n",
       "      <th>2</th>\n",
       "      <td>E003</td>\n",
       "      <td>Finance</td>\n",
       "      <td>70</td>\n",
       "    </tr>\n",
       "    <tr>\n",
       "      <th>3</th>\n",
       "      <td>E004</td>\n",
       "      <td>IT</td>\n",
       "      <td>65</td>\n",
       "    </tr>\n",
       "    <tr>\n",
       "      <th>4</th>\n",
       "      <td>E005</td>\n",
       "      <td>Marketing</td>\n",
       "      <td>50</td>\n",
       "    </tr>\n",
       "  </tbody>\n",
       "</table>\n",
       "</div>"
      ],
      "text/plain": [
       "  employee_id department  salary_in_k\n",
       "0        E001         IT           60\n",
       "1        E002         HR           55\n",
       "2        E003    Finance           70\n",
       "3        E004         IT           65\n",
       "4        E005  Marketing           50"
      ]
     },
     "execution_count": 3,
     "metadata": {},
     "output_type": "execute_result"
    }
   ],
   "source": [
    "# Load the dataset\n",
    "df = pd.read_csv('employee_salaries.csv')\n",
    "\n",
    "print(\"--- First 5 rows of the dataset ---\")\n",
    "df.head()"
   ]
  },
  {
   "cell_type": "code",
   "execution_count": 4,
   "id": "281af0d0",
   "metadata": {},
   "outputs": [
    {
     "name": "stdout",
     "output_type": "stream",
     "text": [
      "\n",
      "--- Descriptive statistics of salaries ---\n"
     ]
    },
    {
     "data": {
      "text/plain": [
       "count    205.000000\n",
       "mean      61.843902\n",
       "std       11.990397\n",
       "min        5.000000\n",
       "25%       56.000000\n",
       "50%       61.000000\n",
       "75%       67.000000\n",
       "max      150.000000\n",
       "Name: salary_in_k, dtype: float64"
      ]
     },
     "execution_count": 4,
     "metadata": {},
     "output_type": "execute_result"
    }
   ],
   "source": [
    "print(\"\\n--- Descriptive statistics of salaries ---\")\n",
    "df['salary_in_k'].describe()"
   ]
  },
  {
   "cell_type": "markdown",
   "metadata": {},
   "source": [
    "### Step 2: Visualize the Data with a Box Plot\n",
    "\n",
    "* A box plot is the ideal visualization for the IQR method because it's built directly on the concepts of quartiles and whiskers. \n",
    "\n",
    "* The points that fall outside these whiskers are visually flagged as potential outliers."
   ]
  },
  {
   "cell_type": "code",
   "execution_count": 6,
   "metadata": {},
   "outputs": [
    {
     "data": {
      "image/png": "[encoded data removed]",
      "text/plain": [
       "<Figure size 1000x600 with 1 Axes>"
      ]
     },
     "metadata": {},
     "output_type": "display_data"
    }
   ],
   "source": [
    "# Box Plot to visualize the salary distribution and potential outliers\n",
    "plt.figure(figsize=(10, 6))\n",
    "sns.boxplot(x=df['salary_in_k'])\n",
    "plt.title('Box Plot of Employee Salaries')\n",
    "plt.xlabel('Salary (in thousands Rs.)')\n",
    "plt.show()"
   ]
  },
  {
   "cell_type": "markdown",
   "metadata": {},
   "source": [
    "### Step 3: Calculate IQR and Outlier Limits\n",
    "\n",
    "* Now we will calculate the first quartile (Q1), the third quartile (Q3), and the Interquartile Range (IQR). \n",
    "\n",
    "* We'll then use the IQR to define the specific numerical thresholds for our outliers."
   ]
  },
  {
   "cell_type": "code",
   "execution_count": 7,
   "metadata": {},
   "outputs": [
    {
     "name": "stdout",
     "output_type": "stream",
     "text": [
      "Q1 (25th percentile): 56.00k\n",
      "Q3 (75th percentile): 67.00k\n",
      "IQR: 11.00k\n"
     ]
    }
   ],
   "source": [
    "# Calculate Q1 and Q3\n",
    "Q1 = df['salary_in_k'].quantile(0.25)\n",
    "Q3 = df['salary_in_k'].quantile(0.75)\n",
    "\n",
    "# Calculate IQR\n",
    "IQR = Q3 - Q1\n",
    "\n",
    "print(f\"Q1 (25th percentile): {Q1:.2f}k\")\n",
    "print(f\"Q3 (75th percentile): {Q3:.2f}k\")\n",
    "print(f\"IQR: {IQR:.2f}k\")"
   ]
  },
  {
   "cell_type": "code",
   "execution_count": 8,
   "id": "f4ab99fe",
   "metadata": {},
   "outputs": [
    {
     "name": "stdout",
     "output_type": "stream",
     "text": [
      "\n",
      "Lower Limit: 39.50k\n",
      "Upper Limit: 83.50k\n"
     ]
    }
   ],
   "source": [
    "# Calculate the lower and upper limits for outlier detection\n",
    "lower_limit = Q1 - 1.5 * IQR\n",
    "upper_limit = Q3 + 1.5 * IQR\n",
    "\n",
    "print(f\"\\nLower Limit: {lower_limit:.2f}k\")\n",
    "print(f\"Upper Limit: {upper_limit:.2f}k\")"
   ]
  },
  {
   "cell_type": "markdown",
   "metadata": {},
   "source": [
    "### Step 4: Identify and Remove Outliers\n",
    "\n",
    "* Using the calculated limits, we can now filter our DataFrame to identify the outliers. \n",
    "\n",
    "* We will then create a new DataFrame that excludes these data points, leaving us with a cleaner dataset."
   ]
  },
  {
   "cell_type": "code",
   "execution_count": 10,
   "metadata": {},
   "outputs": [
    {
     "name": "stdout",
     "output_type": "stream",
     "text": [
      "--- Identified Outliers ---\n"
     ]
    },
    {
     "data": {
      "text/html": [
       "<div>\n",
       "<style scoped>\n",
       "    .dataframe tbody tr th:only-of-type {\n",
       "        vertical-align: middle;\n",
       "    }\n",
       "\n",
       "    .dataframe tbody tr th {\n",
       "        vertical-align: top;\n",
       "    }\n",
       "\n",
       "    .dataframe thead th {\n",
       "        text-align: right;\n",
       "    }\n",
       "</style>\n",
       "<table border=\"1\" class=\"dataframe\">\n",
       "  <thead>\n",
       "    <tr style=\"text-align: right;\">\n",
       "      <th></th>\n",
       "      <th>employee_id</th>\n",
       "      <th>department</th>\n",
       "      <th>salary_in_k</th>\n",
       "    </tr>\n",
       "  </thead>\n",
       "  <tbody>\n",
       "    <tr>\n",
       "      <th>200</th>\n",
       "      <td>E201</td>\n",
       "      <td>IT</td>\n",
       "      <td>15</td>\n",
       "    </tr>\n",
       "    <tr>\n",
       "      <th>201</th>\n",
       "      <td>E202</td>\n",
       "      <td>Finance</td>\n",
       "      <td>125</td>\n",
       "    </tr>\n",
       "    <tr>\n",
       "      <th>202</th>\n",
       "      <td>E203</td>\n",
       "      <td>IT</td>\n",
       "      <td>10</td>\n",
       "    </tr>\n",
       "    <tr>\n",
       "      <th>203</th>\n",
       "      <td>E204</td>\n",
       "      <td>Marketing</td>\n",
       "      <td>5</td>\n",
       "    </tr>\n",
       "    <tr>\n",
       "      <th>204</th>\n",
       "      <td>E205</td>\n",
       "      <td>HR</td>\n",
       "      <td>150</td>\n",
       "    </tr>\n",
       "  </tbody>\n",
       "</table>\n",
       "</div>"
      ],
      "text/plain": [
       "    employee_id department  salary_in_k\n",
       "200        E201         IT           15\n",
       "201        E202    Finance          125\n",
       "202        E203         IT           10\n",
       "203        E204  Marketing            5\n",
       "204        E205         HR          150"
      ]
     },
     "execution_count": 10,
     "metadata": {},
     "output_type": "execute_result"
    }
   ],
   "source": [
    "# Display the outliers\n",
    "outliers = df[(df['salary_in_k'] < lower_limit) | (df.salary_in_k > upper_limit)]\n",
    "print(\"--- Identified Outliers ---\")\n",
    "outliers"
   ]
  },
  {
   "cell_type": "code",
   "execution_count": 11,
   "id": "6fb48c38",
   "metadata": {},
   "outputs": [
    {
     "name": "stdout",
     "output_type": "stream",
     "text": [
      "\n",
      "Original DataFrame shape: (205, 3)\n",
      "Cleaned DataFrame shape: (200, 3)\n"
     ]
    }
   ],
   "source": [
    "# Create a new DataFrame with outliers removed\n",
    "df_no_outlier = df[(df['salary_in_k'] >= lower_limit) & (df['salary_in_k'] <= upper_limit)]\n",
    "\n",
    "print(\"\\nOriginal DataFrame shape:\", df.shape)\n",
    "print(\"Cleaned DataFrame shape:\", df_no_outlier.shape)"
   ]
  },
  {
   "cell_type": "code",
   "execution_count": null,
   "id": "815caacb",
   "metadata": {},
   "outputs": [
    {
     "data": {
      "text/html": [
       "<div>\n",
       "<style scoped>\n",
       "    .dataframe tbody tr th:only-of-type {\n",
       "        vertical-align: middle;\n",
       "    }\n",
       "\n",
       "    .dataframe tbody tr th {\n",
       "        vertical-align: top;\n",
       "    }\n",
       "\n",
       "    .dataframe thead th {\n",
       "        text-align: right;\n",
       "    }\n",
       "</style>\n",
       "<table border=\"1\" class=\"dataframe\">\n",
       "  <thead>\n",
       "    <tr style=\"text-align: right;\">\n",
       "      <th></th>\n",
       "      <th>employee_id</th>\n",
       "      <th>department</th>\n",
       "      <th>salary_in_k</th>\n",
       "    </tr>\n",
       "  </thead>\n",
       "  <tbody>\n",
       "    <tr>\n",
       "      <th>0</th>\n",
       "      <td>E001</td>\n",
       "      <td>IT</td>\n",
       "      <td>60</td>\n",
       "    </tr>\n",
       "    <tr>\n",
       "      <th>1</th>\n",
       "      <td>E002</td>\n",
       "      <td>HR</td>\n",
       "      <td>55</td>\n",
       "    </tr>\n",
       "    <tr>\n",
       "      <th>2</th>\n",
       "      <td>E003</td>\n",
       "      <td>Finance</td>\n",
       "      <td>70</td>\n",
       "    </tr>\n",
       "    <tr>\n",
       "      <th>3</th>\n",
       "      <td>E004</td>\n",
       "      <td>IT</td>\n",
       "      <td>65</td>\n",
       "    </tr>\n",
       "    <tr>\n",
       "      <th>4</th>\n",
       "      <td>E005</td>\n",
       "      <td>Marketing</td>\n",
       "      <td>50</td>\n",
       "    </tr>\n",
       "  </tbody>\n",
       "</table>\n",
       "</div>"
      ],
      "text/plain": [
       "  employee_id department  salary_in_k\n",
       "0        E001         IT           60\n",
       "1        E002         HR           55\n",
       "2        E003    Finance           70\n",
       "3        E004         IT           65\n",
       "4        E005  Marketing           50"
      ]
     },
     "execution_count": 12,
     "metadata": {},
     "output_type": "execute_result"
    }
   ],
   "source": [
    "# First five rows of the clean dataset\n",
    "df_no_outlier.head()"
   ]
  },
  {
   "cell_type": "markdown",
   "metadata": {},
   "source": [
    "### Step 5: Re-visualize and Summarize\n",
    "\n",
    "* To confirm our work, we will create a new box plot for the cleaned data. \n",
    "\n",
    "* This final visualization should show a more concentrated distribution with the extreme values successfully removed."
   ]
  },
  {
   "cell_type": "code",
   "execution_count": null,
   "metadata": {},
   "outputs": [
    {
     "data": {
      "image/png": "[encoded data removed]",
      "text/plain": [
       "<Figure size 1000x600 with 1 Axes>"
      ]
     },
     "metadata": {},
     "output_type": "display_data"
    }
   ],
   "source": [
    "plt.figure(figsize=(10, 6))\n",
    "sns.boxplot(x=df_no_outlier['salary_in_k'])\n",
    "plt.title('Box Plot of Cleaned Employee Salaries')\n",
    "plt.xlabel('Salary (in thousands Rs.)')\n",
    "plt.show()"
   ]
  },
  {
   "cell_type": "code",
   "execution_count": 18,
   "id": "e7f4cc3e",
   "metadata": {},
   "outputs": [
    {
     "name": "stdout",
     "output_type": "stream",
     "text": [
      "\n",
      "--- Descriptive statistics for the cleaned data ---\n"
     ]
    },
    {
     "data": {
      "text/plain": [
       "count    200.000000\n",
       "mean      61.865000\n",
       "std        6.893065\n",
       "min       50.000000\n",
       "25%       56.000000\n",
       "50%       61.000000\n",
       "75%       67.000000\n",
       "max       75.000000\n",
       "Name: salary_in_k, dtype: float64"
      ]
     },
     "execution_count": 18,
     "metadata": {},
     "output_type": "execute_result"
    }
   ],
   "source": [
    "print(\"\\n--- Descriptive statistics for the cleaned data ---\")\n",
    "df_no_outlier['salary_in_k'].describe()"
   ]
  },
  {
   "cell_type": "markdown",
   "metadata": {},
   "source": [
    "### Summary\n",
    "\n",
    "* In this notebook, we successfully applied the Interquartile Range (IQR) method to detect and remove outliers from a dataset of employee salaries. We learned how to:\n",
    "\n",
    "  * Use a box plot to visually inspect for outliers.\n",
    "  * Calculate Q1, Q3, and the IQR to set a statistical range for normal data points.\n",
    "  * Identify and filter out data points that fell outside the calculated limits.\n",
    "  * Confirm the removal of outliers with a final visualization and shape comparison, leading to a cleaner, more representative dataset for further analysis.\n",
    "\n",
    "---"
   ]
  },
  {
   "cell_type": "markdown",
   "id": "fd0b9a2f",
   "metadata": {},
   "source": [
    "#### **Exercise: Outlier Detection and Removal using Quantile, Standard Deviation, Z-score and IQR Methods**\n",
    "\n",
    "#### Problem Statement: Outlier Detection and Removal using various methods\n",
    "\n",
    "* You have been provided with a dataset `customer_profile.csv` containing features such as `Age`, `Income`, and `Spending_Score`. \n",
    "\n",
    "* Your task is to identify and remove outliers from these features using multiple data cleaning methods. \n",
    "\n",
    "**Tasks to be Performed:**\n",
    "\n",
    "1.  **Quantile Method:** Remove the most extreme outliers using the `[0.001, 0.999]` percentile range on the `Income` feature.\n",
    "2.  **Standard Deviation Method:** Apply the Standard Deviation method with a threshold of 3 on the `Spending_Score` feature.\n",
    "3.  **Z-Score Method (Manual):** Calculate Z-scores manually and use a threshold of `|Z| > 3` to remove outliers from the `Age` feature.\n",
    "4.  **Interquartile Range (IQR) Method:** Use the IQR method to identify and remove outliers from the `Income` feature.\n",
    "5.  **Visualize and Compare:** Use plots to visualize the data distribution before and after each method to understand the effect of outlier removal.\n",
    "\n",
    "---"
   ]
  },
  {
   "cell_type": "markdown",
   "id": "7b7c01aa",
   "metadata": {},
   "source": [
    "* Donwload Dataset:  [customer_profile.csv](https://raw.githubusercontent.com/prakash-ukhalkar/ML/refs/heads/main/07_Feature_Engineering_ML/01_Exercise_Feature_Engineering_ML/customer_profile.csv)\n",
    "* Solution : [Exercise - Outlier Detection and Removal using Quantile, Standard Deviation, Z-score and IQR Methods](https://github.com/prakash-ukhalkar/ML/blob/main/07_Feature_Engineering_ML/01_Exercise_Feature_Engineering_ML/03_Exercise_Outlier_Detection_Removal_IQR_ML.ipynb)\n",
    "\n",
    "---"
   ]
  }
 ],
 "metadata": {
  "kernelspec": {
   "display_name": "Python 3",
   "language": "python",
   "name": "python3"
  },
  "language_info": {
   "codemirror_mode": {
    "name": "ipython",
    "version": 3
   },
   "file_extension": ".py",
   "mimetype": "text/x-python",
   "name": "python",
   "nbconvert_exporter": "python",
   "pygments_lexer": "ipython3",
   "version": "3.13.0"
  }
 },
 "nbformat": 4,
 "nbformat_minor": 5
}
