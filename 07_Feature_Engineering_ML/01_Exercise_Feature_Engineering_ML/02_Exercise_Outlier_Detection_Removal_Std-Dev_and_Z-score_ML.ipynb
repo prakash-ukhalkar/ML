{
 "cells": [
  {
   "cell_type": "markdown",
   "metadata": {},
   "source": [
    "### **Exercise: Outlier Detection and Removal using Quantile, Standard Deviation and Z-score Methods**\n",
    "\n",
    "This notebook provides the solution for exercise on outlier detection and removal using the Bangalore House Prices (`bhp.csv`) dataset. We will focus on two of the most common and effective methods:\n",
    "\n",
    "1.  **Percentile Method:** A non-parametric technique that is robust to extreme values.\n",
    "2.  **Standard Deviation and Z-Score Method:** A statistical approach most effective on data that follows a normal or Gaussian distribution.\n",
    "\n",
    "We will perform these steps end-to-end on the `price_per_sqft` column to clean our data and prepare it for building a robust machine learning model."
   ]
  },
  {
   "cell_type": "code",
   "execution_count": 1,
   "metadata": {},
   "outputs": [],
   "source": [
    "# Import necessary libraries\n",
    "import pandas as pd\n",
    "import numpy as np\n",
    "import matplotlib.pyplot as plt\n",
    "import seaborn as sns\n",
    "from scipy.stats import norm"
   ]
  },
  {
   "cell_type": "code",
   "execution_count": 2,
   "id": "8b9159fb",
   "metadata": {},
   "outputs": [
    {
     "data": {
      "text/html": [
       "<div>\n",
       "<style scoped>\n",
       "    .dataframe tbody tr th:only-of-type {\n",
       "        vertical-align: middle;\n",
       "    }\n",
       "\n",
       "    .dataframe tbody tr th {\n",
       "        vertical-align: top;\n",
       "    }\n",
       "\n",
       "    .dataframe thead th {\n",
       "        text-align: right;\n",
       "    }\n",
       "</style>\n",
       "<table border=\"1\" class=\"dataframe\">\n",
       "  <thead>\n",
       "    <tr style=\"text-align: right;\">\n",
       "      <th></th>\n",
       "      <th>location</th>\n",
       "      <th>size</th>\n",
       "      <th>total_sqft</th>\n",
       "      <th>bath</th>\n",
       "      <th>price</th>\n",
       "      <th>bhk</th>\n",
       "      <th>price_per_sqft</th>\n",
       "    </tr>\n",
       "  </thead>\n",
       "  <tbody>\n",
       "    <tr>\n",
       "      <th>0</th>\n",
       "      <td>Electronic City Phase II</td>\n",
       "      <td>2 BHK</td>\n",
       "      <td>1056.0</td>\n",
       "      <td>2.0</td>\n",
       "      <td>39.07</td>\n",
       "      <td>2</td>\n",
       "      <td>3699</td>\n",
       "    </tr>\n",
       "    <tr>\n",
       "      <th>1</th>\n",
       "      <td>Chikka Tirupathi</td>\n",
       "      <td>4 Bedroom</td>\n",
       "      <td>2600.0</td>\n",
       "      <td>5.0</td>\n",
       "      <td>120.00</td>\n",
       "      <td>4</td>\n",
       "      <td>4615</td>\n",
       "    </tr>\n",
       "    <tr>\n",
       "      <th>2</th>\n",
       "      <td>Uttarahalli</td>\n",
       "      <td>3 BHK</td>\n",
       "      <td>1440.0</td>\n",
       "      <td>2.0</td>\n",
       "      <td>62.00</td>\n",
       "      <td>3</td>\n",
       "      <td>4305</td>\n",
       "    </tr>\n",
       "    <tr>\n",
       "      <th>3</th>\n",
       "      <td>Lingadheeranahalli</td>\n",
       "      <td>3 BHK</td>\n",
       "      <td>1521.0</td>\n",
       "      <td>3.0</td>\n",
       "      <td>95.00</td>\n",
       "      <td>3</td>\n",
       "      <td>6245</td>\n",
       "    </tr>\n",
       "    <tr>\n",
       "      <th>4</th>\n",
       "      <td>Kothanur</td>\n",
       "      <td>2 BHK</td>\n",
       "      <td>1200.0</td>\n",
       "      <td>2.0</td>\n",
       "      <td>51.00</td>\n",
       "      <td>2</td>\n",
       "      <td>4250</td>\n",
       "    </tr>\n",
       "  </tbody>\n",
       "</table>\n",
       "</div>"
      ],
      "text/plain": [
       "                   location       size  total_sqft  bath   price  bhk  \\\n",
       "0  Electronic City Phase II      2 BHK      1056.0   2.0   39.07    2   \n",
       "1          Chikka Tirupathi  4 Bedroom      2600.0   5.0  120.00    4   \n",
       "2               Uttarahalli      3 BHK      1440.0   2.0   62.00    3   \n",
       "3        Lingadheeranahalli      3 BHK      1521.0   3.0   95.00    3   \n",
       "4                  Kothanur      2 BHK      1200.0   2.0   51.00    2   \n",
       "\n",
       "   price_per_sqft  \n",
       "0            3699  \n",
       "1            4615  \n",
       "2            4305  \n",
       "3            6245  \n",
       "4            4250  "
      ]
     },
     "execution_count": 2,
     "metadata": {},
     "output_type": "execute_result"
    }
   ],
   "source": [
    "# Load the dataset\n",
    "df = pd.read_csv('bhp.csv')\n",
    "df.head()"
   ]
  },
  {
   "cell_type": "code",
   "execution_count": 3,
   "metadata": {},
   "outputs": [
    {
     "data": {
      "text/html": [
       "<div>\n",
       "<style scoped>\n",
       "    .dataframe tbody tr th:only-of-type {\n",
       "        vertical-align: middle;\n",
       "    }\n",
       "\n",
       "    .dataframe tbody tr th {\n",
       "        vertical-align: top;\n",
       "    }\n",
       "\n",
       "    .dataframe thead th {\n",
       "        text-align: right;\n",
       "    }\n",
       "</style>\n",
       "<table border=\"1\" class=\"dataframe\">\n",
       "  <thead>\n",
       "    <tr style=\"text-align: right;\">\n",
       "      <th></th>\n",
       "      <th>total_sqft</th>\n",
       "      <th>bath</th>\n",
       "      <th>price</th>\n",
       "      <th>bhk</th>\n",
       "      <th>price_per_sqft</th>\n",
       "    </tr>\n",
       "  </thead>\n",
       "  <tbody>\n",
       "    <tr>\n",
       "      <th>count</th>\n",
       "      <td>13200.000000</td>\n",
       "      <td>13200.000000</td>\n",
       "      <td>13200.000000</td>\n",
       "      <td>13200.000000</td>\n",
       "      <td>1.320000e+04</td>\n",
       "    </tr>\n",
       "    <tr>\n",
       "      <th>mean</th>\n",
       "      <td>1555.302783</td>\n",
       "      <td>2.691136</td>\n",
       "      <td>112.276178</td>\n",
       "      <td>2.800833</td>\n",
       "      <td>7.920337e+03</td>\n",
       "    </tr>\n",
       "    <tr>\n",
       "      <th>std</th>\n",
       "      <td>1237.323445</td>\n",
       "      <td>1.338915</td>\n",
       "      <td>149.175995</td>\n",
       "      <td>1.292843</td>\n",
       "      <td>1.067272e+05</td>\n",
       "    </tr>\n",
       "    <tr>\n",
       "      <th>min</th>\n",
       "      <td>1.000000</td>\n",
       "      <td>1.000000</td>\n",
       "      <td>8.000000</td>\n",
       "      <td>1.000000</td>\n",
       "      <td>2.670000e+02</td>\n",
       "    </tr>\n",
       "    <tr>\n",
       "      <th>25%</th>\n",
       "      <td>1100.000000</td>\n",
       "      <td>2.000000</td>\n",
       "      <td>50.000000</td>\n",
       "      <td>2.000000</td>\n",
       "      <td>4.267000e+03</td>\n",
       "    </tr>\n",
       "    <tr>\n",
       "      <th>50%</th>\n",
       "      <td>1275.000000</td>\n",
       "      <td>2.000000</td>\n",
       "      <td>71.850000</td>\n",
       "      <td>3.000000</td>\n",
       "      <td>5.438000e+03</td>\n",
       "    </tr>\n",
       "    <tr>\n",
       "      <th>75%</th>\n",
       "      <td>1672.000000</td>\n",
       "      <td>3.000000</td>\n",
       "      <td>120.000000</td>\n",
       "      <td>3.000000</td>\n",
       "      <td>7.317000e+03</td>\n",
       "    </tr>\n",
       "    <tr>\n",
       "      <th>max</th>\n",
       "      <td>52272.000000</td>\n",
       "      <td>40.000000</td>\n",
       "      <td>3600.000000</td>\n",
       "      <td>43.000000</td>\n",
       "      <td>1.200000e+07</td>\n",
       "    </tr>\n",
       "  </tbody>\n",
       "</table>\n",
       "</div>"
      ],
      "text/plain": [
       "         total_sqft          bath         price           bhk  price_per_sqft\n",
       "count  13200.000000  13200.000000  13200.000000  13200.000000    1.320000e+04\n",
       "mean    1555.302783      2.691136    112.276178      2.800833    7.920337e+03\n",
       "std     1237.323445      1.338915    149.175995      1.292843    1.067272e+05\n",
       "min        1.000000      1.000000      8.000000      1.000000    2.670000e+02\n",
       "25%     1100.000000      2.000000     50.000000      2.000000    4.267000e+03\n",
       "50%     1275.000000      2.000000     71.850000      3.000000    5.438000e+03\n",
       "75%     1672.000000      3.000000    120.000000      3.000000    7.317000e+03\n",
       "max    52272.000000     40.000000   3600.000000     43.000000    1.200000e+07"
      ]
     },
     "execution_count": 3,
     "metadata": {},
     "output_type": "execute_result"
    }
   ],
   "source": [
    "# Statistical summary of the dataset\n",
    "df.describe()"
   ]
  },
  {
   "cell_type": "markdown",
   "metadata": {},
   "source": [
    "### Step 1: Outlier Removal using the Percentile Method\n",
    "\n",
    "* The `price_per_sqft` column has a massive range, from `2.67e+02` (267) to `1.20e+07` (1.2 Crore), as shown in the `df.describe()` output. This indicates the presence of extreme outliers. \n",
    "\n",
    "* We will use the percentile method to remove these most obvious outliers, which can heavily influence the mean and standard deviation."
   ]
  },
  {
   "cell_type": "code",
   "execution_count": 4,
   "metadata": {},
   "outputs": [
    {
     "name": "stdout",
     "output_type": "stream",
     "text": [
      "Lower bound: 1366.18\n",
      "Upper bound: 50959.36\n"
     ]
    }
   ],
   "source": [
    "# Set the lower and upper bounds using the 0.1% and 99.9% percentiles\n",
    "lower_limit, upper_limit = df['price_per_sqft'].quantile([0.001, 0.999])\n",
    "print(f\"Lower bound: {lower_limit:.2f}\")\n",
    "print(f\"Upper bound: {upper_limit:.2f}\")"
   ]
  },
  {
   "cell_type": "code",
   "execution_count": 5,
   "metadata": {},
   "outputs": [
    {
     "name": "stdout",
     "output_type": "stream",
     "text": [
      "Original DataFrame Shape: (13200, 7)\n",
      "Cleaned DataFrame Shape: (13172, 7)\n",
      "Number of outliers removed: 28\n"
     ]
    }
   ],
   "source": [
    "# Filter the original dataframe to create a new one without the outliers\n",
    "df_percentile_cleaned = df[(df['price_per_sqft'] > lower_limit) & (df['price_per_sqft'] < upper_limit)]\n",
    "\n",
    "print(f\"Original DataFrame Shape: {df.shape}\")\n",
    "print(f\"Cleaned DataFrame Shape: {df_percentile_cleaned.shape}\")\n",
    "print(f\"Number of outliers removed: {df.shape[0] - df_percentile_cleaned.shape[0]}\")"
   ]
  },
  {
   "cell_type": "markdown",
   "metadata": {},
   "source": [
    "### Step 2: Outlier Removal using Standard Deviation\n",
    "\n",
    "* The standard deviation method is based on the **Empirical Rule** or the **68-95-99.7 Rule**. \n",
    "\n",
    "* It states that for a normal distribution, approximately 99.7% of the data falls within three standard deviations of the mean. \n",
    "\n",
    "* We will use a more aggressive threshold of **4 standard deviations** to remove stricter outliers from our cleaned dataset from Step 1."
   ]
  },
  {
   "cell_type": "code",
   "execution_count": 6,
   "metadata": {},
   "outputs": [
    {
     "name": "stdout",
     "output_type": "stream",
     "text": [
      "Mean: 6663.65\n",
      "Standard Deviation: 4141.02\n"
     ]
    }
   ],
   "source": [
    "# Use the percentile-cleaned dataframe for this step\n",
    "df_std = df_percentile_cleaned.copy()\n",
    "\n",
    "# Calculate the mean and standard deviation of the cleaned data\n",
    "mean_val = df_std['price_per_sqft'].mean()\n",
    "std_dev_val = df_std['price_per_sqft'].std()\n",
    "\n",
    "print(f\"Mean: {mean_val:.2f}\")\n",
    "print(f\"Standard Deviation: {std_dev_val:.2f}\")"
   ]
  },
  {
   "cell_type": "code",
   "execution_count": 7,
   "metadata": {},
   "outputs": [
    {
     "name": "stdout",
     "output_type": "stream",
     "text": [
      "Lower bound (4 Std Dev): -9900.43\n",
      "Upper bound (4 Std Dev): 23227.74\n"
     ]
    }
   ],
   "source": [
    "# Define the lower and upper bounds for 4 standard deviations\n",
    "lower_limit_std_dev = mean_val - 4 * std_dev_val\n",
    "upper_limit_std_dev = mean_val + 4 * std_dev_val\n",
    "\n",
    "print(f\"Lower bound (4 Std Dev): {lower_limit_std_dev:.2f}\")\n",
    "print(f\"Upper bound (4 Std Dev): {upper_limit_std_dev:.2f}\")"
   ]
  },
  {
   "cell_type": "code",
   "execution_count": 8,
   "metadata": {},
   "outputs": [
    {
     "name": "stdout",
     "output_type": "stream",
     "text": [
      "DataFrame Shape after Std Dev Removal: (13047, 7)\n",
      "Number of outliers removed in this step: 125\n"
     ]
    }
   ],
   "source": [
    "# Create the new dataframe with outliers removed using the standard deviation method\n",
    "df_std_cleaned = df_std[(df_std['price_per_sqft'] > lower_limit_std_dev) & (df_std['price_per_sqft'] < upper_limit_std_dev)]\n",
    "\n",
    "print(f\"DataFrame Shape after Std Dev Removal: {df_std_cleaned.shape}\")\n",
    "print(f\"Number of outliers removed in this step: {df_std.shape[0] - df_std_cleaned.shape[0]}\")"
   ]
  },
  {
   "cell_type": "markdown",
   "metadata": {},
   "source": [
    "### Step 3: Visualizing the Cleaned Data\n",
    "\n",
    "* Visualizing the data after outlier removal is a crucial step to confirm that our method has made the distribution more normal, which is beneficial for many statistical and machine learning models. \n",
    "\n",
    "* We will plot a histogram with a bell curve to see the change in distribution."
   ]
  },
  {
   "cell_type": "code",
   "execution_count": 9,
   "metadata": {},
   "outputs": [
    {
     "data": {
      "image/png": "[encoded data removed]",
      "text/plain": [
       "<Figure size 1000x600 with 1 Axes>"
      ]
     },
     "metadata": {},
     "output_type": "display_data"
    }
   ],
   "source": [
    "# Visualize the histogram \n",
    "plt.figure(figsize=(10, 6))\n",
    "sns.histplot(df_std_cleaned['price_per_sqft'], bins=20, kde=True)\n",
    "plt.title('Distribution of price_per_sqft after Outlier Removal')\n",
    "plt.xlabel('Price per Square Foot')\n",
    "plt.ylabel('Count')\n",
    "plt.show()"
   ]
  },
  {
   "cell_type": "markdown",
   "metadata": {},
   "source": [
    "### Step 4: Outlier Removal using the Z-Score Method*\n",
    "\n",
    "* The Z-score method is conceptually very similar to the standard deviation method. \n",
    "\n",
    "* A Z-score measures how many standard deviations a data point is from the mean. \n",
    "\n",
    "* A Z-score threshold of 4 is equivalent to a 4-standard deviation threshold. \n",
    "\n",
    "* We will use this on our `df_percentile_cleaned` dataframe, and you'll see the exact same result as the previous step."
   ]
  },
  {
   "cell_type": "code",
   "execution_count": 10,
   "metadata": {},
   "outputs": [],
   "source": [
    "# Use the percentile-cleaned dataframe for this step\n",
    "df_zscore = df_percentile_cleaned.copy()\n",
    "\n",
    "# Calculate the Z-score for each data point\n",
    "df_zscore['zscore'] = (df_zscore['price_per_sqft'] - df_zscore['price_per_sqft'].mean()) / df_zscore['price_per_sqft'].std()"
   ]
  },
  {
   "cell_type": "code",
   "execution_count": 11,
   "metadata": {},
   "outputs": [
    {
     "name": "stdout",
     "output_type": "stream",
     "text": [
      "Number of outliers removed using Z-Score method: 125\n"
     ]
    },
    {
     "data": {
      "text/html": [
       "<div>\n",
       "<style scoped>\n",
       "    .dataframe tbody tr th:only-of-type {\n",
       "        vertical-align: middle;\n",
       "    }\n",
       "\n",
       "    .dataframe tbody tr th {\n",
       "        vertical-align: top;\n",
       "    }\n",
       "\n",
       "    .dataframe thead th {\n",
       "        text-align: right;\n",
       "    }\n",
       "</style>\n",
       "<table border=\"1\" class=\"dataframe\">\n",
       "  <thead>\n",
       "    <tr style=\"text-align: right;\">\n",
       "      <th></th>\n",
       "      <th>location</th>\n",
       "      <th>size</th>\n",
       "      <th>total_sqft</th>\n",
       "      <th>bath</th>\n",
       "      <th>price</th>\n",
       "      <th>bhk</th>\n",
       "      <th>price_per_sqft</th>\n",
       "      <th>zscore</th>\n",
       "    </tr>\n",
       "  </thead>\n",
       "  <tbody>\n",
       "    <tr>\n",
       "      <th>9</th>\n",
       "      <td>other</td>\n",
       "      <td>6 Bedroom</td>\n",
       "      <td>1020.0</td>\n",
       "      <td>6.0</td>\n",
       "      <td>370.0</td>\n",
       "      <td>6</td>\n",
       "      <td>36274</td>\n",
       "      <td>7.150495</td>\n",
       "    </tr>\n",
       "    <tr>\n",
       "      <th>45</th>\n",
       "      <td>HSR Layout</td>\n",
       "      <td>8 Bedroom</td>\n",
       "      <td>600.0</td>\n",
       "      <td>9.0</td>\n",
       "      <td>200.0</td>\n",
       "      <td>8</td>\n",
       "      <td>33333</td>\n",
       "      <td>6.440283</td>\n",
       "    </tr>\n",
       "    <tr>\n",
       "      <th>190</th>\n",
       "      <td>Bellandur</td>\n",
       "      <td>4 Bedroom</td>\n",
       "      <td>1200.0</td>\n",
       "      <td>5.0</td>\n",
       "      <td>325.0</td>\n",
       "      <td>4</td>\n",
       "      <td>27083</td>\n",
       "      <td>4.930994</td>\n",
       "    </tr>\n",
       "    <tr>\n",
       "      <th>733</th>\n",
       "      <td>Cunningham Road</td>\n",
       "      <td>4 BHK</td>\n",
       "      <td>5270.0</td>\n",
       "      <td>4.0</td>\n",
       "      <td>1250.0</td>\n",
       "      <td>4</td>\n",
       "      <td>23719</td>\n",
       "      <td>4.118633</td>\n",
       "    </tr>\n",
       "    <tr>\n",
       "      <th>760</th>\n",
       "      <td>other</td>\n",
       "      <td>9 Bedroom</td>\n",
       "      <td>600.0</td>\n",
       "      <td>9.0</td>\n",
       "      <td>190.0</td>\n",
       "      <td>9</td>\n",
       "      <td>31666</td>\n",
       "      <td>6.037725</td>\n",
       "    </tr>\n",
       "  </tbody>\n",
       "</table>\n",
       "</div>"
      ],
      "text/plain": [
       "            location       size  total_sqft  bath   price  bhk  \\\n",
       "9              other  6 Bedroom      1020.0   6.0   370.0    6   \n",
       "45        HSR Layout  8 Bedroom       600.0   9.0   200.0    8   \n",
       "190        Bellandur  4 Bedroom      1200.0   5.0   325.0    4   \n",
       "733  Cunningham Road      4 BHK      5270.0   4.0  1250.0    4   \n",
       "760            other  9 Bedroom       600.0   9.0   190.0    9   \n",
       "\n",
       "     price_per_sqft    zscore  \n",
       "9             36274  7.150495  \n",
       "45            33333  6.440283  \n",
       "190           27083  4.930994  \n",
       "733           23719  4.118633  \n",
       "760           31666  6.037725  "
      ]
     },
     "execution_count": 11,
     "metadata": {},
     "output_type": "execute_result"
    }
   ],
   "source": [
    "# Find outliers using a Z-score threshold of 4\n",
    "outliers_zscore = df_zscore[(df_zscore['zscore'] < -4) | (df_zscore['zscore'] > 4)]\n",
    "print(f\"Number of outliers removed using Z-Score method: {outliers_zscore.shape[0]}\")\n",
    "outliers_zscore.head()"
   ]
  },
  {
   "cell_type": "code",
   "execution_count": 12,
   "metadata": {},
   "outputs": [
    {
     "name": "stdout",
     "output_type": "stream",
     "text": [
      "DataFrame shape after Z-Score removal: (13047, 8)\n",
      "Number of outliers removed: 125\n"
     ]
    }
   ],
   "source": [
    "# Create the final dataframe with Z-score outliers removed\n",
    "df_zscore_cleaned = df_zscore[(df_zscore['zscore'] > -4) & (df_zscore['zscore'] < 4)]\n",
    "\n",
    "print(f\"DataFrame shape after Z-Score removal: {df_zscore_cleaned.shape}\")\n",
    "print(f\"Number of outliers removed: {df_zscore.shape[0] - df_zscore_cleaned.shape[0]}\")"
   ]
  },
  {
   "cell_type": "markdown",
   "metadata": {},
   "source": [
    "### Summary\n",
    "\n",
    "* As you can see, both the 4-standard deviation method and the Z-score method (with a threshold of 4) yield the exact same results. \n",
    "\n",
    "* This is because the Z-score is a standardized representation of how many standard deviations a data point is away from the mean.\n",
    "\n",
    "* By systematically removing outliers using these methods, we have created a much cleaner and more representative dataset that is better suited for training a machine learning model for accurate house price prediction.\n",
    "\n",
    "---"
   ]
  }
 ],
 "metadata": {
  "kernelspec": {
   "display_name": "Python 3",
   "language": "python",
   "name": "python3"
  },
  "language_info": {
   "codemirror_mode": {
    "name": "ipython",
    "version": 3
   },
   "file_extension": ".py",
   "mimetype": "text/x-python",
   "name": "python",
   "nbconvert_exporter": "python",
   "pygments_lexer": "ipython3",
   "version": "3.13.0"
  }
 },
 "nbformat": 4,
 "nbformat_minor": 5
}
