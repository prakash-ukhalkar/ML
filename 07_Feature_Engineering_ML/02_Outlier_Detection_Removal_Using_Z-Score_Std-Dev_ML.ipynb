{
 "cells": [
  {
   "cell_type": "markdown",
   "id": "a01b9a47",
   "metadata": {},
   "source": [
    "### **Outlier Detection and Removal using Z-Score and Standard Deviation**\n",
    "\n",
    "* Outlier detection is a crucial step in data cleaning and pre-processing.\n",
    "\n",
    "* In this notebook, we'll explore two related methods for identifying and removing outliers: the **3-standard deviation rule** and the **Z-score method**. \n",
    "\n",
    "* Both are based on the principle of a normal distribution, where data points that are too far from the mean are considered outliers. \n",
    "\n",
    "* We will use a `hourse_prices.csv` dataset of Indian house prices, with prices represented in Lakhs (INR)."
   ]
  },
  {
   "cell_type": "markdown",
   "id": "97f0097d",
   "metadata": {},
   "source": [
    "### Step 1: Import Libraries and Load Dataset\n",
    "\n",
    "* We'll import the necessary libraries, including `pandas` for data manipulation, `numpy` for numerical operations, `matplotlib` and `seaborn` for plotting, and `scipy.stats` for statistical functions. \n",
    "\n",
    "* We'll then load our dataset and get a first look at the data."
   ]
  },
  {
   "cell_type": "code",
   "execution_count": 4,
   "id": "c06f6044",
   "metadata": {},
   "outputs": [],
   "source": [
    "# Import necessary libraries\n",
    "import pandas as pd\n",
    "import numpy as np\n",
    "import matplotlib\n",
    "from matplotlib import pyplot as plt\n",
    "import seaborn as sns\n",
    "from scipy.stats import norm"
   ]
  },
  {
   "cell_type": "code",
   "execution_count": 6,
   "id": "8c6bc8db",
   "metadata": {},
   "outputs": [
    {
     "data": {
      "text/html": [
       "<div>\n",
       "<style scoped>\n",
       "    .dataframe tbody tr th:only-of-type {\n",
       "        vertical-align: middle;\n",
       "    }\n",
       "\n",
       "    .dataframe tbody tr th {\n",
       "        vertical-align: top;\n",
       "    }\n",
       "\n",
       "    .dataframe thead th {\n",
       "        text-align: right;\n",
       "    }\n",
       "</style>\n",
       "<table border=\"1\" class=\"dataframe\">\n",
       "  <thead>\n",
       "    <tr style=\"text-align: right;\">\n",
       "      <th></th>\n",
       "      <th>square_footage</th>\n",
       "      <th>price_lakhs</th>\n",
       "    </tr>\n",
       "  </thead>\n",
       "  <tbody>\n",
       "    <tr>\n",
       "      <th>0</th>\n",
       "      <td>1998</td>\n",
       "      <td>98</td>\n",
       "    </tr>\n",
       "    <tr>\n",
       "      <th>1</th>\n",
       "      <td>1744</td>\n",
       "      <td>122</td>\n",
       "    </tr>\n",
       "    <tr>\n",
       "      <th>2</th>\n",
       "      <td>2059</td>\n",
       "      <td>40</td>\n",
       "    </tr>\n",
       "    <tr>\n",
       "      <th>3</th>\n",
       "      <td>2409</td>\n",
       "      <td>89</td>\n",
       "    </tr>\n",
       "    <tr>\n",
       "      <th>4</th>\n",
       "      <td>1706</td>\n",
       "      <td>58</td>\n",
       "    </tr>\n",
       "  </tbody>\n",
       "</table>\n",
       "</div>"
      ],
      "text/plain": [
       "   square_footage  price_lakhs\n",
       "0            1998           98\n",
       "1            1744          122\n",
       "2            2059           40\n",
       "3            2409           89\n",
       "4            1706           58"
      ]
     },
     "execution_count": 6,
     "metadata": {},
     "output_type": "execute_result"
    }
   ],
   "source": [
    "# Load the dataset\n",
    "df = pd.read_csv('house_prices.csv')\n",
    "df.head()\n"
   ]
  },
  {
   "cell_type": "code",
   "execution_count": 8,
   "id": "f9c3f686",
   "metadata": {},
   "outputs": [
    {
     "data": {
      "text/html": [
       "<div>\n",
       "<style scoped>\n",
       "    .dataframe tbody tr th:only-of-type {\n",
       "        vertical-align: middle;\n",
       "    }\n",
       "\n",
       "    .dataframe tbody tr th {\n",
       "        vertical-align: top;\n",
       "    }\n",
       "\n",
       "    .dataframe thead th {\n",
       "        text-align: right;\n",
       "    }\n",
       "</style>\n",
       "<table border=\"1\" class=\"dataframe\">\n",
       "  <thead>\n",
       "    <tr style=\"text-align: right;\">\n",
       "      <th></th>\n",
       "      <th>square_footage</th>\n",
       "      <th>price_lakhs</th>\n",
       "    </tr>\n",
       "  </thead>\n",
       "  <tbody>\n",
       "    <tr>\n",
       "      <th>count</th>\n",
       "      <td>504.000000</td>\n",
       "      <td>504.000000</td>\n",
       "    </tr>\n",
       "    <tr>\n",
       "      <th>mean</th>\n",
       "      <td>1812.924603</td>\n",
       "      <td>76.111111</td>\n",
       "    </tr>\n",
       "    <tr>\n",
       "      <th>std</th>\n",
       "      <td>482.815297</td>\n",
       "      <td>27.797613</td>\n",
       "    </tr>\n",
       "    <tr>\n",
       "      <th>min</th>\n",
       "      <td>503.000000</td>\n",
       "      <td>7.000000</td>\n",
       "    </tr>\n",
       "    <tr>\n",
       "      <th>25%</th>\n",
       "      <td>1518.250000</td>\n",
       "      <td>59.750000</td>\n",
       "    </tr>\n",
       "    <tr>\n",
       "      <th>50%</th>\n",
       "      <td>1805.000000</td>\n",
       "      <td>75.000000</td>\n",
       "    </tr>\n",
       "    <tr>\n",
       "      <th>75%</th>\n",
       "      <td>2058.250000</td>\n",
       "      <td>91.000000</td>\n",
       "    </tr>\n",
       "    <tr>\n",
       "      <th>max</th>\n",
       "      <td>8000.000000</td>\n",
       "      <td>300.000000</td>\n",
       "    </tr>\n",
       "  </tbody>\n",
       "</table>\n",
       "</div>"
      ],
      "text/plain": [
       "       square_footage  price_lakhs\n",
       "count      504.000000   504.000000\n",
       "mean      1812.924603    76.111111\n",
       "std        482.815297    27.797613\n",
       "min        503.000000     7.000000\n",
       "25%       1518.250000    59.750000\n",
       "50%       1805.000000    75.000000\n",
       "75%       2058.250000    91.000000\n",
       "max       8000.000000   300.000000"
      ]
     },
     "execution_count": 8,
     "metadata": {},
     "output_type": "execute_result"
    }
   ],
   "source": [
    "# Display basic statistics of the dataset\n",
    "df.describe()"
   ]
  },
  {
   "cell_type": "markdown",
   "id": "14754795",
   "metadata": {},
   "source": [
    "### Step 2: Visualize the Data with a Bell Curve\n",
    "\n",
    "* To understand if our data follows a normal distribution, we can plot a histogram and overlay a bell curve. \n",
    "\n",
    "* This visualization will help us see where most data points are clustered and where the outliers are located in the tails of the distribution."
   ]
  },
  {
   "cell_type": "code",
   "execution_count": 9,
   "id": "eb74a941",
   "metadata": {},
   "outputs": [
    {
     "data": {
      "image/png": "[encoded data removed]",
      "text/plain": [
       "<Figure size 1000x600 with 1 Axes>"
      ]
     },
     "metadata": {},
     "output_type": "display_data"
    }
   ],
   "source": [
    "# Set plot size\n",
    "matplotlib.rcParams['figure.figsize'] = (10,6)\n",
    "\n",
    "# Plot histogram of house prices with a bell curve overlay\n",
    "plt.hist(df['price_lakhs'], bins=20, rwidth=0.8, density=True)\n",
    "plt.xlabel('House Price in Lakhs (INR)')\n",
    "plt.ylabel('Probability Density')\n",
    "\n",
    "# Overlay a bell curve\n",
    "rng = np.arange(df.price_lakhs.min(), df.price_lakhs.max(), 1)\n",
    "plt.plot(rng, norm.pdf(rng, df.price_lakhs.mean(), df.price_lakhs.std()))\n",
    "plt.title('House Price Distribution with Bell Curve')\n",
    "plt.show()"
   ]
  },
  {
   "cell_type": "markdown",
   "id": "ef0b84e2",
   "metadata": {},
   "source": [
    "### Step 3: Outlier Detection and Removal with 3-Standard Deviation Rule\n",
    "\n",
    "* The 3-standard deviation rule states that roughly 99.7% of data points in a normal distribution lie within three standard deviations of the mean. \n",
    "\n",
    "* We can use this to define an upper and lower limit for our data, and any values outside this range are considered outliers."
   ]
  },
  {
   "cell_type": "markdown",
   "id": "1d0781fe",
   "metadata": {},
   "source": [
    "#### **The Empirical Rule (68-95-99.7)**\n",
    "\n",
    "* **1-Standard Deviation Rule**: Approximately **68%** of the data points in a normal distribution lie within one standard deviation ($ \\sigma $) of the mean ($ \\mu $). This means the range from ($ \\mu - \\sigma $) to ($ \\mu + \\sigma $) contains roughly two-thirds of the data.\n",
    "\n",
    "* **2-Standard Deviation Rule**: Approximately **95%** of the data points in a normal distribution lie within two standard deviations ($ 2\\sigma $) of the mean ($ \\mu $). This range is from ($ \\mu - 2\\sigma $) to ($ \\mu + 2\\sigma $).\n",
    "\n",
    "* **3-Standard Deviation Rule**: Approximately **99.7%** of the data points in a normal distribution lie within three standard deviations ($ 3\\sigma $) of the mean ($ \\mu $). This range, from ($ \\mu - 3\\sigma $) to ($ \\mu + 3\\sigma $), is often used as a threshold to identify outliers.\n",
    "\n",
    "![Standard_Deviation](std_dev.png)\n",
    "\n",
    "[Image Source](https://articles.outlier.org/a-step-by-step-guide-on-how-to-calculate-standard-deviation)\n"
   ]
  },
  {
   "cell_type": "code",
   "execution_count": 10,
   "id": "52748c48",
   "metadata": {},
   "outputs": [
    {
     "name": "stdout",
     "output_type": "stream",
     "text": [
      "Mean Price: 76.11 Lakhs\n",
      "Standard Deviation: 27.80 Lakhs\n"
     ]
    }
   ],
   "source": [
    "# Calculate mean and standard deviation\n",
    "mean_price = df.price_lakhs.mean()\n",
    "std_price = df.price_lakhs.std()\n",
    "\n",
    "print(f\"Mean Price: {mean_price:.2f} Lakhs\")\n",
    "print(f\"Standard Deviation: {std_price:.2f} Lakhs\")\n"
   ]
  },
  {
   "cell_type": "code",
   "execution_count": 11,
   "id": "f30f53f5",
   "metadata": {},
   "outputs": [
    {
     "name": "stdout",
     "output_type": "stream",
     "text": [
      "\n",
      "Upper Limit (3-std dev): 159.50 Lakhs\n",
      "Lower Limit (3-std dev): -7.28 Lakhs\n"
     ]
    }
   ],
   "source": [
    "# Calculate upper and lower limits\n",
    "upper_limit = mean_price + 3 * std_price\n",
    "lower_limit = mean_price - 3 * std_price\n",
    "\n",
    "print(f\"\\nUpper Limit (3-std dev): {upper_limit:.2f} Lakhs\")\n",
    "print(f\"Lower Limit (3-std dev): {lower_limit:.2f} Lakhs\")"
   ]
  },
  {
   "cell_type": "code",
   "execution_count": 12,
   "id": "c10cbff3",
   "metadata": {},
   "outputs": [
    {
     "name": "stdout",
     "output_type": "stream",
     "text": [
      "\n",
      "--- Outliers identified by 3-standard deviation rule ---\n",
      "     square_footage  price_lakhs\n",
      "500             600          250\n",
      "503            2500          300\n"
     ]
    }
   ],
   "source": [
    "# Display the outliers\n",
    "outliers_std = df[(df.price_lakhs < lower_limit) | (df.price_lakhs > upper_limit)]\n",
    "print(\"\\n--- Outliers identified by 3-standard deviation rule ---\")\n",
    "print(outliers_std)"
   ]
  },
  {
   "cell_type": "code",
   "execution_count": 13,
   "id": "74347a08",
   "metadata": {},
   "outputs": [
    {
     "name": "stdout",
     "output_type": "stream",
     "text": [
      "\n",
      "Original dataset size: 504 records\n",
      "Cleaned dataset size: 502 records\n"
     ]
    }
   ],
   "source": [
    "# Remove outliers from the dataset\n",
    "df_cleaned_std = df[(df.price_lakhs >= lower_limit) & (df.price_lakhs <= upper_limit)]\n",
    "print(f\"\\nOriginal dataset size: {df.shape[0]} records\")\n",
    "print(f\"Cleaned dataset size: {df_cleaned_std.shape[0]} records\")"
   ]
  },
  {
   "cell_type": "code",
   "execution_count": null,
   "id": "fe5610e4",
   "metadata": {},
   "outputs": [
    {
     "data": {
      "image/png": "[encoded data removed]",
      "text/plain": [
       "<Figure size 1200x600 with 2 Axes>"
      ]
     },
     "metadata": {},
     "output_type": "display_data"
    }
   ],
   "source": [
    "# Visualize original vs cleaned data\n",
    "# Set plot size\n",
    "plt.figure(figsize=(12,6))\n",
    "\n",
    "# Original Data\n",
    "plt.subplot(1,2,1)\n",
    "plt.hist(df['price_lakhs'], bins=20, rwidth=0.8, density=True)\n",
    "plt.title('Original Data')\n",
    "plt.xlabel('House Price in Lakhs (INR)')\n",
    "plt.ylabel('Probability Density')\n",
    "\n",
    "# Cleaned Data\n",
    "plt.subplot(1,2,2)\n",
    "plt.hist(df_cleaned_std['price_lakhs'], bins=20, rwidth=0.8, density=True)\n",
    "plt.title('Cleaned Data (Outliers Removed)')\n",
    "plt.xlabel('House Price in Lakhs (INR)')\n",
    "plt.ylabel('Probability Density')\n",
    "plt.show()"
   ]
  },
  {
   "cell_type": "markdown",
   "id": "2a78fd63",
   "metadata": {},
   "source": [
    "### Step 4: Outlier Detection and Removal with Z-Score\n",
    "\n",
    "* An alternative, but mathematically equivalent, method is to use the Z-score. \n",
    "\n",
    "* A Z-score measures how many standard deviations a data point is from the mean. \n",
    "\n",
    "* A common practice is to consider any data point with a Z-score greater than 3 or less than -3 as an outlier.\n",
    "\n",
    "##### **Z-score Method**\n",
    "\n",
    "For reference, the Z-score formula is a way to measure how many standard deviations a data point is from the mean. It is defined as:\n",
    "\n",
    "$Z = (X - \\mu) / \\sigma$\n",
    "\n",
    "![Z-score](Z-score.png)"
   ]
  },
  {
   "cell_type": "code",
   "execution_count": 15,
   "id": "88abf034",
   "metadata": {},
   "outputs": [
    {
     "name": "stdout",
     "output_type": "stream",
     "text": [
      "--- First 5 rows with Z-score ---\n"
     ]
    },
    {
     "data": {
      "text/html": [
       "<div>\n",
       "<style scoped>\n",
       "    .dataframe tbody tr th:only-of-type {\n",
       "        vertical-align: middle;\n",
       "    }\n",
       "\n",
       "    .dataframe tbody tr th {\n",
       "        vertical-align: top;\n",
       "    }\n",
       "\n",
       "    .dataframe thead th {\n",
       "        text-align: right;\n",
       "    }\n",
       "</style>\n",
       "<table border=\"1\" class=\"dataframe\">\n",
       "  <thead>\n",
       "    <tr style=\"text-align: right;\">\n",
       "      <th></th>\n",
       "      <th>square_footage</th>\n",
       "      <th>price_lakhs</th>\n",
       "      <th>zscore</th>\n",
       "    </tr>\n",
       "  </thead>\n",
       "  <tbody>\n",
       "    <tr>\n",
       "      <th>0</th>\n",
       "      <td>1998</td>\n",
       "      <td>98</td>\n",
       "      <td>0.787438</td>\n",
       "    </tr>\n",
       "    <tr>\n",
       "      <th>1</th>\n",
       "      <td>1744</td>\n",
       "      <td>122</td>\n",
       "      <td>1.650821</td>\n",
       "    </tr>\n",
       "    <tr>\n",
       "      <th>2</th>\n",
       "      <td>2059</td>\n",
       "      <td>40</td>\n",
       "      <td>-1.299072</td>\n",
       "    </tr>\n",
       "    <tr>\n",
       "      <th>3</th>\n",
       "      <td>2409</td>\n",
       "      <td>89</td>\n",
       "      <td>0.463669</td>\n",
       "    </tr>\n",
       "    <tr>\n",
       "      <th>4</th>\n",
       "      <td>1706</td>\n",
       "      <td>58</td>\n",
       "      <td>-0.651535</td>\n",
       "    </tr>\n",
       "  </tbody>\n",
       "</table>\n",
       "</div>"
      ],
      "text/plain": [
       "   square_footage  price_lakhs    zscore\n",
       "0            1998           98  0.787438\n",
       "1            1744          122  1.650821\n",
       "2            2059           40 -1.299072\n",
       "3            2409           89  0.463669\n",
       "4            1706           58 -0.651535"
      ]
     },
     "execution_count": 15,
     "metadata": {},
     "output_type": "execute_result"
    }
   ],
   "source": [
    "# Calculate Z-score for the price column\n",
    "df['zscore'] = (df.price_lakhs - df.price_lakhs.mean()) / df.price_lakhs.std()\n",
    "\n",
    "print(\"--- First 5 rows with Z-score ---\")\n",
    "df.head()\n"
   ]
  },
  {
   "cell_type": "code",
   "execution_count": 16,
   "id": "5074d1d9",
   "metadata": {},
   "outputs": [
    {
     "name": "stdout",
     "output_type": "stream",
     "text": [
      "\n",
      "--- Outliers identified by Z-score method ---\n"
     ]
    },
    {
     "data": {
      "text/html": [
       "<div>\n",
       "<style scoped>\n",
       "    .dataframe tbody tr th:only-of-type {\n",
       "        vertical-align: middle;\n",
       "    }\n",
       "\n",
       "    .dataframe tbody tr th {\n",
       "        vertical-align: top;\n",
       "    }\n",
       "\n",
       "    .dataframe thead th {\n",
       "        text-align: right;\n",
       "    }\n",
       "</style>\n",
       "<table border=\"1\" class=\"dataframe\">\n",
       "  <thead>\n",
       "    <tr style=\"text-align: right;\">\n",
       "      <th></th>\n",
       "      <th>square_footage</th>\n",
       "      <th>price_lakhs</th>\n",
       "      <th>zscore</th>\n",
       "    </tr>\n",
       "  </thead>\n",
       "  <tbody>\n",
       "    <tr>\n",
       "      <th>500</th>\n",
       "      <td>600</td>\n",
       "      <td>250</td>\n",
       "      <td>6.255533</td>\n",
       "    </tr>\n",
       "    <tr>\n",
       "      <th>503</th>\n",
       "      <td>2500</td>\n",
       "      <td>300</td>\n",
       "      <td>8.054249</td>\n",
       "    </tr>\n",
       "  </tbody>\n",
       "</table>\n",
       "</div>"
      ],
      "text/plain": [
       "     square_footage  price_lakhs    zscore\n",
       "500             600          250  6.255533\n",
       "503            2500          300  8.054249"
      ]
     },
     "execution_count": 16,
     "metadata": {},
     "output_type": "execute_result"
    }
   ],
   "source": [
    "# Display outliers using Z-score\n",
    "outliers_zscore = df[(df['zscore'] < -3) | (df['zscore'] > 3)]\n",
    "print(\"\\n--- Outliers identified by Z-score method ---\")\n",
    "\n",
    "outliers_zscore"
   ]
  },
  {
   "cell_type": "markdown",
   "metadata": {},
   "source": [
    "* We will create a new DataFrame with the outliers removed and compare its shape to the original DataFrame. \n",
    "\n",
    "* Since the 3-standard deviation and Z-score methods are equivalent, the number of removed data points should be the same."
   ]
  },
  {
   "cell_type": "code",
   "execution_count": 17,
   "metadata": {},
   "outputs": [
    {
     "name": "stdout",
     "output_type": "stream",
     "text": [
      "Original DataFrame shape: (504, 3)\n",
      "Cleaned DataFrame shape: (502, 3)\n"
     ]
    }
   ],
   "source": [
    "# Remove outliers using the Z-score method\n",
    "df_no_outlier = df[(df['zscore'] > -3) & (df['zscore'] < 3)]\n",
    "\n",
    "print(\"Original DataFrame shape:\", df.shape)\n",
    "print(\"Cleaned DataFrame shape:\", df_no_outlier.shape)"
   ]
  },
  {
   "cell_type": "code",
   "execution_count": 18,
   "id": "049c7414",
   "metadata": {},
   "outputs": [
    {
     "data": {
      "text/html": [
       "<div>\n",
       "<style scoped>\n",
       "    .dataframe tbody tr th:only-of-type {\n",
       "        vertical-align: middle;\n",
       "    }\n",
       "\n",
       "    .dataframe tbody tr th {\n",
       "        vertical-align: top;\n",
       "    }\n",
       "\n",
       "    .dataframe thead th {\n",
       "        text-align: right;\n",
       "    }\n",
       "</style>\n",
       "<table border=\"1\" class=\"dataframe\">\n",
       "  <thead>\n",
       "    <tr style=\"text-align: right;\">\n",
       "      <th></th>\n",
       "      <th>square_footage</th>\n",
       "      <th>price_lakhs</th>\n",
       "      <th>zscore</th>\n",
       "    </tr>\n",
       "  </thead>\n",
       "  <tbody>\n",
       "    <tr>\n",
       "      <th>0</th>\n",
       "      <td>1998</td>\n",
       "      <td>98</td>\n",
       "      <td>0.787438</td>\n",
       "    </tr>\n",
       "    <tr>\n",
       "      <th>1</th>\n",
       "      <td>1744</td>\n",
       "      <td>122</td>\n",
       "      <td>1.650821</td>\n",
       "    </tr>\n",
       "    <tr>\n",
       "      <th>2</th>\n",
       "      <td>2059</td>\n",
       "      <td>40</td>\n",
       "      <td>-1.299072</td>\n",
       "    </tr>\n",
       "    <tr>\n",
       "      <th>3</th>\n",
       "      <td>2409</td>\n",
       "      <td>89</td>\n",
       "      <td>0.463669</td>\n",
       "    </tr>\n",
       "    <tr>\n",
       "      <th>4</th>\n",
       "      <td>1706</td>\n",
       "      <td>58</td>\n",
       "      <td>-0.651535</td>\n",
       "    </tr>\n",
       "  </tbody>\n",
       "</table>\n",
       "</div>"
      ],
      "text/plain": [
       "   square_footage  price_lakhs    zscore\n",
       "0            1998           98  0.787438\n",
       "1            1744          122  1.650821\n",
       "2            2059           40 -1.299072\n",
       "3            2409           89  0.463669\n",
       "4            1706           58 -0.651535"
      ]
     },
     "execution_count": 18,
     "metadata": {},
     "output_type": "execute_result"
    }
   ],
   "source": [
    "# Display the first few rows of the cleaned DataFrame\n",
    "df_no_outlier.head()"
   ]
  },
  {
   "cell_type": "markdown",
   "metadata": {},
   "source": [
    "### Summary\n",
    "\n",
    "* In this notebook, we have successfully performed outlier detection on a house prices dataset using two common methods: the `3-standard deviation` rule and the `Z-score` method. \n",
    "\n",
    "* We visualized the data to confirm its distribution, identified the outliers using both methods (which yielded the same results), and created a cleaned dataset. \n",
    "\n",
    "* This process is essential for ensuring that our data is robust and suitable for building accurate machine learning models.\n",
    "\n",
    "---"
   ]
  },
  {
   "cell_type": "markdown",
   "id": "ac1aea85",
   "metadata": {},
   "source": [
    "#### **Exercise: Outlier Detection and Removal using Quantile, Standard Deviation and Z-score Methods**\n",
    "\n",
    "#### Problem Statement\n",
    "\n",
    "* Use Banglore House Prices (`bhp.csv`) dataset which contains extreme outliers in the `price_per_sqft` column, which can negatively affect machine learning model accuracy. \n",
    "\n",
    "* Your task is to clean this data by removing these outliers.\n",
    "\n",
    "* Tasks to be Performed:\n",
    "\n",
    "  * Detect and Remove outliers using the Percentile Method with a [0.001, 0.999] range.\n",
    "\n",
    "  * On the cleaned data, detect and remove further outliers using the Standard Deviation Method with a threshold of 4 standard deviations.\n",
    "\n",
    "  * Plot a histogram with a bell curve on the final dataset to visualize the cleaned distribution.\n",
    "\n",
    "  * Explain how the Z-Score Method is equivalent to the Standard Deviation Method for this task.\n",
    "\n",
    "  ---"
   ]
  },
  {
   "cell_type": "markdown",
   "id": "08b9dbce",
   "metadata": {},
   "source": [
    "* Donwload Dataset:  [bhp.csv](https://raw.githubusercontent.com/prakash-ukhalkar/ML/refs/heads/main/07_Feature_Engineering_ML/01_Exercise_Feature_Engineering_ML/bhp.csv)\n",
    "* Solution : [Exercise - Outlier Detection and Removal using Quantile, Standard Deviation and Z-score Methods](https://github.com/prakash-ukhalkar/ML/blob/main/07_Feature_Engineering_ML/01_Exercise_Feature_Engineering_ML/02_Exercise_Outlier_Detection_Removal_Std-Dev_and_Z-score_ML.ipynb)\n",
    "\n",
    "---"
   ]
  }
 ],
 "metadata": {
  "kernelspec": {
   "display_name": "Python 3",
   "language": "python",
   "name": "python3"
  },
  "language_info": {
   "codemirror_mode": {
    "name": "ipython",
    "version": 3
   },
   "file_extension": ".py",
   "mimetype": "text/x-python",
   "name": "python",
   "nbconvert_exporter": "python",
   "pygments_lexer": "ipython3",
   "version": "3.13.0"
  }
 },
 "nbformat": 4,
 "nbformat_minor": 5
}
