{
 "cells": [
  {
   "cell_type": "markdown",
   "metadata": {},
   "source": [
    "### **Dummy Variables and One Hot Encoding**\n",
    "\n",
    "### Outline\n",
    "1. Introduction\n",
    "2. Import Libraries\n",
    "3. Load and Explore the Dataset\n",
    "4. Handling Categorical Variables\n",
    "    - Creating Dummy Variables\n",
    "    - Avoiding the Dummy Variable Trap\n",
    "5. Modeling with Dummy Variables\n",
    "6. One Hot Encoding with Scikit-learn\n",
    "7. Modeling with One Hot Encoded Data\n",
    "8. Summary"
   ]
  },
  {
   "cell_type": "markdown",
   "metadata": {},
   "source": [
    "### 1. Introduction\n",
    "\n",
    "In this notebook, we will demonstrate how to handle categorical variables using dummy variables and one hot encoding. We'll use a car sales dataset (`car_prices.csv`), where the car's brand is a categorical variable and prices are in INR (Indian Rupees). We'll show how to prepare the data for machine learning models and explain each step."
   ]
  },
  {
   "cell_type": "markdown",
   "metadata": {},
   "source": [
    "### 2. Import Libraries"
   ]
  },
  {
   "cell_type": "code",
   "execution_count": 1,
   "metadata": {},
   "outputs": [],
   "source": [
    "import pandas as pd\n",
    "import numpy as np\n",
    "import matplotlib.pyplot as plt\n",
    "import seaborn as sns\n",
    "from sklearn.linear_model import LinearRegression\n",
    "from sklearn.model_selection import train_test_split\n",
    "from sklearn.metrics import r2_score\n",
    "from sklearn.preprocessing import OneHotEncoder\n",
    "from sklearn.compose import ColumnTransformer\n",
    "import warnings\n",
    "warnings.filterwarnings('ignore')"
   ]
  },
  {
   "cell_type": "markdown",
   "metadata": {},
   "source": [
    "### 3. Load and Explore the Dataset\n",
    "\n",
    "Let's load the car sales dataset from `car_prices.csv`. Each record contains the car's brand, engine size, and sale price in INR."
   ]
  },
  {
   "cell_type": "code",
   "execution_count": 2,
   "metadata": {},
   "outputs": [
    {
     "data": {
      "text/html": [
       "<div>\n",
       "<style scoped>\n",
       "    .dataframe tbody tr th:only-of-type {\n",
       "        vertical-align: middle;\n",
       "    }\n",
       "\n",
       "    .dataframe tbody tr th {\n",
       "        vertical-align: top;\n",
       "    }\n",
       "\n",
       "    .dataframe thead th {\n",
       "        text-align: right;\n",
       "    }\n",
       "</style>\n",
       "<table border=\"1\" class=\"dataframe\">\n",
       "  <thead>\n",
       "    <tr style=\"text-align: right;\">\n",
       "      <th></th>\n",
       "      <th>brand</th>\n",
       "      <th>engine_size</th>\n",
       "      <th>price</th>\n",
       "    </tr>\n",
       "  </thead>\n",
       "  <tbody>\n",
       "    <tr>\n",
       "      <th>0</th>\n",
       "      <td>Toyota</td>\n",
       "      <td>1.8</td>\n",
       "      <td>1800000</td>\n",
       "    </tr>\n",
       "    <tr>\n",
       "      <th>1</th>\n",
       "      <td>Ford</td>\n",
       "      <td>2.0</td>\n",
       "      <td>1700000</td>\n",
       "    </tr>\n",
       "    <tr>\n",
       "      <th>2</th>\n",
       "      <td>BMW</td>\n",
       "      <td>3.0</td>\n",
       "      <td>3200000</td>\n",
       "    </tr>\n",
       "    <tr>\n",
       "      <th>3</th>\n",
       "      <td>Toyota</td>\n",
       "      <td>2.0</td>\n",
       "      <td>1850000</td>\n",
       "    </tr>\n",
       "    <tr>\n",
       "      <th>4</th>\n",
       "      <td>Ford</td>\n",
       "      <td>2.2</td>\n",
       "      <td>1720000</td>\n",
       "    </tr>\n",
       "  </tbody>\n",
       "</table>\n",
       "</div>"
      ],
      "text/plain": [
       "    brand  engine_size    price\n",
       "0  Toyota          1.8  1800000\n",
       "1    Ford          2.0  1700000\n",
       "2     BMW          3.0  3200000\n",
       "3  Toyota          2.0  1850000\n",
       "4    Ford          2.2  1720000"
      ]
     },
     "execution_count": 2,
     "metadata": {},
     "output_type": "execute_result"
    }
   ],
   "source": [
    "df = pd.read_csv('car_prices.csv')\n",
    "df.head()"
   ]
  },
  {
   "cell_type": "markdown",
   "metadata": {},
   "source": [
    "Let's check the unique brands and basic statistics."
   ]
  },
  {
   "cell_type": "code",
   "execution_count": 3,
   "metadata": {},
   "outputs": [
    {
     "name": "stdout",
     "output_type": "stream",
     "text": [
      "Unique brands: ['Toyota' 'Ford' 'BMW']\n"
     ]
    }
   ],
   "source": [
    "print('Unique brands:', df['brand'].unique())"
   ]
  },
  {
   "cell_type": "code",
   "execution_count": 4,
   "metadata": {},
   "outputs": [
    {
     "name": "stdout",
     "output_type": "stream",
     "text": [
      "       engine_size         price\n",
      "count     20.00000  2.000000e+01\n",
      "mean       2.42500  2.261000e+06\n",
      "std        0.61548  8.066167e+05\n",
      "min        1.60000  1.600000e+06\n",
      "25%        1.97500  1.735000e+06\n",
      "50%        2.25000  1.800000e+06\n",
      "75%        3.02500  3.225000e+06\n",
      "max        3.50000  3.700000e+06\n"
     ]
    }
   ],
   "source": [
    "print(df.describe())"
   ]
  },
  {
   "cell_type": "markdown",
   "metadata": {},
   "source": [
    "### 4. Handling Categorical Variables\n",
    "\n",
    "#### 4.1 Creating Dummy Variables\n",
    "\n",
    "Machine learning models require numerical input. We convert the `brand` column into dummy variables (one column per brand)."
   ]
  },
  {
   "cell_type": "code",
   "execution_count": 5,
   "metadata": {},
   "outputs": [
    {
     "data": {
      "text/html": [
       "<div>\n",
       "<style scoped>\n",
       "    .dataframe tbody tr th:only-of-type {\n",
       "        vertical-align: middle;\n",
       "    }\n",
       "\n",
       "    .dataframe tbody tr th {\n",
       "        vertical-align: top;\n",
       "    }\n",
       "\n",
       "    .dataframe thead th {\n",
       "        text-align: right;\n",
       "    }\n",
       "</style>\n",
       "<table border=\"1\" class=\"dataframe\">\n",
       "  <thead>\n",
       "    <tr style=\"text-align: right;\">\n",
       "      <th></th>\n",
       "      <th>engine_size</th>\n",
       "      <th>price</th>\n",
       "      <th>brand_BMW</th>\n",
       "      <th>brand_Ford</th>\n",
       "      <th>brand_Toyota</th>\n",
       "    </tr>\n",
       "  </thead>\n",
       "  <tbody>\n",
       "    <tr>\n",
       "      <th>0</th>\n",
       "      <td>1.8</td>\n",
       "      <td>1800000</td>\n",
       "      <td>0</td>\n",
       "      <td>0</td>\n",
       "      <td>1</td>\n",
       "    </tr>\n",
       "    <tr>\n",
       "      <th>1</th>\n",
       "      <td>2.0</td>\n",
       "      <td>1700000</td>\n",
       "      <td>0</td>\n",
       "      <td>1</td>\n",
       "      <td>0</td>\n",
       "    </tr>\n",
       "    <tr>\n",
       "      <th>2</th>\n",
       "      <td>3.0</td>\n",
       "      <td>3200000</td>\n",
       "      <td>1</td>\n",
       "      <td>0</td>\n",
       "      <td>0</td>\n",
       "    </tr>\n",
       "    <tr>\n",
       "      <th>3</th>\n",
       "      <td>2.0</td>\n",
       "      <td>1850000</td>\n",
       "      <td>0</td>\n",
       "      <td>0</td>\n",
       "      <td>1</td>\n",
       "    </tr>\n",
       "    <tr>\n",
       "      <th>4</th>\n",
       "      <td>2.2</td>\n",
       "      <td>1720000</td>\n",
       "      <td>0</td>\n",
       "      <td>1</td>\n",
       "      <td>0</td>\n",
       "    </tr>\n",
       "  </tbody>\n",
       "</table>\n",
       "</div>"
      ],
      "text/plain": [
       "   engine_size    price  brand_BMW  brand_Ford  brand_Toyota\n",
       "0          1.8  1800000          0           0             1\n",
       "1          2.0  1700000          0           1             0\n",
       "2          3.0  3200000          1           0             0\n",
       "3          2.0  1850000          0           0             1\n",
       "4          2.2  1720000          0           1             0"
      ]
     },
     "execution_count": 5,
     "metadata": {},
     "output_type": "execute_result"
    }
   ],
   "source": [
    "df_dummies = pd.get_dummies(df, columns=['brand'], dtype=int)\n",
    "df_dummies.head()"
   ]
  },
  {
   "cell_type": "markdown",
   "metadata": {},
   "source": [
    "#### 4.2 Avoiding the Dummy Variable Trap\n",
    "\n",
    "To avoid multicollinearity (dummy variable trap), we drop one dummy column. Here, we drop `brand_Toyota`."
   ]
  },
  {
   "cell_type": "code",
   "execution_count": 6,
   "metadata": {},
   "outputs": [
    {
     "data": {
      "text/html": [
       "<div>\n",
       "<style scoped>\n",
       "    .dataframe tbody tr th:only-of-type {\n",
       "        vertical-align: middle;\n",
       "    }\n",
       "\n",
       "    .dataframe tbody tr th {\n",
       "        vertical-align: top;\n",
       "    }\n",
       "\n",
       "    .dataframe thead th {\n",
       "        text-align: right;\n",
       "    }\n",
       "</style>\n",
       "<table border=\"1\" class=\"dataframe\">\n",
       "  <thead>\n",
       "    <tr style=\"text-align: right;\">\n",
       "      <th></th>\n",
       "      <th>engine_size</th>\n",
       "      <th>price</th>\n",
       "      <th>brand_BMW</th>\n",
       "      <th>brand_Ford</th>\n",
       "    </tr>\n",
       "  </thead>\n",
       "  <tbody>\n",
       "    <tr>\n",
       "      <th>0</th>\n",
       "      <td>1.8</td>\n",
       "      <td>1800000</td>\n",
       "      <td>0</td>\n",
       "      <td>0</td>\n",
       "    </tr>\n",
       "    <tr>\n",
       "      <th>1</th>\n",
       "      <td>2.0</td>\n",
       "      <td>1700000</td>\n",
       "      <td>0</td>\n",
       "      <td>1</td>\n",
       "    </tr>\n",
       "    <tr>\n",
       "      <th>2</th>\n",
       "      <td>3.0</td>\n",
       "      <td>3200000</td>\n",
       "      <td>1</td>\n",
       "      <td>0</td>\n",
       "    </tr>\n",
       "    <tr>\n",
       "      <th>3</th>\n",
       "      <td>2.0</td>\n",
       "      <td>1850000</td>\n",
       "      <td>0</td>\n",
       "      <td>0</td>\n",
       "    </tr>\n",
       "    <tr>\n",
       "      <th>4</th>\n",
       "      <td>2.2</td>\n",
       "      <td>1720000</td>\n",
       "      <td>0</td>\n",
       "      <td>1</td>\n",
       "    </tr>\n",
       "  </tbody>\n",
       "</table>\n",
       "</div>"
      ],
      "text/plain": [
       "   engine_size    price  brand_BMW  brand_Ford\n",
       "0          1.8  1800000          0           0\n",
       "1          2.0  1700000          0           1\n",
       "2          3.0  3200000          1           0\n",
       "3          2.0  1850000          0           0\n",
       "4          2.2  1720000          0           1"
      ]
     },
     "execution_count": 6,
     "metadata": {},
     "output_type": "execute_result"
    }
   ],
   "source": [
    "df_dummies = df_dummies.drop('brand_Toyota', axis=1)\n",
    "df_dummies.head()"
   ]
  },
  {
   "cell_type": "markdown",
   "metadata": {},
   "source": [
    "### 5. Modeling with Dummy Variables\n",
    "\n",
    "Let's train a linear regression model to predict car price (in INR) using engine size and brand dummies."
   ]
  },
  {
   "cell_type": "code",
   "execution_count": 7,
   "metadata": {},
   "outputs": [
    {
     "name": "stdout",
     "output_type": "stream",
     "text": [
      "Model coefficients: [ 506440.6779661   994508.47457627 -214372.88135593]\n",
      "Model intercept: 809559.3220338987\n",
      "R² score: 0.9934307051519721\n"
     ]
    }
   ],
   "source": [
    "X = df_dummies.drop('price', axis=1)\n",
    "y = df_dummies['price']\n",
    "model = LinearRegression()\n",
    "model.fit(X, y)\n",
    "print('Model coefficients:', model.coef_)\n",
    "print('Model intercept:', model.intercept_)\n",
    "print('R² score:', model.score(X, y))"
   ]
  },
  {
   "cell_type": "markdown",
   "metadata": {},
   "source": [
    "#### Predicting the price of a Ford with 2.2L engine:"
   ]
  },
  {
   "cell_type": "code",
   "execution_count": 8,
   "metadata": {},
   "outputs": [
    {
     "name": "stdout",
     "output_type": "stream",
     "text": [
      "Predicted price for Ford 2.2L: ₹1709355.93\n"
     ]
    }
   ],
   "source": [
    "# [engine_size, brand_BMW, brand_Ford] (brand_Toyota dropped)\n",
    "pred = model.predict([[2.2, 0, 1]])\n",
    "print(f'Predicted price for Ford 2.2L: ₹{pred[0]:.2f}')"
   ]
  },
  {
   "cell_type": "markdown",
   "metadata": {},
   "source": [
    "### 6. One Hot Encoding with Scikit-learn\n",
    "\n",
    "We can also use `OneHotEncoder` from scikit-learn for the same purpose. This is useful in pipelines and for more complex datasets."
   ]
  },
  {
   "cell_type": "code",
   "execution_count": 9,
   "metadata": {},
   "outputs": [
    {
     "data": {
      "text/plain": [
       "array([[0. , 1. , 1.8],\n",
       "       [1. , 0. , 2. ],\n",
       "       [0. , 0. , 3. ],\n",
       "       [0. , 1. , 2. ],\n",
       "       [1. , 0. , 2.2]])"
      ]
     },
     "execution_count": 9,
     "metadata": {},
     "output_type": "execute_result"
    }
   ],
   "source": [
    "# Prepare features and target\n",
    "X2 = df[['brand', 'engine_size']]\n",
    "y2 = df['price']\n",
    "\n",
    "# OneHotEncoder with ColumnTransformer\n",
    "ct = ColumnTransformer([\n",
    "    ('brand_ohe', OneHotEncoder(drop='first'), ['brand'])\n",
    "], remainder='passthrough')\n",
    "\n",
    "X2_encoded = ct.fit_transform(X2)\n",
    "X2_encoded[:5]"
   ]
  },
  {
   "cell_type": "markdown",
   "metadata": {},
   "source": [
    "### 7. Modeling with One Hot Encoded Data\n",
    "\n",
    "Let's fit a model using the one-hot encoded features."
   ]
  },
  {
   "cell_type": "code",
   "execution_count": 10,
   "metadata": {},
   "outputs": [
    {
     "name": "stdout",
     "output_type": "stream",
     "text": [
      "Model coefficients: [-1208881.3559322   -994508.47457627   506440.6779661 ]\n",
      "Model intercept: 1804067.7966101693\n",
      "R² score: 0.9934307051519722\n"
     ]
    }
   ],
   "source": [
    "model2 = LinearRegression()\n",
    "model2.fit(X2_encoded, y2)\n",
    "print('Model coefficients:', model2.coef_)\n",
    "print('Model intercept:', model2.intercept_)\n",
    "print('R² score:', model2.score(X2_encoded, y2))"
   ]
  },
  {
   "cell_type": "markdown",
   "metadata": {},
   "source": [
    "#### Predicting the price of a BMW with 3.0L engine:"
   ]
  },
  {
   "cell_type": "code",
   "execution_count": 11,
   "metadata": {},
   "outputs": [
    {
     "name": "stdout",
     "output_type": "stream",
     "text": [
      "Predicted price for BMW 3.0L: ₹2114508.47\n"
     ]
    }
   ],
   "source": [
    "# For OneHotEncoder(drop='first'), order is [brand_BMW, brand_Ford, engine_size]\n",
    "pred2 = model2.predict([[1, 0, 3.0]])\n",
    "print(f'Predicted price for BMW 3.0L: ₹{pred2[0]:.2f}')"
   ]
  },
  {
   "cell_type": "markdown",
   "metadata": {},
   "source": [
    "### 8. Summary\n",
    "\n",
    "* In this notebook, we learned how to handle categorical variables using dummy variables and one hot encoding. \n",
    "\n",
    "* We saw how to avoid the dummy variable trap and how to use these techniques in machine learning models. \n",
    "\n",
    "* This process is essential for preparing real-world data for regression and classification tasks.\n",
    "\n",
    "---"
   ]
  },
  {
   "cell_type": "markdown",
   "metadata": {},
   "source": [
    "#### **Exercise: Dummy Variables and One Hot Encoding**\n",
    "\n",
    "#### Problem Statement\n",
    "\n",
    "You are provided with a dataset `smartphone_prices.csv` containing information about different smartphone models, their brand, RAM size (in GB), and their price in INR. The brand is a categorical variable. Your tasks are:\n",
    "\n",
    "1. Load and explore the dataset.\n",
    "2. Visualize the relationship between RAM and price, and between brand and price.\n",
    "3. Convert the `brand` column into dummy variables and avoid the dummy variable trap.\n",
    "4. Train a linear regression model to predict price using RAM and brand dummies.\n",
    "5. Evaluate the model's R² score.\n",
    "6. Use scikit-learn's `OneHotEncoder` to encode the brand column and train another model.\n",
    "7. Predict the price of a new smartphone: Brand = 'OnePlus', RAM = 8GB.\n",
    "8. Briefly explain each step and the outcome.\n",
    "\n",
    "---"
   ]
  },
  {
   "cell_type": "markdown",
   "metadata": {},
   "source": [
    "* Download dataset : [smartphone_prices.csv]() \n",
    "* Solution : [Exercise - Dummy Variables and One Hot Encoding]()"
   ]
  }
 ],
 "metadata": {
  "kernelspec": {
   "display_name": "Python 3",
   "language": "python",
   "name": "python3"
  },
  "language_info": {
   "codemirror_mode": {
    "name": "ipython",
    "version": 3
   },
   "file_extension": ".py",
   "mimetype": "text/x-python",
   "name": "python",
   "nbconvert_exporter": "python",
   "pygments_lexer": "ipython3",
   "version": "3.13.0"
  }
 },
 "nbformat": 4,
 "nbformat_minor": 2
}
