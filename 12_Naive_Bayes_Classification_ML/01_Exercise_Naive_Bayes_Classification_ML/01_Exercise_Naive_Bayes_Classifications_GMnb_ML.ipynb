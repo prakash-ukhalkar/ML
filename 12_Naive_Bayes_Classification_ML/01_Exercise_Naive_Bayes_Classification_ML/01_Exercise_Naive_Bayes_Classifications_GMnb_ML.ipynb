{
 "cells": [
  {
   "cell_type": "markdown",
   "metadata": {},
   "source": [
    "### **Exercise: Multi-class Document Classification using Naive Bayes**\n",
    "\n",
    "### Problem Statement\n",
    "\n",
    "* We will build a document classification system for a news agency. \n",
    "\n",
    "* The goal is to automatically categorize news articles into one of five categories: `business`, `entertainment`, `politics`, `sport`, or `tech`.\n",
    "\n",
    "* This is a multi-class classification problem. \n",
    "\n",
    "* We will use the **BBC Full Text Document Classification** dataset from Kaggle. \n",
    "\n",
    "* This dataset is excellent for demonstrating Naive Bayes because it contains both text and categorical features, allowing us to compare the performance of `MultinomialNB` (ideal for text) and `GaussianNB` (ideal for continuous features).\n",
    "\n",
    "### Tasks to be Performed\n",
    "\n",
    "1.  **Data Loading and Exploration**: Load the dataset and perform a basic exploratory data analysis to understand its structure and content.\n",
    "2.  **MultinomialNB Implementation**: \n",
    "    * Preprocess the text data using `CountVectorizer` to convert it into a numerical format suitable for `MultinomialNB`.\n",
    "    * Train a `MultinomialNB` model on the text data.\n",
    "    * Evaluate the model's performance using a classification report and a confusion matrix.\n",
    "3.  **GaussianNB Implementation**: \n",
    "    * Engineer a numerical feature from the text data (e.g., text length).\n",
    "    * Train a `GaussianNB` model on this new numerical feature.\n",
    "    * Evaluate its performance and compare it with the MultinomialNB model.\n",
    "4.  **Manual Prediction**: Perform manual predictions on new, unseen articles to test the models in a real-world scenario.\n",
    "5.  **Summary and Insights**: Provide a summary of the findings, including which model performed better and why, and discuss the suitability of each algorithm for this type of problem."
   ]
  },
  {
   "cell_type": "markdown",
   "metadata": {},
   "source": [
    "---"
   ]
  },
  {
   "cell_type": "markdown",
   "metadata": {},
   "source": [
    "### Step 1: Import necessary libraries, Load and Explore the Dataset\n",
    "\n",
    "* First, import the necessary libraries then we'll load and explore the dataset."
   ]
  },
  {
   "cell_type": "code",
   "execution_count": 1,
   "metadata": {},
   "outputs": [],
   "source": [
    "# Import necessary libraries\n",
    "import numpy as np\n",
    "import pandas as pd\n",
    "import matplotlib.pyplot as plt\n",
    "import seaborn as sns\n",
    "from sklearn.model_selection import train_test_split\n",
    "from sklearn.feature_extraction.text import CountVectorizer\n",
    "from sklearn.naive_bayes import MultinomialNB, GaussianNB\n",
    "from sklearn.metrics import accuracy_score, confusion_matrix, classification_report"
   ]
  },
  {
   "cell_type": "markdown",
   "id": "d5a750ee",
   "metadata": {},
   "source": [
    "#### Load the dataset. You need to download it from Kaggle first.\n",
    "* Dataset URL: https://www.kaggle.com/datasets/sunilthite/text-document-classification-dataset\n",
    "\n",
    "* This is text document classification dataset which contains 2225 text data and five categories of documents. \n",
    "\n",
    "* Five categories are politics, sport, tech, entertainment and business. \n",
    "\n",
    "* We can use this dataset for documents classification and document clustering.\n",
    "\n",
    "* About Dataset\n",
    "\n",
    "  * Dataset contains two features text and label.\n",
    "    * No. of Rows : 2225\n",
    "    * No. of Columns : 2\n",
    "\n",
    "* Text: It contains different categories of text data\n",
    "* Label: It contains labels for five different categories : 0,1,2,3,4\n",
    "\n",
    "  * Politics = 0\n",
    "  * Sport = 1\n",
    "  * Technology = 2\n",
    "  * Entertainment =3\n",
    "  * Business = 4\n",
    "\n",
    "  ---"
   ]
  },
  {
   "cell_type": "code",
   "execution_count": 8,
   "id": "77d14ca9",
   "metadata": {},
   "outputs": [
    {
     "data": {
      "text/html": [
       "<div>\n",
       "<style scoped>\n",
       "    .dataframe tbody tr th:only-of-type {\n",
       "        vertical-align: middle;\n",
       "    }\n",
       "\n",
       "    .dataframe tbody tr th {\n",
       "        vertical-align: top;\n",
       "    }\n",
       "\n",
       "    .dataframe thead th {\n",
       "        text-align: right;\n",
       "    }\n",
       "</style>\n",
       "<table border=\"1\" class=\"dataframe\">\n",
       "  <thead>\n",
       "    <tr style=\"text-align: right;\">\n",
       "      <th></th>\n",
       "      <th>Text</th>\n",
       "      <th>Label</th>\n",
       "    </tr>\n",
       "  </thead>\n",
       "  <tbody>\n",
       "    <tr>\n",
       "      <th>0</th>\n",
       "      <td>Budget to set scene for election\\n \\n Gordon B...</td>\n",
       "      <td>0</td>\n",
       "    </tr>\n",
       "    <tr>\n",
       "      <th>1</th>\n",
       "      <td>Army chiefs in regiments decision\\n \\n Militar...</td>\n",
       "      <td>0</td>\n",
       "    </tr>\n",
       "    <tr>\n",
       "      <th>2</th>\n",
       "      <td>Howard denies split over ID cards\\n \\n Michael...</td>\n",
       "      <td>0</td>\n",
       "    </tr>\n",
       "    <tr>\n",
       "      <th>3</th>\n",
       "      <td>Observers to monitor UK election\\n \\n Minister...</td>\n",
       "      <td>0</td>\n",
       "    </tr>\n",
       "    <tr>\n",
       "      <th>4</th>\n",
       "      <td>Kilroy names election seat target\\n \\n Ex-chat...</td>\n",
       "      <td>0</td>\n",
       "    </tr>\n",
       "  </tbody>\n",
       "</table>\n",
       "</div>"
      ],
      "text/plain": [
       "                                                Text  Label\n",
       "0  Budget to set scene for election\\n \\n Gordon B...      0\n",
       "1  Army chiefs in regiments decision\\n \\n Militar...      0\n",
       "2  Howard denies split over ID cards\\n \\n Michael...      0\n",
       "3  Observers to monitor UK election\\n \\n Minister...      0\n",
       "4  Kilroy names election seat target\\n \\n Ex-chat...      0"
      ]
     },
     "execution_count": 8,
     "metadata": {},
     "output_type": "execute_result"
    }
   ],
   "source": [
    "# Load the dataset and display first few rows\n",
    "df = pd.read_csv('bbc-fulltext-document-classification.csv')\n",
    "df.head()\n",
    "\n"
   ]
  },
  {
   "cell_type": "code",
   "execution_count": 9,
   "id": "e7f70795",
   "metadata": {},
   "outputs": [
    {
     "name": "stdout",
     "output_type": "stream",
     "text": [
      "Dataset Information:\n",
      "<class 'pandas.core.frame.DataFrame'>\n",
      "RangeIndex: 2225 entries, 0 to 2224\n",
      "Data columns (total 2 columns):\n",
      " #   Column  Non-Null Count  Dtype \n",
      "---  ------  --------------  ----- \n",
      " 0   Text    2225 non-null   object\n",
      " 1   Label   2225 non-null   int64 \n",
      "dtypes: int64(1), object(1)\n",
      "memory usage: 34.9+ KB\n"
     ]
    }
   ],
   "source": [
    "print(\"Dataset Information:\")\n",
    "df.info()"
   ]
  },
  {
   "cell_type": "code",
   "execution_count": 20,
   "id": "c8525615",
   "metadata": {},
   "outputs": [
    {
     "data": {
      "text/plain": [
       "Label\n",
       "0    417\n",
       "1    511\n",
       "2    401\n",
       "3    386\n",
       "4    510\n",
       "Name: count, dtype: int64"
      ]
     },
     "execution_count": 20,
     "metadata": {},
     "output_type": "execute_result"
    }
   ],
   "source": [
    "# Display class distribution using Class Labels\n",
    "df['Label'].value_counts().sort_index()"
   ]
  },
  {
   "cell_type": "code",
   "execution_count": 32,
   "id": "5c8fba4b",
   "metadata": {},
   "outputs": [
    {
     "data": {
      "image/png": "[encoded data removed]",
      "text/plain": [
       "<Figure size 1000x600 with 1 Axes>"
      ]
     },
     "metadata": {},
     "output_type": "display_data"
    }
   ],
   "source": [
    "# Visualize class distribution using Class Labels\n",
    "plt.figure(figsize=(10,6))\n",
    "sns.countplot(data=df, x='Label')\n",
    "plt.title('Class Distribution')\n",
    "plt.show()"
   ]
  },
  {
   "cell_type": "markdown",
   "metadata": {},
   "source": [
    "### Step 2: MultinomialNB Implementation (Best for Text Data)\n",
    "\n",
    "* We'll use `CountVectorizer` to convert the text articles into a matrix of word counts. \n",
    "\n",
    "* This is the standard procedure for preparing text data for `MultinomialNB`, as the algorithm works with discrete features (counts)."
   ]
  },
  {
   "cell_type": "code",
   "execution_count": 24,
   "metadata": {},
   "outputs": [],
   "source": [
    "# Split the data into features (X) and target (y)\n",
    "X_text = df['Text']\n",
    "y = df['Label']\n",
    "\n",
    "# Split into training and testing sets\n",
    "X_train_text, X_test_text, y_train, y_test = train_test_split(X_text, y, test_size=0.2, random_state=42)"
   ]
  },
  {
   "cell_type": "code",
   "execution_count": 25,
   "id": "db94a4cd",
   "metadata": {},
   "outputs": [
    {
     "name": "stdout",
     "output_type": "stream",
     "text": [
      "Vocabulary size: 1000\n"
     ]
    }
   ],
   "source": [
    "# Initialize CountVectorizer\n",
    "# We set a max_features to limit the vocabulary size for better performance.\n",
    "vectorizer = CountVectorizer(stop_words='english', max_features=1000)\n",
    "\n",
    "# Fit and transform the training data, then transform the test data\n",
    "X_train_counts = vectorizer.fit_transform(X_train_text)\n",
    "X_test_counts = vectorizer.transform(X_test_text)\n",
    "\n",
    "# Print the vocabulary size\n",
    "print(\"Vocabulary size:\", len(vectorizer.vocabulary_))"
   ]
  },
  {
   "cell_type": "code",
   "execution_count": 26,
   "id": "884d2eb7",
   "metadata": {},
   "outputs": [
    {
     "data": {
      "text/plain": [
       "((1780, 1000), (445, 1000))"
      ]
     },
     "execution_count": 26,
     "metadata": {},
     "output_type": "execute_result"
    }
   ],
   "source": [
    "# Display the shape of the training and test feature matrices\n",
    "X_train_counts.shape, X_test_counts.shape"
   ]
  },
  {
   "cell_type": "code",
   "execution_count": 27,
   "id": "68cf8d49",
   "metadata": {},
   "outputs": [],
   "source": [
    "# Train MultinomialNB model\n",
    "mnb = MultinomialNB()\n",
    "mnb.fit(X_train_counts, y_train)\n",
    "\n",
    "# Make predictions\n",
    "y_pred_mnb = mnb.predict(X_test_counts)"
   ]
  },
  {
   "cell_type": "code",
   "execution_count": 28,
   "id": "8bc28ee1",
   "metadata": {},
   "outputs": [
    {
     "name": "stdout",
     "output_type": "stream",
     "text": [
      "\n",
      "MultinomialNB Performance:\n",
      "Accuracy: 0.95\n"
     ]
    }
   ],
   "source": [
    "# Evaluate the model\n",
    "print(\"\\nMultinomialNB Performance:\")\n",
    "print(f\"Accuracy: {accuracy_score(y_test, y_pred_mnb):.2f}\")"
   ]
  },
  {
   "cell_type": "code",
   "execution_count": 30,
   "id": "47689bf9",
   "metadata": {},
   "outputs": [
    {
     "name": "stdout",
     "output_type": "stream",
     "text": [
      "\n",
      "Classification Report:\n",
      "\n",
      "               precision    recall  f1-score   support\n",
      "\n",
      "           0       0.94      0.97      0.95        92\n",
      "           1       0.99      0.97      0.98        98\n",
      "           2       0.93      0.91      0.92        77\n",
      "           3       0.96      0.95      0.95        76\n",
      "           4       0.93      0.95      0.94       102\n",
      "\n",
      "    accuracy                           0.95       445\n",
      "   macro avg       0.95      0.95      0.95       445\n",
      "weighted avg       0.95      0.95      0.95       445\n",
      "\n"
     ]
    }
   ],
   "source": [
    "# Print classification report\n",
    "print(\"\\nClassification Report:\\n\\n\", classification_report(y_test, y_pred_mnb))"
   ]
  },
  {
   "cell_type": "code",
   "execution_count": 33,
   "id": "a6e9627c",
   "metadata": {},
   "outputs": [
    {
     "data": {
      "image/png": "[encoded data removed]",
      "text/plain": [
       "<Figure size 1000x600 with 2 Axes>"
      ]
     },
     "metadata": {},
     "output_type": "display_data"
    }
   ],
   "source": [
    "# Compute confusion matrix\n",
    "conf_matrix_mnb = confusion_matrix(y_test, y_pred_mnb)\n",
    "\n",
    "# Visualize the confusion matrix\n",
    "plt.figure(figsize=(10, 6))\n",
    "sns.heatmap(conf_matrix_mnb, annot=True, fmt='d', cmap='Blues', \n",
    "            xticklabels=mnb.classes_, yticklabels=mnb.classes_)\n",
    "plt.xlabel('Predicted Label')\n",
    "plt.ylabel('True Label')\n",
    "plt.title('MultinomialNB Confusion Matrix')\n",
    "plt.show()"
   ]
  },
  {
   "cell_type": "markdown",
   "id": "b5c85e94",
   "metadata": {},
   "source": [
    "---"
   ]
  },
  {
   "cell_type": "markdown",
   "id": "e1103094",
   "metadata": {},
   "source": [
    "### Step 3: GaussianNB Implementation\n",
    "\n",
    "* Since `GaussianNB` works best with continuous numerical features, we will engineer a simple feature from our text data: the length of the articles. \n",
    "\n",
    "* We will also include the number of unique words as a second feature. \n",
    "\n",
    "* This is a simple example to show how GaussianNB can be applied to a related but different type of data."
   ]
  },
  {
   "cell_type": "code",
   "execution_count": 40,
   "metadata": {},
   "outputs": [
    {
     "data": {
      "text/html": [
       "<div>\n",
       "<style scoped>\n",
       "    .dataframe tbody tr th:only-of-type {\n",
       "        vertical-align: middle;\n",
       "    }\n",
       "\n",
       "    .dataframe tbody tr th {\n",
       "        vertical-align: top;\n",
       "    }\n",
       "\n",
       "    .dataframe thead th {\n",
       "        text-align: right;\n",
       "    }\n",
       "</style>\n",
       "<table border=\"1\" class=\"dataframe\">\n",
       "  <thead>\n",
       "    <tr style=\"text-align: right;\">\n",
       "      <th></th>\n",
       "      <th>Text</th>\n",
       "      <th>Label</th>\n",
       "      <th>text_length</th>\n",
       "      <th>unique_words</th>\n",
       "    </tr>\n",
       "  </thead>\n",
       "  <tbody>\n",
       "    <tr>\n",
       "      <th>0</th>\n",
       "      <td>Budget to set scene for election\\n \\n Gordon B...</td>\n",
       "      <td>0</td>\n",
       "      <td>3147</td>\n",
       "      <td>313</td>\n",
       "    </tr>\n",
       "    <tr>\n",
       "      <th>1</th>\n",
       "      <td>Army chiefs in regiments decision\\n \\n Militar...</td>\n",
       "      <td>0</td>\n",
       "      <td>3026</td>\n",
       "      <td>271</td>\n",
       "    </tr>\n",
       "    <tr>\n",
       "      <th>2</th>\n",
       "      <td>Howard denies split over ID cards\\n \\n Michael...</td>\n",
       "      <td>0</td>\n",
       "      <td>3167</td>\n",
       "      <td>295</td>\n",
       "    </tr>\n",
       "    <tr>\n",
       "      <th>3</th>\n",
       "      <td>Observers to monitor UK election\\n \\n Minister...</td>\n",
       "      <td>0</td>\n",
       "      <td>3094</td>\n",
       "      <td>294</td>\n",
       "    </tr>\n",
       "    <tr>\n",
       "      <th>4</th>\n",
       "      <td>Kilroy names election seat target\\n \\n Ex-chat...</td>\n",
       "      <td>0</td>\n",
       "      <td>2614</td>\n",
       "      <td>257</td>\n",
       "    </tr>\n",
       "  </tbody>\n",
       "</table>\n",
       "</div>"
      ],
      "text/plain": [
       "                                                Text  Label  text_length  \\\n",
       "0  Budget to set scene for election\\n \\n Gordon B...      0         3147   \n",
       "1  Army chiefs in regiments decision\\n \\n Militar...      0         3026   \n",
       "2  Howard denies split over ID cards\\n \\n Michael...      0         3167   \n",
       "3  Observers to monitor UK election\\n \\n Minister...      0         3094   \n",
       "4  Kilroy names election seat target\\n \\n Ex-chat...      0         2614   \n",
       "\n",
       "   unique_words  \n",
       "0           313  \n",
       "1           271  \n",
       "2           295  \n",
       "3           294  \n",
       "4           257  "
      ]
     },
     "execution_count": 40,
     "metadata": {},
     "output_type": "execute_result"
    }
   ],
   "source": [
    "# Create new numerical features from the text data\n",
    "df['text_length'] = df['Text'].apply(len)\n",
    "df['unique_words'] = df['Text'].apply(lambda x: len(set(x.split())))\n",
    "\n",
    "# Display the updated DataFrame\n",
    "df.head()"
   ]
  },
  {
   "cell_type": "code",
   "execution_count": 41,
   "id": "bd7867d6",
   "metadata": {},
   "outputs": [],
   "source": [
    "# Select the new features for GaussianNB\n",
    "X_numerical = df[['text_length', 'unique_words']]\n",
    "y = df['Label']\n",
    "\n",
    "# Split the numerical data into training and testing sets\n",
    "X_train_num, X_test_num, y_train_num, y_test_num = train_test_split(X_numerical, y, test_size=0.2, random_state=42)"
   ]
  },
  {
   "cell_type": "code",
   "execution_count": 42,
   "id": "6ad4d31a",
   "metadata": {},
   "outputs": [],
   "source": [
    "# Train GaussianNB model\n",
    "gnb = GaussianNB()\n",
    "gnb.fit(X_train_num, y_train_num)\n",
    "\n",
    "# Make predictions\n",
    "y_pred_gnb = gnb.predict(X_test_num)"
   ]
  },
  {
   "cell_type": "code",
   "execution_count": 43,
   "id": "5fde2112",
   "metadata": {},
   "outputs": [
    {
     "name": "stdout",
     "output_type": "stream",
     "text": [
      "\n",
      "GaussianNB Performance:\n",
      "Accuracy: 0.31\n"
     ]
    }
   ],
   "source": [
    "# Evaluate the model\n",
    "print(\"\\nGaussianNB Performance:\")\n",
    "print(f\"Accuracy: {accuracy_score(y_test_num, y_pred_gnb):.2f}\")"
   ]
  },
  {
   "cell_type": "code",
   "execution_count": 38,
   "id": "d71013ff",
   "metadata": {},
   "outputs": [
    {
     "name": "stdout",
     "output_type": "stream",
     "text": [
      "\n",
      "Classification Report:\n",
      "\n",
      "               precision    recall  f1-score   support\n",
      "\n",
      "           0       0.38      0.20      0.26        92\n",
      "           1       0.49      0.24      0.33        98\n",
      "           2       0.31      0.23      0.27        77\n",
      "           3       0.00      0.00      0.00        76\n",
      "           4       0.27      0.75      0.39       102\n",
      "\n",
      "    accuracy                           0.31       445\n",
      "   macro avg       0.29      0.29      0.25       445\n",
      "weighted avg       0.30      0.31      0.26       445\n",
      "\n"
     ]
    }
   ],
   "source": [
    "print(\"\\nClassification Report:\\n\\n\", classification_report(y_test_num, y_pred_gnb))"
   ]
  },
  {
   "cell_type": "code",
   "execution_count": 39,
   "id": "37fb4a58",
   "metadata": {},
   "outputs": [
    {
     "data": {
      "image/png": "[encoded data removed]",
      "text/plain": [
       "<Figure size 800x600 with 2 Axes>"
      ]
     },
     "metadata": {},
     "output_type": "display_data"
    }
   ],
   "source": [
    "# Calculate the confusion matrix\n",
    "conf_matrix_gnb = confusion_matrix(y_test_num, y_pred_gnb)\n",
    "\n",
    "# Visualize the confusion matrix\n",
    "plt.figure(figsize=(8, 6))\n",
    "sns.heatmap(conf_matrix_gnb, annot=True, fmt='d', cmap='Blues', \n",
    "            xticklabels=gnb.classes_, yticklabels=gnb.classes_)\n",
    "plt.xlabel('Predicted Label')\n",
    "plt.ylabel('True Label')\n",
    "plt.title('GaussianNB Confusion Matrix')\n",
    "plt.show()"
   ]
  },
  {
   "cell_type": "markdown",
   "metadata": {},
   "source": [
    "### Step 4: Manual Prediction Tasks\n",
    "\n",
    "* Now let's use our trained models to predict the category of a few manually created news articles. \n",
    "\n",
    "* This demonstrates a real-world use case."
   ]
  },
  {
   "cell_type": "code",
   "execution_count": 44,
   "metadata": {},
   "outputs": [],
   "source": [
    "new_articles = [\n",
    "    'The central bank has announced a new policy to combat inflation, affecting interest rates.', # business\n",
    "    'A new superhero movie topped the box office, grossing millions on its opening weekend.', # entertainment\n",
    "    'A famous athlete scored a decisive goal in the final minutes of the match, securing a historic win.', # sport\n",
    "    'Scientists are developing a new type of battery that promises to revolutionize electric vehicle technology.', # tech\n",
    "    'A new bill was passed by the parliament, causing a major shift in national governance.', # politics\n",
    "]"
   ]
  },
  {
   "cell_type": "markdown",
   "id": "07f5da87",
   "metadata": {},
   "source": [
    "* new_articles: It contains different categories of text data\n",
    "* Label: It contains labels for five different categories : 0,1,2,3,4\n",
    "\n",
    "  * Politics = 0\n",
    "  * Sport = 1\n",
    "  * Technology = 2\n",
    "  * Entertainment =3\n",
    "  * Business = 4"
   ]
  },
  {
   "cell_type": "code",
   "execution_count": 45,
   "id": "1f41bdd0",
   "metadata": {},
   "outputs": [
    {
     "name": "stdout",
     "output_type": "stream",
     "text": [
      "\n",
      "--- Predictions with MultinomialNB ---\n",
      "Article: 'The central bank has announced a new policy to com...' -> Predicted Category: 4\n",
      "Article: 'A new superhero movie topped the box office, gross...' -> Predicted Category: 3\n",
      "Article: 'A famous athlete scored a decisive goal in the fin...' -> Predicted Category: 1\n",
      "Article: 'Scientists are developing a new type of battery th...' -> Predicted Category: 2\n",
      "Article: 'A new bill was passed by the parliament, causing a...' -> Predicted Category: 0\n"
     ]
    }
   ],
   "source": [
    "# Make predictions with MultinomialNB\n",
    "print(\"\\n--- Predictions with MultinomialNB ---\")\n",
    "# Vectorize the new articles using the *same* fitted CountVectorizer\n",
    "new_articles_counts = vectorizer.transform(new_articles)\n",
    "predictions_mnb = mnb.predict(new_articles_counts)\n",
    "\n",
    "for article, prediction in zip(new_articles, predictions_mnb):\n",
    "    print(f\"Article: '{article[:50]}...' -> Predicted Category: {prediction}\")"
   ]
  },
  {
   "cell_type": "code",
   "execution_count": 53,
   "id": "4babb5b9",
   "metadata": {},
   "outputs": [
    {
     "name": "stdout",
     "output_type": "stream",
     "text": [
      "\n",
      "--- Predictions with GaussianNB ---\n",
      "Article: 'The central bank has announced a new policy to com...' -> Predicted Category: 3\n",
      "Article: 'A new superhero movie topped the box office, gross...' -> Predicted Category: 3\n",
      "Article: 'A famous athlete scored a decisive goal in the fin...' -> Predicted Category: 3\n",
      "Article: 'Scientists are developing a new type of battery th...' -> Predicted Category: 3\n",
      "Article: 'A new bill was passed by the parliament, causing a...' -> Predicted Category: 3\n"
     ]
    }
   ],
   "source": [
    "# Make predictions with GaussianNB\n",
    "print(\"\\n--- Predictions with GaussianNB ---\")\n",
    "# Engineer features for the new articles for GaussianNB\n",
    "new_articles_num = pd.DataFrame({\n",
    "    'text_length': [len(x) for x in new_articles],\n",
    "    'unique_words': [len(set(x.split())) for x in new_articles]\n",
    "})\n",
    "\n",
    "predictions_gnb = gnb.predict(new_articles_num)\n",
    "\n",
    "for article, prediction in zip(new_articles, predictions_gnb):\n",
    "    print(f\"Article: '{article[:50]}...' -> Predicted Category: {prediction}\")"
   ]
  },
  {
   "cell_type": "markdown",
   "metadata": {},
   "source": [
    "### Summary \n",
    "\n",
    "* Based on the results, we can draw the following conclusions:\n",
    "\n",
    "  1.  **MultinomialNB Performance**: As expected, the `MultinomialNB` model performed exceptionally well on this task. \n",
    "      * Its accuracy was very high, and the confusion matrix shows that it correctly classified almost all documents. \n",
    "      * This is because MultinomialNB is designed to work with word count features, which are highly discriminative for text classification problems. \n",
    "      * The model effectively learns the probability of a word appearing in a certain category.\n",
    "\n",
    "  2.  **GaussianNB Performance**: The `GaussianNB` model, while a valid classification algorithm, did not perform as well. \n",
    "      * This is because the features we engineered (text length and number of unique words) are not as rich or informative as the full Bag-of-Words representation used by `MultinomialNB`. \n",
    "      * The model struggled to differentiate between the categories based on these simple numerical features, leading to lower accuracy.\n",
    "\n",
    "  3.  **Key Takeaways**: \n",
    "      * The choice of Naive Bayes variant is crucial and depends on the type of data you have. For discrete count data like word counts in text, `MultinomialNB` is the ideal choice.\n",
    "      * For continuous data that can be assumed to follow a normal distribution, `GaussianNB` is more suitable.\n",
    "      * In the case of text classification, a single numerical feature like text length is a poor substitute for the full word count vector, as it loses most of the semantic information crucial for accurate classification.\n",
    "      * This exercise highlights the importance of matching the algorithm to the data type. While both are Naive Bayes classifiers, their underlying assumptions and applications are different.\n",
    "\n",
    "---"
   ]
  },
  {
   "cell_type": "markdown",
   "id": "e9d41bcf",
   "metadata": {},
   "source": [
    "*Machine Learning - Python Notebook* by [*Prakash Ukhalkar*](https://github.com/prakash-ukhalkar)"
   ]
  }
 ],
 "metadata": {
  "kernelspec": {
   "display_name": "Python 3",
   "language": "python",
   "name": "python3"
  },
  "language_info": {
   "codemirror_mode": {
    "name": "ipython",
    "version": 3
   },
   "file_extension": ".py",
   "mimetype": "text/x-python",
   "name": "python",
   "nbconvert_exporter": "python",
   "pygments_lexer": "ipython3",
   "version": "3.13.0"
  }
 },
 "nbformat": 4,
 "nbformat_minor": 5
}
