{
 "cells": [
  {
   "cell_type": "markdown",
   "id": "b80d4103",
   "metadata": {},
   "source": [
    "### **Simple Linear Regression - Machine Learning using Python**\n",
    "\n",
    "This notebook demonstrates a comprehensive workflow for performing and evaluating Simple Linear Regression using Python and `scikit-learn`."
   ]
  },
  {
   "cell_type": "markdown",
   "id": "d0d8a5b2",
   "metadata": {},
   "source": [
    "### Steps for Performing Linear Regression\n",
    "\n",
    "1. **Import Required Libraries**  \n",
    "   Import all necessary Python libraries for data manipulation, visualization, and modeling.\n",
    "\n",
    "2. **Load and Explore Training Data**  \n",
    "   Load the dataset, display its contents, and explore basic statistics.\n",
    "\n",
    "3. **Visualize Training Data**  \n",
    "   Create a scatter plot to visualize the relationship between features and target.\n",
    "\n",
    "4. **Split Data into Training and Testing Sets**  \n",
    "   Use `train_test_split` to divide the data for unbiased model evaluation.\n",
    "\n",
    "5. **Initialize and Train Linear Regression Model**  \n",
    "   Instantiate and fit a linear regression model to the training data.\n",
    "\n",
    "6. **Make Predictions on Test Set**  \n",
    "   Use the trained model to predict target values for the test set.\n",
    "\n",
    "7. **Evaluate Model Performance (R² Score)**  \n",
    "   Assess the model's goodness-of-fit using the R² score.\n",
    "\n",
    "8. **Calculate Key Statistical Metrics (MAE, MSE, RMSE)**  \n",
    "   Compute Mean Absolute Error, Mean Squared Error, and Root Mean Squared Error.\n",
    "\n",
    "9. **Manual Prediction Calculation**  \n",
    "   Demonstrate manual calculation of predictions using the learned coefficients.\n",
    "\n",
    "10. **Predict for Array of Values**  \n",
    "    Use the model to predict on a new set of input values.\n",
    "\n",
    "11. **Add Predictions to Testing Data**  \n",
    "    Add the predicted values as a new column to the DataFrame.\n",
    "\n",
    "12. **Save Predictions to CSV**  \n",
    "    Save the DataFrame with predictions to a CSV file.\n",
    "\n",
    "13. **Plot Model Predictions**  \n",
    "    Visualize the regression line along with the original data."
   ]
  },
  {
   "cell_type": "markdown",
   "id": "03710071",
   "metadata": {},
   "source": [
    "### Import Required Libraries\n",
    "\n",
    "Import `pandas`, `numpy`, `matplotlib`, and scikit-learn's `linear_model`, `model_selection`, and `metrics` modules. Set up matplotlib for inline plotting and suppress specific warnings."
   ]
  },
  {
   "cell_type": "code",
   "execution_count": 15,
   "id": "d49e5006",
   "metadata": {},
   "outputs": [],
   "source": [
    "import pandas as pd\n",
    "import numpy as np\n",
    "import matplotlib.pyplot as plt\n",
    "%matplotlib inline\n",
    "\n",
    "from sklearn import linear_model, metrics\n",
    "from sklearn.model_selection import train_test_split\n",
    "\n",
    "import warnings\n",
    "warnings.filterwarnings(\"ignore\", message=\"X does not have valid feature names*\")"
   ]
  },
  {
   "cell_type": "markdown",
   "id": "12cb467e",
   "metadata": {},
   "source": [
    "### Load and Explore Training Data\n",
    "\n",
    "Load the training data from a CSV file using pandas, display the DataFrame, and show basic statistics."
   ]
  },
  {
   "cell_type": "code",
   "execution_count": 16,
   "id": "9ba115ae",
   "metadata": {},
   "outputs": [
    {
     "data": {
      "text/html": [
       "<div>\n",
       "<style scoped>\n",
       "    .dataframe tbody tr th:only-of-type {\n",
       "        vertical-align: middle;\n",
       "    }\n",
       "\n",
       "    .dataframe tbody tr th {\n",
       "        vertical-align: top;\n",
       "    }\n",
       "\n",
       "    .dataframe thead th {\n",
       "        text-align: right;\n",
       "    }\n",
       "</style>\n",
       "<table border=\"1\" class=\"dataframe\">\n",
       "  <thead>\n",
       "    <tr style=\"text-align: right;\">\n",
       "      <th></th>\n",
       "      <th>Area</th>\n",
       "      <th>Price_INR</th>\n",
       "    </tr>\n",
       "  </thead>\n",
       "  <tbody>\n",
       "    <tr>\n",
       "      <th>0</th>\n",
       "      <td>750</td>\n",
       "      <td>3194193</td>\n",
       "    </tr>\n",
       "    <tr>\n",
       "      <th>1</th>\n",
       "      <td>800</td>\n",
       "      <td>2502586</td>\n",
       "    </tr>\n",
       "    <tr>\n",
       "      <th>2</th>\n",
       "      <td>850</td>\n",
       "      <td>3969622</td>\n",
       "    </tr>\n",
       "    <tr>\n",
       "      <th>3</th>\n",
       "      <td>900</td>\n",
       "      <td>3588555</td>\n",
       "    </tr>\n",
       "    <tr>\n",
       "      <th>4</th>\n",
       "      <td>950</td>\n",
       "      <td>4021949</td>\n",
       "    </tr>\n",
       "  </tbody>\n",
       "</table>\n",
       "</div>"
      ],
      "text/plain": [
       "   Area  Price_INR\n",
       "0   750    3194193\n",
       "1   800    2502586\n",
       "2   850    3969622\n",
       "3   900    3588555\n",
       "4   950    4021949"
      ]
     },
     "execution_count": 16,
     "metadata": {},
     "output_type": "execute_result"
    }
   ],
   "source": [
    "# Load the dataset\n",
    "df = pd.read_csv(\"house_prices_inr.csv\")\n",
    "df.head()"
   ]
  },
  {
   "cell_type": "code",
   "execution_count": 17,
   "id": "ec8920a3",
   "metadata": {},
   "outputs": [
    {
     "data": {
      "text/html": [
       "<div>\n",
       "<style scoped>\n",
       "    .dataframe tbody tr th:only-of-type {\n",
       "        vertical-align: middle;\n",
       "    }\n",
       "\n",
       "    .dataframe tbody tr th {\n",
       "        vertical-align: top;\n",
       "    }\n",
       "\n",
       "    .dataframe thead th {\n",
       "        text-align: right;\n",
       "    }\n",
       "</style>\n",
       "<table border=\"1\" class=\"dataframe\">\n",
       "  <thead>\n",
       "    <tr style=\"text-align: right;\">\n",
       "      <th></th>\n",
       "      <th>Area</th>\n",
       "      <th>Price_INR</th>\n",
       "    </tr>\n",
       "  </thead>\n",
       "  <tbody>\n",
       "    <tr>\n",
       "      <th>count</th>\n",
       "      <td>60.00000</td>\n",
       "      <td>6.000000e+01</td>\n",
       "    </tr>\n",
       "    <tr>\n",
       "      <th>mean</th>\n",
       "      <td>2225.00000</td>\n",
       "      <td>1.071367e+07</td>\n",
       "    </tr>\n",
       "    <tr>\n",
       "      <th>std</th>\n",
       "      <td>873.21246</td>\n",
       "      <td>6.872745e+06</td>\n",
       "    </tr>\n",
       "    <tr>\n",
       "      <th>min</th>\n",
       "      <td>750.00000</td>\n",
       "      <td>2.502586e+06</td>\n",
       "    </tr>\n",
       "    <tr>\n",
       "      <th>25%</th>\n",
       "      <td>1487.50000</td>\n",
       "      <td>5.778317e+06</td>\n",
       "    </tr>\n",
       "    <tr>\n",
       "      <th>50%</th>\n",
       "      <td>2225.00000</td>\n",
       "      <td>9.109538e+06</td>\n",
       "    </tr>\n",
       "    <tr>\n",
       "      <th>75%</th>\n",
       "      <td>2962.50000</td>\n",
       "      <td>1.409777e+07</td>\n",
       "    </tr>\n",
       "    <tr>\n",
       "      <th>max</th>\n",
       "      <td>3700.00000</td>\n",
       "      <td>3.938714e+07</td>\n",
       "    </tr>\n",
       "  </tbody>\n",
       "</table>\n",
       "</div>"
      ],
      "text/plain": [
       "             Area     Price_INR\n",
       "count    60.00000  6.000000e+01\n",
       "mean   2225.00000  1.071367e+07\n",
       "std     873.21246  6.872745e+06\n",
       "min     750.00000  2.502586e+06\n",
       "25%    1487.50000  5.778317e+06\n",
       "50%    2225.00000  9.109538e+06\n",
       "75%    2962.50000  1.409777e+07\n",
       "max    3700.00000  3.938714e+07"
      ]
     },
     "execution_count": 17,
     "metadata": {},
     "output_type": "execute_result"
    }
   ],
   "source": [
    "# Display basic statistics\n",
    "df.describe()"
   ]
  },
  {
   "cell_type": "markdown",
   "id": "bcb711b0",
   "metadata": {},
   "source": [
    "### Visualize Training Data\n",
    "\n",
    "Create a scatter plot of area vs. price using matplotlib to visualize the training data."
   ]
  },
  {
   "cell_type": "code",
   "execution_count": 19,
   "id": "3dba22b9",
   "metadata": {},
   "outputs": [
    {
     "data": {
      "image/png": "[encoded data removed]",
      "text/plain": [
       "<Figure size 800x500 with 1 Axes>"
      ]
     },
     "metadata": {},
     "output_type": "display_data"
    }
   ],
   "source": [
    "plt.figure(figsize=(8,5))\n",
    "\n",
    "plt.xlabel('Area (Sq ft)')\n",
    "plt.ylabel('Price (INR)')\n",
    "# Disable scientific notation on y-axis\n",
    "plt.ticklabel_format(style='plain', axis='y') \n",
    "plt.scatter(df['Area'], df['Price_INR'], color='red', marker='+')\n",
    "plt.title('Area vs Price')\n",
    "plt.show()"
   ]
  },
  {
   "cell_type": "markdown",
   "id": "936723e3",
   "metadata": {},
   "source": [
    "## Split Data into Training and Testing Sets\n",
    "\n",
    "Use `train_test_split` from `sklearn.model_selection` to split the data into training and testing sets (e.g., 80/20 split)."
   ]
  },
  {
   "cell_type": "code",
   "execution_count": 20,
   "id": "22b73b7e",
   "metadata": {},
   "outputs": [
    {
     "name": "stdout",
     "output_type": "stream",
     "text": [
      "Training set size: 48\n",
      "Test set size: 12\n"
     ]
    }
   ],
   "source": [
    "# Define features and target\n",
    "X = df[['Area']]\n",
    "y = df['Price_INR']\n",
    "\n",
    "# Split the data\n",
    "X_train, X_test, y_train, y_test = train_test_split(X, y, test_size=0.2, random_state=42)\n",
    "\n",
    "print(\"Training set size:\", X_train.shape[0])\n",
    "print(\"Test set size:\", X_test.shape[0])"
   ]
  },
  {
   "cell_type": "markdown",
   "id": "b74d13f5",
   "metadata": {},
   "source": [
    "### Initialize and Train Linear Regression Model\n",
    "\n",
    "Initialize a `LinearRegression` model from `scikit-learn` and `fit` it to the training data."
   ]
  },
  {
   "cell_type": "code",
   "execution_count": 21,
   "id": "c2fc6563",
   "metadata": {},
   "outputs": [
    {
     "data": {
      "text/html": [
       "<style>#sk-container-id-1 {\n",
       "  /* Definition of color scheme common for light and dark mode */\n",
       "  --sklearn-color-text: black;\n",
       "  --sklearn-color-line: gray;\n",
       "  /* Definition of color scheme for unfitted estimators */\n",
       "  --sklearn-color-unfitted-level-0: #fff5e6;\n",
       "  --sklearn-color-unfitted-level-1: #f6e4d2;\n",
       "  --sklearn-color-unfitted-level-2: #ffe0b3;\n",
       "  --sklearn-color-unfitted-level-3: chocolate;\n",
       "  /* Definition of color scheme for fitted estimators */\n",
       "  --sklearn-color-fitted-level-0: #f0f8ff;\n",
       "  --sklearn-color-fitted-level-1: #d4ebff;\n",
       "  --sklearn-color-fitted-level-2: #b3dbfd;\n",
       "  --sklearn-color-fitted-level-3: cornflowerblue;\n",
       "\n",
       "  /* Specific color for light theme */\n",
       "  --sklearn-color-text-on-default-background: var(--sg-text-color, var(--theme-code-foreground, var(--jp-content-font-color1, black)));\n",
       "  --sklearn-color-background: var(--sg-background-color, var(--theme-background, var(--jp-layout-color0, white)));\n",
       "  --sklearn-color-border-box: var(--sg-text-color, var(--theme-code-foreground, var(--jp-content-font-color1, black)));\n",
       "  --sklearn-color-icon: #696969;\n",
       "\n",
       "  @media (prefers-color-scheme: dark) {\n",
       "    /* Redefinition of color scheme for dark theme */\n",
       "    --sklearn-color-text-on-default-background: var(--sg-text-color, var(--theme-code-foreground, var(--jp-content-font-color1, white)));\n",
       "    --sklearn-color-background: var(--sg-background-color, var(--theme-background, var(--jp-layout-color0, #111)));\n",
       "    --sklearn-color-border-box: var(--sg-text-color, var(--theme-code-foreground, var(--jp-content-font-color1, white)));\n",
       "    --sklearn-color-icon: #878787;\n",
       "  }\n",
       "}\n",
       "\n",
       "#sk-container-id-1 {\n",
       "  color: var(--sklearn-color-text);\n",
       "}\n",
       "\n",
       "#sk-container-id-1 pre {\n",
       "  padding: 0;\n",
       "}\n",
       "\n",
       "#sk-container-id-1 input.sk-hidden--visually {\n",
       "  border: 0;\n",
       "  clip: rect(1px 1px 1px 1px);\n",
       "  clip: rect(1px, 1px, 1px, 1px);\n",
       "  height: 1px;\n",
       "  margin: -1px;\n",
       "  overflow: hidden;\n",
       "  padding: 0;\n",
       "  position: absolute;\n",
       "  width: 1px;\n",
       "}\n",
       "\n",
       "#sk-container-id-1 div.sk-dashed-wrapped {\n",
       "  border: 1px dashed var(--sklearn-color-line);\n",
       "  margin: 0 0.4em 0.5em 0.4em;\n",
       "  box-sizing: border-box;\n",
       "  padding-bottom: 0.4em;\n",
       "  background-color: var(--sklearn-color-background);\n",
       "}\n",
       "\n",
       "#sk-container-id-1 div.sk-container {\n",
       "  /* jupyter's `normalize.less` sets `[hidden] { display: none; }`\n",
       "     but bootstrap.min.css set `[hidden] { display: none !important; }`\n",
       "     so we also need the `!important` here to be able to override the\n",
       "     default hidden behavior on the sphinx rendered scikit-learn.org.\n",
       "     See: https://github.com/scikit-learn/scikit-learn/issues/21755 */\n",
       "  display: inline-block !important;\n",
       "  position: relative;\n",
       "}\n",
       "\n",
       "#sk-container-id-1 div.sk-text-repr-fallback {\n",
       "  display: none;\n",
       "}\n",
       "\n",
       "div.sk-parallel-item,\n",
       "div.sk-serial,\n",
       "div.sk-item {\n",
       "  /* draw centered vertical line to link estimators */\n",
       "  background-image: linear-gradient(var(--sklearn-color-text-on-default-background), var(--sklearn-color-text-on-default-background));\n",
       "  background-size: 2px 100%;\n",
       "  background-repeat: no-repeat;\n",
       "  background-position: center center;\n",
       "}\n",
       "\n",
       "/* Parallel-specific style estimator block */\n",
       "\n",
       "#sk-container-id-1 div.sk-parallel-item::after {\n",
       "  content: \"\";\n",
       "  width: 100%;\n",
       "  border-bottom: 2px solid var(--sklearn-color-text-on-default-background);\n",
       "  flex-grow: 1;\n",
       "}\n",
       "\n",
       "#sk-container-id-1 div.sk-parallel {\n",
       "  display: flex;\n",
       "  align-items: stretch;\n",
       "  justify-content: center;\n",
       "  background-color: var(--sklearn-color-background);\n",
       "  position: relative;\n",
       "}\n",
       "\n",
       "#sk-container-id-1 div.sk-parallel-item {\n",
       "  display: flex;\n",
       "  flex-direction: column;\n",
       "}\n",
       "\n",
       "#sk-container-id-1 div.sk-parallel-item:first-child::after {\n",
       "  align-self: flex-end;\n",
       "  width: 50%;\n",
       "}\n",
       "\n",
       "#sk-container-id-1 div.sk-parallel-item:last-child::after {\n",
       "  align-self: flex-start;\n",
       "  width: 50%;\n",
       "}\n",
       "\n",
       "#sk-container-id-1 div.sk-parallel-item:only-child::after {\n",
       "  width: 0;\n",
       "}\n",
       "\n",
       "/* Serial-specific style estimator block */\n",
       "\n",
       "#sk-container-id-1 div.sk-serial {\n",
       "  display: flex;\n",
       "  flex-direction: column;\n",
       "  align-items: center;\n",
       "  background-color: var(--sklearn-color-background);\n",
       "  padding-right: 1em;\n",
       "  padding-left: 1em;\n",
       "}\n",
       "\n",
       "\n",
       "/* Toggleable style: style used for estimator/Pipeline/ColumnTransformer box that is\n",
       "clickable and can be expanded/collapsed.\n",
       "- Pipeline and ColumnTransformer use this feature and define the default style\n",
       "- Estimators will overwrite some part of the style using the `sk-estimator` class\n",
       "*/\n",
       "\n",
       "/* Pipeline and ColumnTransformer style (default) */\n",
       "\n",
       "#sk-container-id-1 div.sk-toggleable {\n",
       "  /* Default theme specific background. It is overwritten whether we have a\n",
       "  specific estimator or a Pipeline/ColumnTransformer */\n",
       "  background-color: var(--sklearn-color-background);\n",
       "}\n",
       "\n",
       "/* Toggleable label */\n",
       "#sk-container-id-1 label.sk-toggleable__label {\n",
       "  cursor: pointer;\n",
       "  display: block;\n",
       "  width: 100%;\n",
       "  margin-bottom: 0;\n",
       "  padding: 0.5em;\n",
       "  box-sizing: border-box;\n",
       "  text-align: center;\n",
       "}\n",
       "\n",
       "#sk-container-id-1 label.sk-toggleable__label-arrow:before {\n",
       "  /* Arrow on the left of the label */\n",
       "  content: \"▸\";\n",
       "  float: left;\n",
       "  margin-right: 0.25em;\n",
       "  color: var(--sklearn-color-icon);\n",
       "}\n",
       "\n",
       "#sk-container-id-1 label.sk-toggleable__label-arrow:hover:before {\n",
       "  color: var(--sklearn-color-text);\n",
       "}\n",
       "\n",
       "/* Toggleable content - dropdown */\n",
       "\n",
       "#sk-container-id-1 div.sk-toggleable__content {\n",
       "  max-height: 0;\n",
       "  max-width: 0;\n",
       "  overflow: hidden;\n",
       "  text-align: left;\n",
       "  /* unfitted */\n",
       "  background-color: var(--sklearn-color-unfitted-level-0);\n",
       "}\n",
       "\n",
       "#sk-container-id-1 div.sk-toggleable__content.fitted {\n",
       "  /* fitted */\n",
       "  background-color: var(--sklearn-color-fitted-level-0);\n",
       "}\n",
       "\n",
       "#sk-container-id-1 div.sk-toggleable__content pre {\n",
       "  margin: 0.2em;\n",
       "  border-radius: 0.25em;\n",
       "  color: var(--sklearn-color-text);\n",
       "  /* unfitted */\n",
       "  background-color: var(--sklearn-color-unfitted-level-0);\n",
       "}\n",
       "\n",
       "#sk-container-id-1 div.sk-toggleable__content.fitted pre {\n",
       "  /* unfitted */\n",
       "  background-color: var(--sklearn-color-fitted-level-0);\n",
       "}\n",
       "\n",
       "#sk-container-id-1 input.sk-toggleable__control:checked~div.sk-toggleable__content {\n",
       "  /* Expand drop-down */\n",
       "  max-height: 200px;\n",
       "  max-width: 100%;\n",
       "  overflow: auto;\n",
       "}\n",
       "\n",
       "#sk-container-id-1 input.sk-toggleable__control:checked~label.sk-toggleable__label-arrow:before {\n",
       "  content: \"▾\";\n",
       "}\n",
       "\n",
       "/* Pipeline/ColumnTransformer-specific style */\n",
       "\n",
       "#sk-container-id-1 div.sk-label input.sk-toggleable__control:checked~label.sk-toggleable__label {\n",
       "  color: var(--sklearn-color-text);\n",
       "  background-color: var(--sklearn-color-unfitted-level-2);\n",
       "}\n",
       "\n",
       "#sk-container-id-1 div.sk-label.fitted input.sk-toggleable__control:checked~label.sk-toggleable__label {\n",
       "  background-color: var(--sklearn-color-fitted-level-2);\n",
       "}\n",
       "\n",
       "/* Estimator-specific style */\n",
       "\n",
       "/* Colorize estimator box */\n",
       "#sk-container-id-1 div.sk-estimator input.sk-toggleable__control:checked~label.sk-toggleable__label {\n",
       "  /* unfitted */\n",
       "  background-color: var(--sklearn-color-unfitted-level-2);\n",
       "}\n",
       "\n",
       "#sk-container-id-1 div.sk-estimator.fitted input.sk-toggleable__control:checked~label.sk-toggleable__label {\n",
       "  /* fitted */\n",
       "  background-color: var(--sklearn-color-fitted-level-2);\n",
       "}\n",
       "\n",
       "#sk-container-id-1 div.sk-label label.sk-toggleable__label,\n",
       "#sk-container-id-1 div.sk-label label {\n",
       "  /* The background is the default theme color */\n",
       "  color: var(--sklearn-color-text-on-default-background);\n",
       "}\n",
       "\n",
       "/* On hover, darken the color of the background */\n",
       "#sk-container-id-1 div.sk-label:hover label.sk-toggleable__label {\n",
       "  color: var(--sklearn-color-text);\n",
       "  background-color: var(--sklearn-color-unfitted-level-2);\n",
       "}\n",
       "\n",
       "/* Label box, darken color on hover, fitted */\n",
       "#sk-container-id-1 div.sk-label.fitted:hover label.sk-toggleable__label.fitted {\n",
       "  color: var(--sklearn-color-text);\n",
       "  background-color: var(--sklearn-color-fitted-level-2);\n",
       "}\n",
       "\n",
       "/* Estimator label */\n",
       "\n",
       "#sk-container-id-1 div.sk-label label {\n",
       "  font-family: monospace;\n",
       "  font-weight: bold;\n",
       "  display: inline-block;\n",
       "  line-height: 1.2em;\n",
       "}\n",
       "\n",
       "#sk-container-id-1 div.sk-label-container {\n",
       "  text-align: center;\n",
       "}\n",
       "\n",
       "/* Estimator-specific */\n",
       "#sk-container-id-1 div.sk-estimator {\n",
       "  font-family: monospace;\n",
       "  border: 1px dotted var(--sklearn-color-border-box);\n",
       "  border-radius: 0.25em;\n",
       "  box-sizing: border-box;\n",
       "  margin-bottom: 0.5em;\n",
       "  /* unfitted */\n",
       "  background-color: var(--sklearn-color-unfitted-level-0);\n",
       "}\n",
       "\n",
       "#sk-container-id-1 div.sk-estimator.fitted {\n",
       "  /* fitted */\n",
       "  background-color: var(--sklearn-color-fitted-level-0);\n",
       "}\n",
       "\n",
       "/* on hover */\n",
       "#sk-container-id-1 div.sk-estimator:hover {\n",
       "  /* unfitted */\n",
       "  background-color: var(--sklearn-color-unfitted-level-2);\n",
       "}\n",
       "\n",
       "#sk-container-id-1 div.sk-estimator.fitted:hover {\n",
       "  /* fitted */\n",
       "  background-color: var(--sklearn-color-fitted-level-2);\n",
       "}\n",
       "\n",
       "/* Specification for estimator info (e.g. \"i\" and \"?\") */\n",
       "\n",
       "/* Common style for \"i\" and \"?\" */\n",
       "\n",
       ".sk-estimator-doc-link,\n",
       "a:link.sk-estimator-doc-link,\n",
       "a:visited.sk-estimator-doc-link {\n",
       "  float: right;\n",
       "  font-size: smaller;\n",
       "  line-height: 1em;\n",
       "  font-family: monospace;\n",
       "  background-color: var(--sklearn-color-background);\n",
       "  border-radius: 1em;\n",
       "  height: 1em;\n",
       "  width: 1em;\n",
       "  text-decoration: none !important;\n",
       "  margin-left: 1ex;\n",
       "  /* unfitted */\n",
       "  border: var(--sklearn-color-unfitted-level-1) 1pt solid;\n",
       "  color: var(--sklearn-color-unfitted-level-1);\n",
       "}\n",
       "\n",
       ".sk-estimator-doc-link.fitted,\n",
       "a:link.sk-estimator-doc-link.fitted,\n",
       "a:visited.sk-estimator-doc-link.fitted {\n",
       "  /* fitted */\n",
       "  border: var(--sklearn-color-fitted-level-1) 1pt solid;\n",
       "  color: var(--sklearn-color-fitted-level-1);\n",
       "}\n",
       "\n",
       "/* On hover */\n",
       "div.sk-estimator:hover .sk-estimator-doc-link:hover,\n",
       ".sk-estimator-doc-link:hover,\n",
       "div.sk-label-container:hover .sk-estimator-doc-link:hover,\n",
       ".sk-estimator-doc-link:hover {\n",
       "  /* unfitted */\n",
       "  background-color: var(--sklearn-color-unfitted-level-3);\n",
       "  color: var(--sklearn-color-background);\n",
       "  text-decoration: none;\n",
       "}\n",
       "\n",
       "div.sk-estimator.fitted:hover .sk-estimator-doc-link.fitted:hover,\n",
       ".sk-estimator-doc-link.fitted:hover,\n",
       "div.sk-label-container:hover .sk-estimator-doc-link.fitted:hover,\n",
       ".sk-estimator-doc-link.fitted:hover {\n",
       "  /* fitted */\n",
       "  background-color: var(--sklearn-color-fitted-level-3);\n",
       "  color: var(--sklearn-color-background);\n",
       "  text-decoration: none;\n",
       "}\n",
       "\n",
       "/* Span, style for the box shown on hovering the info icon */\n",
       ".sk-estimator-doc-link span {\n",
       "  display: none;\n",
       "  z-index: 9999;\n",
       "  position: relative;\n",
       "  font-weight: normal;\n",
       "  right: .2ex;\n",
       "  padding: .5ex;\n",
       "  margin: .5ex;\n",
       "  width: min-content;\n",
       "  min-width: 20ex;\n",
       "  max-width: 50ex;\n",
       "  color: var(--sklearn-color-text);\n",
       "  box-shadow: 2pt 2pt 4pt #999;\n",
       "  /* unfitted */\n",
       "  background: var(--sklearn-color-unfitted-level-0);\n",
       "  border: .5pt solid var(--sklearn-color-unfitted-level-3);\n",
       "}\n",
       "\n",
       ".sk-estimator-doc-link.fitted span {\n",
       "  /* fitted */\n",
       "  background: var(--sklearn-color-fitted-level-0);\n",
       "  border: var(--sklearn-color-fitted-level-3);\n",
       "}\n",
       "\n",
       ".sk-estimator-doc-link:hover span {\n",
       "  display: block;\n",
       "}\n",
       "\n",
       "/* \"?\"-specific style due to the `<a>` HTML tag */\n",
       "\n",
       "#sk-container-id-1 a.estimator_doc_link {\n",
       "  float: right;\n",
       "  font-size: 1rem;\n",
       "  line-height: 1em;\n",
       "  font-family: monospace;\n",
       "  background-color: var(--sklearn-color-background);\n",
       "  border-radius: 1rem;\n",
       "  height: 1rem;\n",
       "  width: 1rem;\n",
       "  text-decoration: none;\n",
       "  /* unfitted */\n",
       "  color: var(--sklearn-color-unfitted-level-1);\n",
       "  border: var(--sklearn-color-unfitted-level-1) 1pt solid;\n",
       "}\n",
       "\n",
       "#sk-container-id-1 a.estimator_doc_link.fitted {\n",
       "  /* fitted */\n",
       "  border: var(--sklearn-color-fitted-level-1) 1pt solid;\n",
       "  color: var(--sklearn-color-fitted-level-1);\n",
       "}\n",
       "\n",
       "/* On hover */\n",
       "#sk-container-id-1 a.estimator_doc_link:hover {\n",
       "  /* unfitted */\n",
       "  background-color: var(--sklearn-color-unfitted-level-3);\n",
       "  color: var(--sklearn-color-background);\n",
       "  text-decoration: none;\n",
       "}\n",
       "\n",
       "#sk-container-id-1 a.estimator_doc_link.fitted:hover {\n",
       "  /* fitted */\n",
       "  background-color: var(--sklearn-color-fitted-level-3);\n",
       "}\n",
       "</style><div id=\"sk-container-id-1\" class=\"sk-top-container\"><div class=\"sk-text-repr-fallback\"><pre>LinearRegression()</pre><b>In a Jupyter environment, please rerun this cell to show the HTML representation or trust the notebook. <br />On GitHub, the HTML representation is unable to render, please try loading this page with nbviewer.org.</b></div><div class=\"sk-container\" hidden><div class=\"sk-item\"><div class=\"sk-estimator fitted sk-toggleable\"><input class=\"sk-toggleable__control sk-hidden--visually\" id=\"sk-estimator-id-1\" type=\"checkbox\" checked><label for=\"sk-estimator-id-1\" class=\"sk-toggleable__label fitted sk-toggleable__label-arrow fitted\">&nbsp;&nbsp;LinearRegression<a class=\"sk-estimator-doc-link fitted\" rel=\"noreferrer\" target=\"_blank\" href=\"https://scikit-learn.org/1.5/modules/generated/sklearn.linear_model.LinearRegression.html\">?<span>Documentation for LinearRegression</span></a><span class=\"sk-estimator-doc-link fitted\">i<span>Fitted</span></span></label><div class=\"sk-toggleable__content fitted\"><pre>LinearRegression()</pre></div> </div></div></div></div>"
      ],
      "text/plain": [
       "LinearRegression()"
      ]
     },
     "execution_count": 21,
     "metadata": {},
     "output_type": "execute_result"
    }
   ],
   "source": [
    "# Initialize the model\n",
    "model = linear_model.LinearRegression()\n",
    "\n",
    "# Fit the model\n",
    "model.fit(X_train, y_train)"
   ]
  },
  {
   "cell_type": "markdown",
   "id": "5cdb7982",
   "metadata": {},
   "source": [
    "### Make Predictions on Test Set\n",
    "\n",
    "Use the trained model to predict prices for the test set."
   ]
  },
  {
   "cell_type": "code",
   "execution_count": 22,
   "id": "e9a04203",
   "metadata": {},
   "outputs": [
    {
     "data": {
      "text/plain": [
       "array([ 1832400.74174528,  3309912.33691751, 12470484.22698537,\n",
       "       15130005.09829539,  5673930.88919309, 17789525.96960541,\n",
       "       11583977.26988203, 16016512.05539872,  5378428.57015864,\n",
       "       18676032.92670875, 15425507.41732983, 16607516.69346762])"
      ]
     },
     "execution_count": 22,
     "metadata": {},
     "output_type": "execute_result"
    }
   ],
   "source": [
    "# Predict on the test set\n",
    "y_pred = model.predict(X_test)\n",
    "y_pred"
   ]
  },
  {
   "cell_type": "markdown",
   "id": "0c1a69b5",
   "metadata": {},
   "source": [
    "### Evaluate Model Performance (R² Score)\n",
    "\n",
    "Use the model's `score()` method to calculate the R² score on the test set."
   ]
  },
  {
   "cell_type": "code",
   "execution_count": 23,
   "id": "b9327bff",
   "metadata": {},
   "outputs": [
    {
     "name": "stdout",
     "output_type": "stream",
     "text": [
      "R² score on test set: 0.9624\n"
     ]
    }
   ],
   "source": [
    "# R² score\n",
    "r2 = model.score(X_test, y_test)\n",
    "print(f\"R² score on test set: {r2:.4f}\")"
   ]
  },
  {
   "cell_type": "markdown",
   "id": "278e2c76",
   "metadata": {},
   "source": [
    "### Calculate Key Statistical Metrics (MAE, MSE, RMSE)\n",
    "\n",
    "Use `sklearn.metrics` to calculate Mean Absolute Error (MAE), Mean Squared Error (MSE), and Root Mean Squared Error (RMSE) for the test predictions."
   ]
  },
  {
   "cell_type": "code",
   "execution_count": 24,
   "id": "a1feead1",
   "metadata": {},
   "outputs": [
    {
     "name": "stdout",
     "output_type": "stream",
     "text": [
      "Mean Absolute Error (MAE): 952250.86\n",
      "Mean Squared Error (MSE): 1343124400840.18\n",
      "Root Mean Squared Error (RMSE): 1158932.44\n"
     ]
    }
   ],
   "source": [
    "mae = metrics.mean_absolute_error(y_test, y_pred)\n",
    "mse = metrics.mean_squared_error(y_test, y_pred)\n",
    "rmse = np.sqrt(mse)\n",
    "\n",
    "print(f\"Mean Absolute Error (MAE): {mae:.2f}\")\n",
    "print(f\"Mean Squared Error (MSE): {mse:.2f}\")\n",
    "print(f\"Root Mean Squared Error (RMSE): {rmse:.2f}\")"
   ]
  },
  {
   "cell_type": "markdown",
   "id": "b32f96b8",
   "metadata": {},
   "source": [
    "These error metrics give a good sense of how a regression model is performing: \n",
    "\n",
    "* MAE (~₹9.5 lakh) means on average your predictions are off by about 9.5 lakh rupees.\n",
    "\n",
    "* MSE (~1.34 trillion) is the average squared error, penalizing bigger errors more heavily.\n",
    "\n",
    "* RMSE (~₹11.6 lakh) is the square root of MSE, in the original price units, and also tells you typical prediction error magnitude.\n",
    "\n",
    "**The errors are pretty high but expected given the variance and outliers in a dataset.**\n",
    "\n",
    "Outliers usually inflate MSE and RMSE a lot, so if you want better predictions on \"normal\" data, you might want to:\n",
    "\n",
    "* Try removing or treating outliers\n",
    "\n",
    "* Use robust regression methods\n",
    "\n",
    "* Log-transform the target variable (Price_INR) to stabilize variance"
   ]
  },
  {
   "cell_type": "markdown",
   "id": "c2006143",
   "metadata": {},
   "source": [
    "### Manual Prediction Calculation\n",
    "\n",
    "Manually calculate the predicted price using the linear equation and compare it to the model's prediction."
   ]
  },
  {
   "cell_type": "code",
   "execution_count": 25,
   "id": "5e2d57ee",
   "metadata": {},
   "outputs": [
    {
     "name": "stdout",
     "output_type": "stream",
     "text": [
      "Manual calculation for area 2500: 12174981.91\n",
      "Model prediction for area 2500: 12174981.91\n"
     ]
    }
   ],
   "source": [
    "area = 2500\n",
    "m = model.coef_[0]\n",
    "b = model.intercept_\n",
    "y_manual = m * area + b\n",
    "\n",
    "print(f\"Manual calculation for area {area}: {y_manual:.2f}\")\n",
    "print(f\"Model prediction for area {area}: {model.predict([[area]])[0]:.2f}\")"
   ]
  },
  {
   "cell_type": "markdown",
   "id": "95a4d72f",
   "metadata": {},
   "source": [
    "### Predict for Array of Values\n",
    "\n",
    "Use the trained model to predict prices for an array of area values loaded from a separate CSV file (new_areas.csv)."
   ]
  },
  {
   "cell_type": "code",
   "execution_count": 26,
   "id": "7c196904",
   "metadata": {},
   "outputs": [
    {
     "data": {
      "text/html": [
       "<div>\n",
       "<style scoped>\n",
       "    .dataframe tbody tr th:only-of-type {\n",
       "        vertical-align: middle;\n",
       "    }\n",
       "\n",
       "    .dataframe tbody tr th {\n",
       "        vertical-align: top;\n",
       "    }\n",
       "\n",
       "    .dataframe thead th {\n",
       "        text-align: right;\n",
       "    }\n",
       "</style>\n",
       "<table border=\"1\" class=\"dataframe\">\n",
       "  <thead>\n",
       "    <tr style=\"text-align: right;\">\n",
       "      <th></th>\n",
       "      <th>Area</th>\n",
       "    </tr>\n",
       "  </thead>\n",
       "  <tbody>\n",
       "    <tr>\n",
       "      <th>0</th>\n",
       "      <td>780</td>\n",
       "    </tr>\n",
       "    <tr>\n",
       "      <th>1</th>\n",
       "      <td>1125</td>\n",
       "    </tr>\n",
       "    <tr>\n",
       "      <th>2</th>\n",
       "      <td>1380</td>\n",
       "    </tr>\n",
       "    <tr>\n",
       "      <th>3</th>\n",
       "      <td>1650</td>\n",
       "    </tr>\n",
       "    <tr>\n",
       "      <th>4</th>\n",
       "      <td>1830</td>\n",
       "    </tr>\n",
       "  </tbody>\n",
       "</table>\n",
       "</div>"
      ],
      "text/plain": [
       "   Area\n",
       "0   780\n",
       "1  1125\n",
       "2  1380\n",
       "3  1650\n",
       "4  1830"
      ]
     },
     "execution_count": 26,
     "metadata": {},
     "output_type": "execute_result"
    }
   ],
   "source": [
    "# Load new areas for prediction\n",
    "new_areas = pd.read_csv(\"new_areas.csv\")\n",
    "new_areas.head()"
   ]
  },
  {
   "cell_type": "code",
   "execution_count": 27,
   "id": "7094287d",
   "metadata": {},
   "outputs": [
    {
     "data": {
      "text/plain": [
       "array([ 2009702.13316595,  4048668.13450363,  5555729.96157931,\n",
       "        7151442.48436532,  8215250.83288933,  9810963.35567534,\n",
       "       11288474.95084758, 12765986.54601981, 14243498.14119205,\n",
       "       15721009.73636428, 17198521.33153651, 18676032.92670875,\n",
       "       20153544.52188098, 21631056.11705322, 23108567.71222545])"
      ]
     },
     "execution_count": 27,
     "metadata": {},
     "output_type": "execute_result"
    }
   ],
   "source": [
    "# Predict prices for these areas\n",
    "predicted_prices = model.predict(new_areas)\n",
    "predicted_prices"
   ]
  },
  {
   "cell_type": "markdown",
   "id": "a4607335",
   "metadata": {},
   "source": [
    "### Add Predictions to Testing Data\n",
    "\n",
    "Add the predicted prices as a new column to the testing DataFrame."
   ]
  },
  {
   "cell_type": "code",
   "execution_count": 28,
   "id": "76c1a971",
   "metadata": {},
   "outputs": [
    {
     "data": {
      "text/html": [
       "<div>\n",
       "<style scoped>\n",
       "    .dataframe tbody tr th:only-of-type {\n",
       "        vertical-align: middle;\n",
       "    }\n",
       "\n",
       "    .dataframe tbody tr th {\n",
       "        vertical-align: top;\n",
       "    }\n",
       "\n",
       "    .dataframe thead th {\n",
       "        text-align: right;\n",
       "    }\n",
       "</style>\n",
       "<table border=\"1\" class=\"dataframe\">\n",
       "  <thead>\n",
       "    <tr style=\"text-align: right;\">\n",
       "      <th></th>\n",
       "      <th>Area</th>\n",
       "      <th>Predicted Prices</th>\n",
       "    </tr>\n",
       "  </thead>\n",
       "  <tbody>\n",
       "    <tr>\n",
       "      <th>0</th>\n",
       "      <td>780</td>\n",
       "      <td>2.009702e+06</td>\n",
       "    </tr>\n",
       "    <tr>\n",
       "      <th>1</th>\n",
       "      <td>1125</td>\n",
       "      <td>4.048668e+06</td>\n",
       "    </tr>\n",
       "    <tr>\n",
       "      <th>2</th>\n",
       "      <td>1380</td>\n",
       "      <td>5.555730e+06</td>\n",
       "    </tr>\n",
       "    <tr>\n",
       "      <th>3</th>\n",
       "      <td>1650</td>\n",
       "      <td>7.151442e+06</td>\n",
       "    </tr>\n",
       "    <tr>\n",
       "      <th>4</th>\n",
       "      <td>1830</td>\n",
       "      <td>8.215251e+06</td>\n",
       "    </tr>\n",
       "  </tbody>\n",
       "</table>\n",
       "</div>"
      ],
      "text/plain": [
       "   Area  Predicted Prices\n",
       "0   780      2.009702e+06\n",
       "1  1125      4.048668e+06\n",
       "2  1380      5.555730e+06\n",
       "3  1650      7.151442e+06\n",
       "4  1830      8.215251e+06"
      ]
     },
     "execution_count": 28,
     "metadata": {},
     "output_type": "execute_result"
    }
   ],
   "source": [
    "new_areas['Predicted Prices'] = predicted_prices\n",
    "new_areas.head()"
   ]
  },
  {
   "cell_type": "markdown",
   "id": "9e349f2d",
   "metadata": {},
   "source": [
    "### Save Predictions to CSV\n",
    "\n",
    "Save the testing DataFrame with predictions to a CSV file. (predicted_house_prices.csv)"
   ]
  },
  {
   "cell_type": "code",
   "execution_count": 29,
   "id": "c9a5d1f6",
   "metadata": {},
   "outputs": [
    {
     "name": "stdout",
     "output_type": "stream",
     "text": [
      "Predictions saved to 'predicted_house_prices.csv'\n"
     ]
    }
   ],
   "source": [
    "new_areas.to_csv('predicted_house_prices.csv', index=False)\n",
    "print(\"Predictions saved to 'predicted_house_prices.csv'\")"
   ]
  },
  {
   "cell_type": "markdown",
   "id": "4fb4a6f6",
   "metadata": {},
   "source": [
    "### Plot Model Predictions\n",
    "\n",
    "Plot the regression line along with the original training data to visualize the model's fit."
   ]
  },
  {
   "cell_type": "code",
   "execution_count": 30,
   "id": "40dc5332",
   "metadata": {},
   "outputs": [
    {
     "data": {
      "image/png": "[encoded data removed]",
      "text/plain": [
       "<Figure size 800x500 with 1 Axes>"
      ]
     },
     "metadata": {},
     "output_type": "display_data"
    }
   ],
   "source": [
    "plt.figure(figsize=(8,5))\n",
    "plt.xlabel('Area (sq ft)')\n",
    "plt.ylabel('Price (INR)')\n",
    "plt.scatter(df['Area'], df['Price_INR'], color='red', marker='+', label='Training Data')\n",
    "plt.plot(df['Area'], model.predict(df[['Area']]), color='blue', label='Regression Line')\n",
    "plt.legend()\n",
    "plt.title('Linear Regression Fit')\n",
    "plt.show()"
   ]
  },
  {
   "cell_type": "markdown",
   "id": "a68fc9fc",
   "metadata": {},
   "source": [
    "### **Exercise: Simple Linear Regression**\n",
    "\n",
    "#### Problem Statement\n",
    "\n",
    "You are given a dataset `exam_scores.csv` containing the number of study hours and corresponding exam scores for 50 students. Your task is to build a **Simple Linear Regression** model to predict the exam score based on the number of study hours.\n",
    "\n",
    "You should:\n",
    "- Load and explore the data\n",
    "- Visualize the data\n",
    "- Split the data into training and testing sets\n",
    "- Train a simple linear regression model\n",
    "- Evaluate the model using R², MAE, MSE, and RMSE\n",
    "- Visualize the regression line\n",
    "- Predict the exam score for a student who studied 8 hours\n",
    "\n",
    "---"
   ]
  },
  {
   "cell_type": "markdown",
   "id": "4c198289",
   "metadata": {},
   "source": [
    "* Download dataset : [exam_scores.csv](https://raw.githubusercontent.com/prakash-ukhalkar/ML/refs/heads/main/01_Simple%20Linear%20Regression_ML/Exercise_SLR/exam_scores.csv) \n",
    "* Solution : [Exercise - Simple Linear Regression](https://github.com/prakash-ukhalkar/ML/blob/main/01_Simple%20Linear%20Regression_ML/Exercise_SLR/01_Exercise_Linear_Regression_ML.ipynb)"
   ]
  }
 ],
 "metadata": {
  "kernelspec": {
   "display_name": "Python 3",
   "language": "python",
   "name": "python3"
  },
  "language_info": {
   "codemirror_mode": {
    "name": "ipython",
    "version": 3
   },
   "file_extension": ".py",
   "mimetype": "text/x-python",
   "name": "python",
   "nbconvert_exporter": "python",
   "pygments_lexer": "ipython3",
   "version": "3.13.0"
  }
 },
 "nbformat": 4,
 "nbformat_minor": 5
}
