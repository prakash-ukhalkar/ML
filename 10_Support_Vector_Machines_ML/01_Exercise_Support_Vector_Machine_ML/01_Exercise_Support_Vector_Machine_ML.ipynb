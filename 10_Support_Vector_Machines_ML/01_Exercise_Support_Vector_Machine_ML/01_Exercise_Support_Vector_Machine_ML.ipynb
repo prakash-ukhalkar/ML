{
  "cells": [
    {
      "cell_type": "markdown",
      "metadata": {},
      "source": [
        "### **Support Vector Machine (SVM) for Diabetes Prediction**\n",
        "\n",
        "### Problem Statement\n",
        "\n",
        "* Let's develop a classification model to predict whether a patient will develop diabetes. \n",
        "\n",
        "* We will use the Support Vector Machine (SVM) algorithm, a powerful classifier suitable for this task.\n",
        "\n",
        "* The dataset for this practice is the Pima Indians Diabetes Database, a real-world dataset from the UCI Machine Learning Repository.\n",
        "\n",
        "* Our goal is to train an SVM model, compare the performance of different kernels, and tune its hyperparameters to achieve the best possible accuracy. \n",
        "\n",
        "* We'll implement the solution, from data loading to model evaluation."
      ]
    },
    {
      "cell_type": "markdown",
      "metadata": {},
      "source": [
        "### Step 1: Import Necessary Libraries\n",
        "\n",
        "* We'll start by importing the essential libraries. `pandas` is for data manipulation, and the modules from `sklearn` will be used for modeling and evaluation."
      ]
    },
    {
      "cell_type": "code",
      "execution_count": 1,
      "metadata": {},
      "outputs": [],
      "source": [
        "# Import necessary libraries\n",
        "import pandas as pd\n",
        "from sklearn.model_selection import train_test_split\n",
        "from sklearn.svm import SVC\n",
        "from sklearn.metrics import accuracy_score, classification_report, confusion_matrix\n",
        "import seaborn as sns\n",
        "import matplotlib.pyplot as plt\n"
      ]
    },
    {
      "cell_type": "markdown",
      "metadata": {},
      "source": [
        "### Step 2: Load and Explore the Dataset\n",
        "\n",
        "* This dataset is not part of scikit-learn's built-in loaders, so we'll load it directly from a public URL. \n",
        "\n",
        "* The dataset contains several features related to health metrics and a binary outcome variable (0 for no diabetes, 1 for diabetes)."
      ]
    },
    {
      "cell_type": "code",
      "execution_count": 51,
      "metadata": {},
      "outputs": [
        {
          "data": {
            "text/html": [
              "<div>\n",
              "<style scoped>\n",
              "    .dataframe tbody tr th:only-of-type {\n",
              "        vertical-align: middle;\n",
              "    }\n",
              "\n",
              "    .dataframe tbody tr th {\n",
              "        vertical-align: top;\n",
              "    }\n",
              "\n",
              "    .dataframe thead th {\n",
              "        text-align: right;\n",
              "    }\n",
              "</style>\n",
              "<table border=\"1\" class=\"dataframe\">\n",
              "  <thead>\n",
              "    <tr style=\"text-align: right;\">\n",
              "      <th></th>\n",
              "      <th>pregnancies</th>\n",
              "      <th>glucose</th>\n",
              "      <th>blood_pressure</th>\n",
              "      <th>skin_thickness</th>\n",
              "      <th>insulin</th>\n",
              "      <th>bmi</th>\n",
              "      <th>diabetes_pedigree</th>\n",
              "      <th>age</th>\n",
              "      <th>outcome</th>\n",
              "    </tr>\n",
              "  </thead>\n",
              "  <tbody>\n",
              "    <tr>\n",
              "      <th>0</th>\n",
              "      <td>6</td>\n",
              "      <td>148</td>\n",
              "      <td>72</td>\n",
              "      <td>35</td>\n",
              "      <td>0</td>\n",
              "      <td>33.6</td>\n",
              "      <td>0.627</td>\n",
              "      <td>50</td>\n",
              "      <td>1</td>\n",
              "    </tr>\n",
              "    <tr>\n",
              "      <th>1</th>\n",
              "      <td>1</td>\n",
              "      <td>85</td>\n",
              "      <td>66</td>\n",
              "      <td>29</td>\n",
              "      <td>0</td>\n",
              "      <td>26.6</td>\n",
              "      <td>0.351</td>\n",
              "      <td>31</td>\n",
              "      <td>0</td>\n",
              "    </tr>\n",
              "    <tr>\n",
              "      <th>2</th>\n",
              "      <td>8</td>\n",
              "      <td>183</td>\n",
              "      <td>64</td>\n",
              "      <td>0</td>\n",
              "      <td>0</td>\n",
              "      <td>23.3</td>\n",
              "      <td>0.672</td>\n",
              "      <td>32</td>\n",
              "      <td>1</td>\n",
              "    </tr>\n",
              "    <tr>\n",
              "      <th>3</th>\n",
              "      <td>1</td>\n",
              "      <td>89</td>\n",
              "      <td>66</td>\n",
              "      <td>23</td>\n",
              "      <td>94</td>\n",
              "      <td>28.1</td>\n",
              "      <td>0.167</td>\n",
              "      <td>21</td>\n",
              "      <td>0</td>\n",
              "    </tr>\n",
              "    <tr>\n",
              "      <th>4</th>\n",
              "      <td>0</td>\n",
              "      <td>137</td>\n",
              "      <td>40</td>\n",
              "      <td>35</td>\n",
              "      <td>168</td>\n",
              "      <td>43.1</td>\n",
              "      <td>2.288</td>\n",
              "      <td>33</td>\n",
              "      <td>1</td>\n",
              "    </tr>\n",
              "  </tbody>\n",
              "</table>\n",
              "</div>"
            ],
            "text/plain": [
              "   pregnancies  glucose  blood_pressure  skin_thickness  insulin   bmi  \\\n",
              "0            6      148              72              35        0  33.6   \n",
              "1            1       85              66              29        0  26.6   \n",
              "2            8      183              64               0        0  23.3   \n",
              "3            1       89              66              23       94  28.1   \n",
              "4            0      137              40              35      168  43.1   \n",
              "\n",
              "   diabetes_pedigree  age  outcome  \n",
              "0              0.627   50        1  \n",
              "1              0.351   31        0  \n",
              "2              0.672   32        1  \n",
              "3              0.167   21        0  \n",
              "4              2.288   33        1  "
            ]
          },
          "execution_count": 51,
          "metadata": {},
          "output_type": "execute_result"
        }
      ],
      "source": [
        "url = \"https://raw.githubusercontent.com/jbrownlee/Datasets/master/pima-indians-diabetes.data.csv\"\n",
        "names = ['pregnancies', 'glucose', 'blood_pressure', 'skin_thickness', 'insulin', 'bmi', 'diabetes_pedigree', 'age', 'outcome']\n",
        "\n",
        "df = pd.read_csv(url, names=names)\n",
        "\n",
        "# Display the first 5 rows of the dataset\n",
        "df.head()\n"
      ]
    },
    {
      "cell_type": "code",
      "execution_count": 52,
      "id": "607f4948",
      "metadata": {},
      "outputs": [
        {
          "name": "stdout",
          "output_type": "stream",
          "text": [
            "\n",
            "Number of positive (1) and negative (0) outcomes:\n"
          ]
        },
        {
          "data": {
            "text/plain": [
              "outcome\n",
              "0    500\n",
              "1    268\n",
              "Name: count, dtype: int64"
            ]
          },
          "execution_count": 52,
          "metadata": {},
          "output_type": "execute_result"
        }
      ],
      "source": [
        "print(\"\\nNumber of positive (1) and negative (0) outcomes:\")\n",
        "df['outcome'].value_counts()"
      ]
    },
    {
      "cell_type": "code",
      "execution_count": 53,
      "id": "9a9a553e",
      "metadata": {},
      "outputs": [
        {
          "name": "stdout",
          "output_type": "stream",
          "text": [
            "<class 'pandas.core.frame.DataFrame'>\n",
            "RangeIndex: 768 entries, 0 to 767\n",
            "Data columns (total 9 columns):\n",
            " #   Column             Non-Null Count  Dtype  \n",
            "---  ------             --------------  -----  \n",
            " 0   pregnancies        768 non-null    int64  \n",
            " 1   glucose            768 non-null    int64  \n",
            " 2   blood_pressure     768 non-null    int64  \n",
            " 3   skin_thickness     768 non-null    int64  \n",
            " 4   insulin            768 non-null    int64  \n",
            " 5   bmi                768 non-null    float64\n",
            " 6   diabetes_pedigree  768 non-null    float64\n",
            " 7   age                768 non-null    int64  \n",
            " 8   outcome            768 non-null    int64  \n",
            "dtypes: float64(2), int64(7)\n",
            "memory usage: 54.1 KB\n"
          ]
        }
      ],
      "source": [
        "# Display the dataset information\n",
        "df.info()"
      ]
    },
    {
      "cell_type": "markdown",
      "metadata": {},
      "source": [
        "### Step 3: Split the Data\n",
        "\n",
        "* We'll split the data into a training set and a testing set. \n",
        "\n",
        "* The `outcome` column is our target variable (`y`), and the other columns are our features (`X`). \n",
        "\n",
        "* We'll use a standard 80/20 split."
      ]
    },
    {
      "cell_type": "code",
      "execution_count": 54,
      "metadata": {},
      "outputs": [],
      "source": [
        "X = df.drop('outcome', axis='columns')\n",
        "y = df['outcome']\n",
        "\n",
        "X_train, X_test, y_train, y_test = train_test_split(X, y, test_size=0.2, random_state=42)"
      ]
    },
    {
      "cell_type": "markdown",
      "metadata": {},
      "source": [
        "### Step 4: Train and Evaluate Models with Different Kernels\n",
        "\n",
        "* We will train two separate SVM models to compare the performance of different kernels. \n",
        "\n",
        "* The `linear` kernel is a good baseline, while the `rbf` (Radial Basis Function) kernel is a powerful choice for non-linear data."
      ]
    },
    {
      "cell_type": "code",
      "execution_count": 55,
      "metadata": {},
      "outputs": [
        {
          "name": "stdout",
          "output_type": "stream",
          "text": [
            "Linear Kernel Accuracy: 0.75\n"
          ]
        }
      ],
      "source": [
        "# Model 1: Linear Kernel\n",
        "linear_model = SVC(kernel='linear')\n",
        "\n",
        "# Train the model\n",
        "linear_model.fit(X_train, y_train)\n",
        "\n",
        "# Make predictions\n",
        "y_pred_linear = linear_model.predict(X_test)\n",
        "\n",
        "# Evaluate the model\n",
        "print(f'Linear Kernel Accuracy: {accuracy_score(y_test, y_pred_linear):.2f}')"
      ]
    },
    {
      "cell_type": "code",
      "execution_count": 56,
      "id": "476704bf",
      "metadata": {},
      "outputs": [
        {
          "name": "stdout",
          "output_type": "stream",
          "text": [
            "\n",
            "Linear Model Classification Report:\n",
            "\n",
            "              precision    recall  f1-score   support\n",
            "\n",
            "           0       0.81      0.81      0.81        99\n",
            "           1       0.65      0.65      0.65        55\n",
            "\n",
            "    accuracy                           0.75       154\n",
            "   macro avg       0.73      0.73      0.73       154\n",
            "weighted avg       0.75      0.75      0.75       154\n",
            "\n"
          ]
        }
      ],
      "source": [
        "print('\\nLinear Model Classification Report:\\n')\n",
        "print(classification_report(y_test, y_pred_linear))"
      ]
    },
    {
      "cell_type": "code",
      "execution_count": 57,
      "id": "610fd303",
      "metadata": {},
      "outputs": [
        {
          "name": "stdout",
          "output_type": "stream",
          "text": [
            "\n",
            "RBF Kernel Accuracy: 0.77\n"
          ]
        }
      ],
      "source": [
        "# Model 2: RBF Kernel\n",
        "rbf_model = SVC(kernel='rbf')\n",
        "\n",
        "# Train the model\n",
        "rbf_model.fit(X_train, y_train)\n",
        "\n",
        "# Make predictions\n",
        "y_pred_rbf = rbf_model.predict(X_test)\n",
        "\n",
        "# Evaluate the model\n",
        "print(f'\\nRBF Kernel Accuracy: {accuracy_score(y_test, y_pred_rbf):.2f}')"
      ]
    },
    {
      "cell_type": "code",
      "execution_count": 58,
      "id": "6a049b82",
      "metadata": {},
      "outputs": [
        {
          "name": "stdout",
          "output_type": "stream",
          "text": [
            "\n",
            "RBF Model Classification Report:\n",
            "\n",
            "              precision    recall  f1-score   support\n",
            "\n",
            "           0       0.78      0.88      0.83        99\n",
            "           1       0.72      0.56      0.63        55\n",
            "\n",
            "    accuracy                           0.77       154\n",
            "   macro avg       0.75      0.72      0.73       154\n",
            "weighted avg       0.76      0.77      0.76       154\n",
            "\n"
          ]
        }
      ],
      "source": [
        "print('\\nRBF Model Classification Report:\\n')\n",
        "print(classification_report(y_test, y_pred_rbf))"
      ]
    },
    {
      "cell_type": "markdown",
      "metadata": {},
      "source": [
        "### Step 5: Hyperparameter Tuning\n",
        "\n",
        "* The RBF kernel's performance can be further optimized by tuning its hyperparameters, `C` and `gamma`. \n",
        "\n",
        "* Experiment with different values to find the best possible accuracy on the test set. \n",
        "\n",
        "* Remember, a high `C` or `gamma` can sometimes lead to overfitting."
      ]
    },
    {
      "cell_type": "code",
      "execution_count": 59,
      "metadata": {},
      "outputs": [
        {
          "name": "stdout",
          "output_type": "stream",
          "text": [
            "Tuned Model Accuracy: 0.77\n"
          ]
        }
      ],
      "source": [
        "# Tune the parameters of the RBF model\n",
        "\n",
        "# Try setting a different C value and a different gamma value\n",
        "tuned_model = SVC(kernel='rbf', C=10, gamma='scale')\n",
        "\n",
        "# Train the tuned model\n",
        "tuned_model.fit(X_train, y_train)\n",
        "\n",
        "# Make predictions and evaluate\n",
        "y_pred_tuned = tuned_model.predict(X_test)\n",
        "accuracy_tuned = accuracy_score(y_test, y_pred_tuned)\n",
        "\n",
        "print(f'Tuned Model Accuracy: {accuracy_tuned:.2f}')"
      ]
    },
    {
      "cell_type": "code",
      "execution_count": 60,
      "id": "733991c3",
      "metadata": {},
      "outputs": [
        {
          "name": "stdout",
          "output_type": "stream",
          "text": [
            "\n",
            "Tuned Model Confusion Matrix:\n"
          ]
        },
        {
          "data": {
            "text/plain": [
              "array([[83, 16],\n",
              "       [20, 35]])"
            ]
          },
          "execution_count": 60,
          "metadata": {},
          "output_type": "execute_result"
        }
      ],
      "source": [
        "# Display the confusion matrix for the tuned model\n",
        "print('\\nTuned Model Confusion Matrix:')\n",
        "cm_tuned = confusion_matrix(y_test, y_pred_tuned)\n",
        "cm_tuned"
      ]
    },
    {
      "cell_type": "code",
      "execution_count": 61,
      "id": "38d9473c",
      "metadata": {},
      "outputs": [
        {
          "data": {
            "image/png": "[encoded data removed]",
            "text/plain": [
              "<Figure size 800x600 with 2 Axes>"
            ]
          },
          "metadata": {},
          "output_type": "display_data"
        }
      ],
      "source": [
        "# Visualize the confusion matrix for the tuned model\n",
        "plt.figure(figsize=(8, 6))\n",
        "sns.heatmap(cm_tuned, annot=True, fmt='d', cmap='Greens')\n",
        "plt.xlabel('Predicted')\n",
        "plt.ylabel('Actual')\n",
        "plt.title('Tuned Model Confusion Matrix')\n",
        "plt.show()"
      ]
    },
    {
      "cell_type": "code",
      "execution_count": 62,
      "id": "74658406",
      "metadata": {},
      "outputs": [
        {
          "name": "stdout",
          "output_type": "stream",
          "text": [
            "\n",
            "Tuned Model Classification Report:\n",
            "\n",
            "              precision    recall  f1-score   support\n",
            "\n",
            "           0       0.81      0.84      0.82        99\n",
            "           1       0.69      0.64      0.66        55\n",
            "\n",
            "    accuracy                           0.77       154\n",
            "   macro avg       0.75      0.74      0.74       154\n",
            "weighted avg       0.76      0.77      0.76       154\n",
            "\n"
          ]
        }
      ],
      "source": [
        "# Tuned Model Classification Report\n",
        "print('\\nTuned Model Classification Report:\\n')\n",
        "print(classification_report(y_test, y_pred_tuned))"
      ]
    },
    {
      "cell_type": "markdown",
      "metadata": {},
      "source": [
        "### Summary\n",
        "\n",
        "* In this notebook, we've successfully applied the SVM algorithm to the diabetes prediction problem. \n",
        "\n",
        "* We performed crucial steps like data loading from an external source, training models with different kernels, and evaluating their performance. \n",
        "\n",
        "* We likely observed that SVM can be a very effective tool for this type of binary classification problem, and that tuning hyperparameters is key to achieving optimal results.\n",
        "\n",
        "---"
      ]
    }
  ],
  "metadata": {
    "kernelspec": {
      "display_name": "Python 3",
      "language": "python",
      "name": "python3"
    },
    "language_info": {
      "codemirror_mode": {
        "name": "ipython",
        "version": 3
      },
      "file_extension": ".py",
      "mimetype": "text/x-python",
      "name": "python",
      "nbconvert_exporter": "python",
      "pygments_lexer": "ipython3",
      "version": "3.13.0"
    }
  },
  "nbformat": 4,
  "nbformat_minor": 5
}
