{
 "cells": [
  {
   "cell_type": "markdown",
   "metadata": {},
   "source": [
    "### **Exercise - Decision Tree Classifier for Credit Risk Prediction**\n",
    "\n",
    "#### Problem Statement\n",
    "\n",
    "* Develop a Machine Learning Classification Model that can assess the credit risk of loan applicants. \n",
    "\n",
    "* The goal is to predict whether an applicant is **'High Risk'** (1) or **'Low Risk'** (0) based on their financial and personal information. \n",
    "\n",
    "* You will use a **Decision Tree** model for this task because its transparent, flowchart-like structure makes it easy to explain the reasons behind a loan approval or denial to stakeholders and regulators.\n",
    "\n",
    "### Necessary Steps to be Performed \n",
    "\n",
    "1.  **Import Libraries, Load and Explore the Dataset**: Import the necessary libraries, Load and Expore the dataset for credit risk analysis.\n",
    "2.  **Data Preprocessing**: Prepare the data for the model by converting categorical features into a numerical format.\n",
    "3.  **Define Features and Target**: Separate the dataset into feature variables (`X`) and the target variable (`y`).\n",
    "4.  **Split Data**: Divide the data into a training set and a testing set.\n",
    "5.  **Create and Train Model**: Instantiate a `DecisionTreeClassifier` and train it on the training data.\n",
    "6.  **Evaluate Model Performance**: Test the model's accuracy on the unseen data.\n",
    "7.  **Visualize the Decision Tree**: Plot the trained model to understand its decision-making logic.\n",
    "8.  **Make Predictions**: Use the model to predict the credit risk for a new applicant.\n"
   ]
  },
  {
   "cell_type": "markdown",
   "metadata": {},
   "source": [
    "### Step 1: Import Libraries and Create Dataset\n",
    "\n",
    "* First, we'll import the essential libraries and then load the dataset for credit risk analysis."
   ]
  },
  {
   "cell_type": "code",
   "execution_count": 2,
   "metadata": {},
   "outputs": [],
   "source": [
    "# Import the necessary libraries\n",
    "import pandas as pd\n",
    "import numpy as np\n",
    "from sklearn.model_selection import train_test_split\n",
    "from sklearn.tree import DecisionTreeClassifier, plot_tree\n",
    "from sklearn.preprocessing import LabelEncoder\n",
    "import matplotlib.pyplot as plt"
   ]
  },
  {
   "cell_type": "code",
   "execution_count": 3,
   "id": "0b9f7f85",
   "metadata": {},
   "outputs": [
    {
     "name": "stdout",
     "output_type": "stream",
     "text": [
      "--- First 5 rows of the dataset ---\n"
     ]
    },
    {
     "data": {
      "text/html": [
       "<div>\n",
       "<style scoped>\n",
       "    .dataframe tbody tr th:only-of-type {\n",
       "        vertical-align: middle;\n",
       "    }\n",
       "\n",
       "    .dataframe tbody tr th {\n",
       "        vertical-align: top;\n",
       "    }\n",
       "\n",
       "    .dataframe thead th {\n",
       "        text-align: right;\n",
       "    }\n",
       "</style>\n",
       "<table border=\"1\" class=\"dataframe\">\n",
       "  <thead>\n",
       "    <tr style=\"text-align: right;\">\n",
       "      <th></th>\n",
       "      <th>age</th>\n",
       "      <th>income</th>\n",
       "      <th>credit_history</th>\n",
       "      <th>loan_amount</th>\n",
       "      <th>credit_risk</th>\n",
       "    </tr>\n",
       "  </thead>\n",
       "  <tbody>\n",
       "    <tr>\n",
       "      <th>0</th>\n",
       "      <td>53</td>\n",
       "      <td>87</td>\n",
       "      <td>Fair</td>\n",
       "      <td>22</td>\n",
       "      <td>0</td>\n",
       "    </tr>\n",
       "    <tr>\n",
       "      <th>1</th>\n",
       "      <td>39</td>\n",
       "      <td>51</td>\n",
       "      <td>Good</td>\n",
       "      <td>9</td>\n",
       "      <td>0</td>\n",
       "    </tr>\n",
       "    <tr>\n",
       "      <th>2</th>\n",
       "      <td>32</td>\n",
       "      <td>108</td>\n",
       "      <td>Good</td>\n",
       "      <td>29</td>\n",
       "      <td>0</td>\n",
       "    </tr>\n",
       "    <tr>\n",
       "      <th>3</th>\n",
       "      <td>45</td>\n",
       "      <td>76</td>\n",
       "      <td>Good</td>\n",
       "      <td>6</td>\n",
       "      <td>0</td>\n",
       "    </tr>\n",
       "    <tr>\n",
       "      <th>4</th>\n",
       "      <td>43</td>\n",
       "      <td>71</td>\n",
       "      <td>Good</td>\n",
       "      <td>14</td>\n",
       "      <td>0</td>\n",
       "    </tr>\n",
       "  </tbody>\n",
       "</table>\n",
       "</div>"
      ],
      "text/plain": [
       "   age  income credit_history  loan_amount  credit_risk\n",
       "0   53      87           Fair           22            0\n",
       "1   39      51           Good            9            0\n",
       "2   32     108           Good           29            0\n",
       "3   45      76           Good            6            0\n",
       "4   43      71           Good           14            0"
      ]
     },
     "execution_count": 3,
     "metadata": {},
     "output_type": "execute_result"
    }
   ],
   "source": [
    "# Load the data\n",
    "df = pd.read_csv('credit_risk.csv')\n",
    "\n",
    "print(\"--- First 5 rows of the dataset ---\")\n",
    "df.head()"
   ]
  },
  {
   "cell_type": "code",
   "execution_count": 4,
   "id": "7a5f19af",
   "metadata": {},
   "outputs": [
    {
     "name": "stdout",
     "output_type": "stream",
     "text": [
      "\n",
      "--- Dataset info ---\n",
      "<class 'pandas.core.frame.DataFrame'>\n",
      "RangeIndex: 200 entries, 0 to 199\n",
      "Data columns (total 5 columns):\n",
      " #   Column          Non-Null Count  Dtype \n",
      "---  ------          --------------  ----- \n",
      " 0   age             200 non-null    int64 \n",
      " 1   income          200 non-null    int64 \n",
      " 2   credit_history  200 non-null    object\n",
      " 3   loan_amount     200 non-null    int64 \n",
      " 4   credit_risk     200 non-null    int64 \n",
      "dtypes: int64(4), object(1)\n",
      "memory usage: 7.9+ KB\n"
     ]
    }
   ],
   "source": [
    "print(\"\\n--- Dataset info ---\")\n",
    "df.info()"
   ]
  },
  {
   "cell_type": "markdown",
   "metadata": {},
   "source": [
    "### **Step 2: Data Preprocessing**\n",
    "\n",
    "Decision Tree models in scikit-learn work with numerical data. Our dataset contains a categorical feature, `credit_history`, which needs to be converted into a numerical format. We will use `LabelEncoder` to transform 'Good', 'Fair', and 'Poor' into numerical values."
   ]
  },
  {
   "cell_type": "code",
   "execution_count": null,
   "metadata": {},
   "outputs": [],
   "source": [
    "# Create a LabelEncoder instance\n",
    "le_credit_history = LabelEncoder()\n",
    "\n",
    "# Apply LabelEncoder to the 'credit_history' column\n",
    "df['credit_history_n'] = le_credit_history.fit_transform(df['credit_history'])\n",
    "\n",
    "# Display the DataFrame with the new numerical column\n",
    "print(\"--- DataFrame after Label Encoding ---\")\n",
    "print(df.head())\n"
   ]
  },
  {
   "cell_type": "markdown",
   "metadata": {},
   "source": [
    "### **Step 3: Define Features and Target**\n",
    "\n",
    "We now separate our data into features (`X`) and the target variable (`y`). The features will be the numerical columns we use to make predictions, and the target will be the `credit_risk` column we want to predict."
   ]
  },
  {
   "cell_type": "code",
   "execution_count": null,
   "metadata": {},
   "outputs": [],
   "source": [
    "# Define features (X) using the numerical columns\n",
    "X = df[['age', 'income', 'credit_history_n', 'loan_amount']]\n",
    "y = df['credit_risk']\n",
    "\n",
    "print(\"Features (X) shape:\", X.shape)\n",
    "print(\"Target (y) shape:\", y.shape)"
   ]
  },
  {
   "cell_type": "markdown",
   "metadata": {},
   "source": [
    "### **Step 4: Split Data into Training and Testing Sets**\n",
    "\n",
    "To evaluate our model's performance on unseen data, we'll split the dataset into a training set (80%) and a testing set (20%)."
   ]
  },
  {
   "cell_type": "code",
   "execution_count": null,
   "metadata": {},
   "outputs": [],
   "source": [
    "X_train, X_test, y_train, y_test = train_test_split(X, y, test_size=0.2, random_state=42)\n",
    "\n",
    "print(f\"Training data size: {len(X_train)}\")\n",
    "print(f\"Testing data size: {len(X_test)}\")"
   ]
  },
  {
   "cell_type": "markdown",
   "metadata": {},
   "source": [
    "### **Step 5: Create and Train the Model**\n",
    "\n",
    "We'll create an instance of the `DecisionTreeClassifier` and use the `fit()` method to train it. To make the tree simple and easy to interpret, we will limit its `max_depth` to 3."
   ]
  },
  {
   "cell_type": "code",
   "execution_count": null,
   "metadata": {},
   "outputs": [],
   "source": [
    "# Create a Decision Tree Classifier instance with a max depth of 3\n",
    "model = DecisionTreeClassifier(max_depth=3, random_state=42)\n",
    "\n",
    "# Fit the model to the training data\n",
    "model.fit(X_train, y_train)\n",
    "\n",
    "print(\"Model training complete.\")"
   ]
  },
  {
   "cell_type": "markdown",
   "metadata": {},
   "source": [
    "### **Step 6: Evaluate Model Performance**\n",
    "\n",
    "After training, we use the `score()` method to calculate the model's accuracy on the testing data. A high accuracy score indicates that our model has successfully learned the patterns in the data."
   ]
  },
  {
   "cell_type": "code",
   "execution_count": null,
   "metadata": {},
   "outputs": [],
   "source": [
    "accuracy = model.score(X_test, y_test)\n",
    "print(f\"Model Accuracy on Test Data: {accuracy:.2f}\")"
   ]
  },
  {
   "cell_type": "markdown",
   "metadata": {},
   "source": [
    "### **Step 7: Visualize the Decision Tree**\n",
    "\n",
    "The Decision Tree's greatest strength is its interpretability. By visualizing the tree, we can see the exact features and thresholds the model uses to make its decisions."
   ]
  },
  {
   "cell_type": "code",
   "execution_count": null,
   "metadata": {},
   "outputs": [],
   "source": [
    "plt.figure(figsize=(25, 15))\n",
    "plot_tree(model, \n",
    "          filled=True, \n",
    "          rounded=True, \n",
    "          feature_names=X.columns, \n",
    "          class_names=['Low Risk', 'High Risk'], \n",
    "          fontsize=12)\n",
    "plt.title('Decision Tree for Credit Risk Prediction')\n",
    "plt.show()"
   ]
  },
  {
   "cell_type": "markdown",
   "metadata": {},
   "source": [
    "### **Step 8: Make Predictions for a New Applicant**\n",
    "\n",
    "Finally, we can use our trained model to predict the credit risk for a new, hypothetical loan applicant."
   ]
  },
  {
   "cell_type": "code",
   "execution_count": null,
   "metadata": {},
   "outputs": [],
   "source": [
    "# Create a hypothetical new applicant's data\n",
    "# Features: age=30, income=65, credit_history=Fair (n=0), loan_amount=35\n",
    "new_applicant = pd.DataFrame({\n",
    "    'age': [30],\n",
    "    'income': [65],\n",
    "    'credit_history_n': [0],\n",
    "    'loan_amount': [35]\n",
    "})\n",
    "\n",
    "# Make a prediction\n",
    "prediction = model.predict(new_applicant)\n",
    "\n",
    "if prediction[0] == 1:\n",
    "    print(\"This applicant is predicted to be HIGH RISK.\")\n",
    "else:\n",
    "    print(\"This applicant is predicted to be LOW RISK.\")"
   ]
  },
  {
   "cell_type": "markdown",
   "metadata": {},
   "source": [
    "### **Summary of Outcomes**\n",
    "\n",
    "In this notebook, you successfully built and trained a Decision Tree classifier to predict credit risk. You were able to: \n",
    "\n",
    "* **Handle Categorical Data**: You used `LabelEncoder` to transform a categorical feature into a numerical one, a common step in data preprocessing. \n",
    "* **Understand the Logic**: By visualizing the tree, you can see the clear rules the model uses. For example, a poor credit history (`credit_history_n=2`) might be a strong indicator of high risk. \n",
    "* **Evaluate Performance**: You calculated an accuracy score to measure the model's effectiveness on unseen data. \n",
    "* **Make Predictions**: You used the trained model to make a prediction for a new applicant, demonstrating its practical application in a business context. \n",
    "\n",
    "This exercise highlights the interpretability and power of Decision Trees for classification problems."
   ]
  }
 ],
 "metadata": {
  "kernelspec": {
   "display_name": "Python 3",
   "language": "python",
   "name": "python3"
  },
  "language_info": {
   "codemirror_mode": {
    "name": "ipython",
    "version": 3
   },
   "file_extension": ".py",
   "mimetype": "text/x-python",
   "name": "python",
   "nbconvert_exporter": "python",
   "pygments_lexer": "ipython3",
   "version": "3.13.0"
  }
 },
 "nbformat": 4,
 "nbformat_minor": 5
}
